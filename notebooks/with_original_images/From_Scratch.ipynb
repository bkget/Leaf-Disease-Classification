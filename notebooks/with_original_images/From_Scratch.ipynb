{
 "cells": [
  {
   "cell_type": "markdown",
   "metadata": {
    "id": "lxzWCz1vMrRd"
   },
   "source": [
    "## From Scratch Learning with Segmented Images"
   ]
  },
  {
   "cell_type": "code",
   "execution_count": 2,
   "metadata": {
    "id": "oJgHrgYTMrRm"
   },
   "outputs": [],
   "source": [
    "from tensorflow.compat.v1 import ConfigProto\n",
    "from tensorflow.compat.v1 import InteractiveSession\n",
    "\n",
    "config = ConfigProto()\n",
    "config.gpu_options.per_process_gpu_memory_fraction = 0.2\n",
    "config.gpu_options.allow_growth = True\n",
    "session = InteractiveSession(config=config)"
   ]
  },
  {
   "cell_type": "code",
   "execution_count": 3,
   "metadata": {
    "id": "TNmnYUzqMrRn"
   },
   "outputs": [],
   "source": [
    "# import the libraries as shown below\n",
    "\n",
    "from tensorflow.keras.layers import Conv2D, MaxPool2D, MaxPool2D, Dropout, Dense, Flatten\n",
    "from tensorflow.keras.preprocessing.image import ImageDataGenerator,load_img\n",
    "from sklearn.metrics import classification_report, confusion_matrix\n",
    "from tensorflow.keras.models import Model, Sequential \n",
    "from tensorflow.keras import backend as K\n",
    "import matplotlib.pyplot as plt\n",
    "import tensorflow as tf\n",
    "from glob import glob\n",
    "import numpy as np\n",
    "import itertools"
   ]
  },
  {
   "cell_type": "code",
   "execution_count": 5,
   "metadata": {
    "id": "EKdLKBcvHRqE"
   },
   "outputs": [],
   "source": [
    "# re-size all the images to this\n",
    "IMAGE_SIZE = [224, 224]\n",
    "\n",
    "train_path = '../data/dataset_original/'\n",
    "val_path = '../data/dataset_original/'"
   ]
  },
  {
   "cell_type": "code",
   "execution_count": 6,
   "metadata": {
    "colab": {
     "base_uri": "https://localhost:8080/"
    },
    "id": "BPVDvD4XHTg0",
    "outputId": "78bf1147-ecb2-4da5-bf32-dc9e88ad044c"
   },
   "outputs": [
    {
     "name": "stdout",
     "output_type": "stream",
     "text": [
      "Model: \"sequential\"\n",
      "_________________________________________________________________\n",
      "Layer (type)                 Output Shape              Param #   \n",
      "=================================================================\n",
      "conv2d (Conv2D)              (None, 224, 224, 32)      896       \n",
      "_________________________________________________________________\n",
      "conv2d_1 (Conv2D)            (None, 224, 224, 32)      9248      \n",
      "_________________________________________________________________\n",
      "max_pooling2d (MaxPooling2D) (None, 112, 112, 32)      0         \n",
      "_________________________________________________________________\n",
      "conv2d_2 (Conv2D)            (None, 112, 112, 64)      18496     \n",
      "_________________________________________________________________\n",
      "conv2d_3 (Conv2D)            (None, 112, 112, 64)      36928     \n",
      "_________________________________________________________________\n",
      "max_pooling2d_1 (MaxPooling2 (None, 56, 56, 64)        0         \n",
      "_________________________________________________________________\n",
      "conv2d_4 (Conv2D)            (None, 56, 56, 64)        36928     \n",
      "_________________________________________________________________\n",
      "conv2d_5 (Conv2D)            (None, 56, 56, 32)        18464     \n",
      "_________________________________________________________________\n",
      "max_pooling2d_2 (MaxPooling2 (None, 28, 28, 32)        0         \n",
      "_________________________________________________________________\n",
      "conv2d_6 (Conv2D)            (None, 28, 28, 64)        18496     \n",
      "_________________________________________________________________\n",
      "conv2d_7 (Conv2D)            (None, 28, 28, 64)        36928     \n",
      "_________________________________________________________________\n",
      "max_pooling2d_3 (MaxPooling2 (None, 14, 14, 64)        0         \n",
      "_________________________________________________________________\n",
      "dropout (Dropout)            (None, 14, 14, 64)        0         \n",
      "_________________________________________________________________\n",
      "flatten (Flatten)            (None, 12544)             0         \n",
      "_________________________________________________________________\n",
      "dense (Dense)                (None, 1024)              12846080  \n",
      "_________________________________________________________________\n",
      "dense_1 (Dense)              (None, 1024)              1049600   \n",
      "_________________________________________________________________\n",
      "dropout_1 (Dropout)          (None, 1024)              0         \n",
      "_________________________________________________________________\n",
      "dense_2 (Dense)              (None, 4)                 4100      \n",
      "=================================================================\n",
      "Total params: 14,076,164\n",
      "Trainable params: 14,076,164\n",
      "Non-trainable params: 0\n",
      "_________________________________________________________________\n"
     ]
    }
   ],
   "source": [
    "num_classes = 4\n",
    "input_shape = (224,224,3)\n",
    "chanDim = -1\n",
    "if K.image_data_format() == \"channels_first\":\n",
    "    inputShape =  (3, 224, 224)\n",
    "    chanDim = 1\n",
    "\n",
    "my_model= Sequential()\n",
    "my_model.add(Conv2D(32, kernel_size=(3, 3),activation='relu',padding = 'Same',input_shape=input_shape))\n",
    "my_model.add(Conv2D(32,kernel_size=(3, 3), activation='relu',padding = 'Same',))\n",
    "my_model.add(MaxPool2D(pool_size = (2, 2)))\n",
    "\n",
    "my_model.add(Conv2D(64, (3, 3), activation='relu',padding = 'Same'))\n",
    "my_model.add(Conv2D(64, (3, 3), activation='relu',padding = 'Same'))\n",
    "my_model.add(MaxPool2D(pool_size=(2, 2)))\n",
    "\n",
    "my_model.add(Conv2D(64, (3, 3), activation='relu',padding = 'Same'))\n",
    "my_model.add(Conv2D(32, (3, 3), activation='relu',padding = 'Same', activity_regularizer=tf.keras.regularizers.l2(0.001)))\n",
    "my_model.add(MaxPool2D(pool_size=(2, 2)))\n",
    "\n",
    "my_model.add(Conv2D(64, (3, 3), activation='relu',padding = 'Same'))\n",
    "my_model.add(Conv2D(64, (3, 3), activation='relu',padding = 'Same', activity_regularizer=tf.keras.regularizers.l2(0.001)))\n",
    "my_model.add(MaxPool2D(pool_size=(2, 2)))\n",
    "my_model.add(Dropout(0.4))\n",
    "\n",
    "my_model.add(Flatten())\n",
    "my_model.add(Dense(1024, activation='relu', activity_regularizer=tf.keras.regularizers.l2(0.01)))\n",
    "my_model.add(Dense(1024, activation='relu'))\n",
    "my_model.add(Dropout(0.5))\n",
    "\n",
    "my_model.add(Dense(num_classes, activation='softmax'))\n",
    "my_model.summary()"
   ]
  },
  {
   "cell_type": "code",
   "execution_count": 7,
   "metadata": {
    "id": "dz3dtVql2V-b"
   },
   "outputs": [],
   "source": [
    "from keras.optimizers import Adam\n",
    "\n",
    "opt = Adam(lr=0.0001,beta_1=0.9, beta_2=0.999, epsilon=None, decay=0.0,  amsgrad=False)"
   ]
  },
  {
   "cell_type": "code",
   "execution_count": 8,
   "metadata": {
    "id": "IbuVpBPHMrRq"
   },
   "outputs": [],
   "source": [
    "# tell the model what cost and optimization method to use\n",
    "my_model.compile(\n",
    "  loss='categorical_crossentropy',\n",
    "  optimizer = opt,\n",
    "  metrics=['accuracy']\n",
    ")"
   ]
  },
  {
   "cell_type": "code",
   "execution_count": 9,
   "metadata": {
    "id": "kwbLLLc3MrRr"
   },
   "outputs": [],
   "source": [
    "# Use the Image Data Generator to import the images from the dataset\n",
    "from tensorflow.keras.preprocessing.image import ImageDataGenerator\n",
    "\n",
    "datagen = ImageDataGenerator(rescale = 1./255,\n",
    "                             rotation_range=10,\n",
    "                             zoom_range = 0.2,\n",
    "                             width_shift_range=0.1,\n",
    "                             height_shift_range=0.1,\n",
    "                             horizontal_flip=True,\n",
    "                             shear_range = 0.2, \n",
    "                             vertical_flip=True,\n",
    "                             validation_split = 0.2)\n",
    "\n",
    "test_datagen = ImageDataGenerator(rescale = 1./255)"
   ]
  },
  {
   "cell_type": "code",
   "execution_count": 10,
   "metadata": {
    "colab": {
     "base_uri": "https://localhost:8080/"
    },
    "id": "Q-iah8JwMrRr",
    "outputId": "28ff690d-1d8d-4aab-82f6-8e4134f9aa3a"
   },
   "outputs": [
    {
     "name": "stdout",
     "output_type": "stream",
     "text": [
      "Found 6418 images belonging to 4 classes.\n"
     ]
    }
   ],
   "source": [
    "# Make sure you provide the same target size as initialied for the image size\n",
    "training_set = datagen.flow_from_directory(train_path,\n",
    "                                                 target_size = (224, 224),\n",
    "                                                 batch_size = 32,\n",
    "                                                 subset = \"training\",\n",
    "                                                 class_mode = 'categorical')"
   ]
  },
  {
   "cell_type": "code",
   "execution_count": 11,
   "metadata": {
    "colab": {
     "base_uri": "https://localhost:8080/"
    },
    "id": "aWmfDCHzMrRr",
    "outputId": "97e9eded-15ff-455c-83c6-b305b63672f0"
   },
   "outputs": [
    {
     "name": "stdout",
     "output_type": "stream",
     "text": [
      "Found 1604 images belonging to 4 classes.\n"
     ]
    }
   ],
   "source": [
    "test_set = datagen.flow_from_directory(val_path,\n",
    "                                       target_size = (224, 224),\n",
    "                                       batch_size = 32,\n",
    "                                       shuffle = False,\n",
    "                                       subset = \"validation\",\n",
    "                                       class_mode = 'categorical')"
   ]
  },
  {
   "cell_type": "code",
   "execution_count": 12,
   "metadata": {
    "id": "O1Pe5xza2lh6"
   },
   "outputs": [],
   "source": [
    "# ReduceLROnPlateau - automatically set the LR if no change is detected\n",
    "from keras.callbacks import ReduceLROnPlateau\n",
    "\n",
    "learning_rate_reduction = ReduceLROnPlateau(monitor = 'val_accuracy', \n",
    "                                             patience = 3, \n",
    "                                             verbose = 1, \n",
    "                                             factor = 0.5, \n",
    "                                             min_lr = 0.00001)"
   ]
  },
  {
   "cell_type": "code",
   "execution_count": 13,
   "metadata": {
    "colab": {
     "base_uri": "https://localhost:8080/"
    },
    "id": "mNzCAjw0MrRs",
    "outputId": "8458683e-e511-4b06-e799-4b7febb500c8",
    "scrolled": true
   },
   "outputs": [
    {
     "name": "stdout",
     "output_type": "stream",
     "text": [
      "Epoch 1/50\n",
      "201/201 [==============================] - 2406s 12s/step - loss: 1.3018 - accuracy: 0.3539 - val_loss: 1.0433 - val_accuracy: 0.5337\n",
      "Epoch 2/50\n",
      "201/201 [==============================] - 87s 432ms/step - loss: 0.9620 - accuracy: 0.5985 - val_loss: 1.2021 - val_accuracy: 0.5349\n",
      "Epoch 3/50\n",
      "201/201 [==============================] - 86s 430ms/step - loss: 0.7633 - accuracy: 0.7156 - val_loss: 1.0950 - val_accuracy: 0.5848\n",
      "Epoch 4/50\n",
      "201/201 [==============================] - 87s 433ms/step - loss: 0.6536 - accuracy: 0.7640 - val_loss: 0.9818 - val_accuracy: 0.6166\n",
      "Epoch 5/50\n",
      "201/201 [==============================] - 87s 431ms/step - loss: 0.6218 - accuracy: 0.7837 - val_loss: 1.0491 - val_accuracy: 0.6010\n",
      "Epoch 6/50\n",
      "201/201 [==============================] - 87s 431ms/step - loss: 0.5214 - accuracy: 0.8156 - val_loss: 1.0751 - val_accuracy: 0.5680\n",
      "Epoch 7/50\n",
      "201/201 [==============================] - 87s 432ms/step - loss: 0.4713 - accuracy: 0.8365 - val_loss: 0.9053 - val_accuracy: 0.6471\n",
      "Epoch 8/50\n",
      "201/201 [==============================] - 87s 433ms/step - loss: 0.4221 - accuracy: 0.8465 - val_loss: 0.7886 - val_accuracy: 0.7014\n",
      "Epoch 9/50\n",
      "201/201 [==============================] - 87s 433ms/step - loss: 0.3860 - accuracy: 0.8685 - val_loss: 0.8524 - val_accuracy: 0.6951\n",
      "Epoch 10/50\n",
      "201/201 [==============================] - 87s 432ms/step - loss: 0.3263 - accuracy: 0.8889 - val_loss: 0.8362 - val_accuracy: 0.7026\n",
      "Epoch 11/50\n",
      "201/201 [==============================] - 87s 433ms/step - loss: 0.2773 - accuracy: 0.9140 - val_loss: 0.6826 - val_accuracy: 0.7325\n",
      "Epoch 12/50\n",
      "201/201 [==============================] - 86s 430ms/step - loss: 0.2442 - accuracy: 0.9205 - val_loss: 0.5955 - val_accuracy: 0.7855\n",
      "Epoch 13/50\n",
      "201/201 [==============================] - 86s 430ms/step - loss: 0.2271 - accuracy: 0.9311 - val_loss: 0.6422 - val_accuracy: 0.7631\n",
      "Epoch 14/50\n",
      "201/201 [==============================] - 87s 431ms/step - loss: 0.1932 - accuracy: 0.9383 - val_loss: 0.5054 - val_accuracy: 0.8198\n",
      "Epoch 15/50\n",
      "201/201 [==============================] - 87s 432ms/step - loss: 0.1734 - accuracy: 0.9440 - val_loss: 0.5618 - val_accuracy: 0.7924\n",
      "Epoch 16/50\n",
      "201/201 [==============================] - 86s 430ms/step - loss: 0.1579 - accuracy: 0.9507 - val_loss: 0.5559 - val_accuracy: 0.8061\n",
      "Epoch 17/50\n",
      "201/201 [==============================] - 86s 430ms/step - loss: 0.1360 - accuracy: 0.9607 - val_loss: 0.4880 - val_accuracy: 0.8211\n",
      "Epoch 18/50\n",
      "201/201 [==============================] - 87s 432ms/step - loss: 0.1424 - accuracy: 0.9576 - val_loss: 0.4588 - val_accuracy: 0.8342\n",
      "Epoch 19/50\n",
      "201/201 [==============================] - 87s 432ms/step - loss: 0.1385 - accuracy: 0.9596 - val_loss: 0.5813 - val_accuracy: 0.7618\n",
      "Epoch 20/50\n",
      "201/201 [==============================] - 87s 431ms/step - loss: 0.1368 - accuracy: 0.9595 - val_loss: 0.3831 - val_accuracy: 0.8672\n",
      "Epoch 21/50\n",
      "201/201 [==============================] - 86s 430ms/step - loss: 0.0953 - accuracy: 0.9755 - val_loss: 0.4479 - val_accuracy: 0.8429\n",
      "Epoch 22/50\n",
      "201/201 [==============================] - 87s 431ms/step - loss: 0.0817 - accuracy: 0.9783 - val_loss: 0.3593 - val_accuracy: 0.8778\n",
      "Epoch 23/50\n",
      "201/201 [==============================] - 86s 430ms/step - loss: 0.0966 - accuracy: 0.9741 - val_loss: 0.5305 - val_accuracy: 0.8192\n",
      "Epoch 24/50\n",
      "201/201 [==============================] - 86s 429ms/step - loss: 0.0839 - accuracy: 0.9784 - val_loss: 0.4695 - val_accuracy: 0.8367\n",
      "Epoch 25/50\n",
      "201/201 [==============================] - 86s 430ms/step - loss: 0.0774 - accuracy: 0.9795 - val_loss: 0.4477 - val_accuracy: 0.8510\n",
      "\n",
      "Epoch 00025: ReduceLROnPlateau reducing learning rate to 4.999999873689376e-05.\n",
      "Epoch 26/50\n",
      "201/201 [==============================] - 87s 431ms/step - loss: 0.0613 - accuracy: 0.9818 - val_loss: 0.3545 - val_accuracy: 0.8872\n",
      "Epoch 27/50\n",
      "201/201 [==============================] - 86s 430ms/step - loss: 0.0521 - accuracy: 0.9884 - val_loss: 0.3218 - val_accuracy: 0.8928\n",
      "Epoch 28/50\n",
      "201/201 [==============================] - 86s 429ms/step - loss: 0.0539 - accuracy: 0.9863 - val_loss: 0.3357 - val_accuracy: 0.8847\n",
      "Epoch 29/50\n",
      "201/201 [==============================] - 87s 431ms/step - loss: 0.0514 - accuracy: 0.9887 - val_loss: 0.3374 - val_accuracy: 0.8946\n",
      "Epoch 30/50\n",
      "201/201 [==============================] - 86s 429ms/step - loss: 0.0470 - accuracy: 0.9888 - val_loss: 0.3198 - val_accuracy: 0.9046\n",
      "Epoch 31/50\n",
      "201/201 [==============================] - 86s 430ms/step - loss: 0.0445 - accuracy: 0.9880 - val_loss: 0.3348 - val_accuracy: 0.8915\n",
      "Epoch 32/50\n",
      "201/201 [==============================] - 86s 430ms/step - loss: 0.0421 - accuracy: 0.9901 - val_loss: 0.2985 - val_accuracy: 0.9065\n",
      "Epoch 33/50\n",
      "201/201 [==============================] - 87s 434ms/step - loss: 0.0467 - accuracy: 0.9884 - val_loss: 0.4163 - val_accuracy: 0.8628\n",
      "Epoch 34/50\n",
      "201/201 [==============================] - 87s 432ms/step - loss: 0.0396 - accuracy: 0.9918 - val_loss: 0.4944 - val_accuracy: 0.8579\n",
      "Epoch 35/50\n",
      "201/201 [==============================] - 87s 432ms/step - loss: 0.0370 - accuracy: 0.9915 - val_loss: 0.3453 - val_accuracy: 0.8903\n",
      "\n",
      "Epoch 00035: ReduceLROnPlateau reducing learning rate to 2.499999936844688e-05.\n",
      "Epoch 36/50\n",
      "201/201 [==============================] - 87s 433ms/step - loss: 0.0288 - accuracy: 0.9951 - val_loss: 0.3056 - val_accuracy: 0.9090\n",
      "Epoch 37/50\n",
      "201/201 [==============================] - 86s 430ms/step - loss: 0.0299 - accuracy: 0.9948 - val_loss: 0.3906 - val_accuracy: 0.8915\n",
      "Epoch 38/50\n",
      "201/201 [==============================] - 86s 430ms/step - loss: 0.0283 - accuracy: 0.9953 - val_loss: 0.3522 - val_accuracy: 0.8934\n",
      "Epoch 39/50\n",
      "201/201 [==============================] - 86s 430ms/step - loss: 0.0269 - accuracy: 0.9955 - val_loss: 0.2747 - val_accuracy: 0.9127\n",
      "Epoch 40/50\n",
      "201/201 [==============================] - 87s 431ms/step - loss: 0.0310 - accuracy: 0.9936 - val_loss: 0.3329 - val_accuracy: 0.9027\n",
      "Epoch 41/50\n",
      "201/201 [==============================] - 87s 432ms/step - loss: 0.0296 - accuracy: 0.9950 - val_loss: 0.3641 - val_accuracy: 0.8953\n",
      "Epoch 42/50\n",
      "201/201 [==============================] - 87s 432ms/step - loss: 0.0291 - accuracy: 0.9949 - val_loss: 0.3456 - val_accuracy: 0.9027\n",
      "\n",
      "Epoch 00042: ReduceLROnPlateau reducing learning rate to 1.249999968422344e-05.\n",
      "Epoch 43/50\n",
      "201/201 [==============================] - 87s 434ms/step - loss: 0.0234 - accuracy: 0.9967 - val_loss: 0.3379 - val_accuracy: 0.8946\n",
      "Epoch 44/50\n",
      "201/201 [==============================] - 87s 431ms/step - loss: 0.0247 - accuracy: 0.9968 - val_loss: 0.3137 - val_accuracy: 0.9009\n",
      "Epoch 45/50\n",
      "201/201 [==============================] - 86s 429ms/step - loss: 0.0214 - accuracy: 0.9969 - val_loss: 0.3905 - val_accuracy: 0.8940\n",
      "\n",
      "Epoch 00045: ReduceLROnPlateau reducing learning rate to 1e-05.\n",
      "Epoch 46/50\n",
      "201/201 [==============================] - 87s 431ms/step - loss: 0.0202 - accuracy: 0.9976 - val_loss: 0.4062 - val_accuracy: 0.8865\n",
      "Epoch 47/50\n",
      "201/201 [==============================] - 87s 431ms/step - loss: 0.0188 - accuracy: 0.9976 - val_loss: 0.3316 - val_accuracy: 0.8971\n",
      "Epoch 48/50\n",
      "201/201 [==============================] - 86s 430ms/step - loss: 0.0230 - accuracy: 0.9959 - val_loss: 0.2795 - val_accuracy: 0.9140\n",
      "Epoch 49/50\n",
      "201/201 [==============================] - 86s 430ms/step - loss: 0.0236 - accuracy: 0.9960 - val_loss: 0.3396 - val_accuracy: 0.9040\n",
      "Epoch 50/50\n",
      "201/201 [==============================] - 86s 430ms/step - loss: 0.0256 - accuracy: 0.9954 - val_loss: 0.3347 - val_accuracy: 0.8909\n"
     ]
    }
   ],
   "source": [
    "# fit the model\n",
    "# Run the cell. It will take some time to execute\n",
    "model_history = my_model.fit(\n",
    "  training_set,\n",
    "  validation_data=test_set,\n",
    "  epochs=50,\n",
    "  callbacks = [learning_rate_reduction],\n",
    "  steps_per_epoch = len(training_set),\n",
    "  validation_steps = len(test_set)  \n",
    ")"
   ]
  },
  {
   "cell_type": "code",
   "execution_count": 14,
   "metadata": {
    "colab": {
     "base_uri": "https://localhost:8080/",
     "height": 591
    },
    "id": "uJoFzh6VMrRs",
    "outputId": "713269c5-d4bd-4b6f-c098-c750aa5f30db"
   },
   "outputs": [
    {
     "data": {
      "image/png": "[encoded data removed]",
      "text/plain": [
       "<Figure size 432x288 with 1 Axes>"
      ]
     },
     "metadata": {
      "needs_background": "light",
      "tags": []
     },
     "output_type": "display_data"
    },
    {
     "data": {
      "image/png": "[encoded data removed]",
      "text/plain": [
       "<Figure size 432x288 with 1 Axes>"
      ]
     },
     "metadata": {
      "needs_background": "light",
      "tags": []
     },
     "output_type": "display_data"
    },
    {
     "data": {
      "text/plain": [
       "<Figure size 432x288 with 0 Axes>"
      ]
     },
     "metadata": {
      "tags": []
     },
     "output_type": "display_data"
    }
   ],
   "source": [
    "# plot the loss\n",
    "plt.plot(model_history.history['loss'],'r', label='train loss')\n",
    "plt.plot(model_history.history['val_loss'],'b', label='val loss')\n",
    "plt.title(\"Trainng and Validatin Loss\")\n",
    "plt.xlabel(\"Epoch #\")\n",
    "plt.ylabel(\"Loss\")\n",
    "plt.legend()\n",
    "plt.show()\n",
    "plt.savefig('LossVal_loss')\n",
    "\n",
    "# plot the accuracy\n",
    "plt.plot(model_history.history['accuracy'],'r', label='train acc')\n",
    "plt.plot(model_history.history['val_accuracy'],'b', label='val acc')\n",
    "plt.title(\"Training and Validation Accuracy\")\n",
    "plt.xlabel(\"Epoch #\")\n",
    "plt.ylabel(\"Accuracy\")\n",
    "plt.legend()\n",
    "plt.show()\n",
    "plt.savefig('AccVal_acc')"
   ]
  },
  {
   "cell_type": "code",
   "execution_count": 15,
   "metadata": {
    "colab": {
     "base_uri": "https://localhost:8080/"
    },
    "id": "5tX5TqQuCWKo",
    "outputId": "3e4d050d-1645-4d22-8bf3-204153dd1505"
   },
   "outputs": [
    {
     "name": "stdout",
     "output_type": "stream",
     "text": [
      "51/51 [==============================] - 17s 336ms/step - loss: 0.3302 - accuracy: 0.9015\n",
      "201/201 [==============================] - 69s 342ms/step - loss: 0.0164 - accuracy: 0.9989\n"
     ]
    }
   ],
   "source": [
    "loss, accuracy = my_model.evaluate(test_set, verbose=1)\n",
    "t_loss, t_accuracy = my_model.evaluate(training_set, verbose=1)"
   ]
  },
  {
   "cell_type": "code",
   "execution_count": 22,
   "metadata": {
    "colab": {
     "base_uri": "https://localhost:8080/"
    },
    "id": "0TZSNMigNtPV",
    "outputId": "9d57e846-5190-4cde-d8e0-6e92082867f7"
   },
   "outputs": [
    {
     "name": "stdout",
     "output_type": "stream",
     "text": [
      "Training: accuracy = 0.998909  ;  loss_v = 0.016428\n",
      "Validation: accuracy = 0.901496  ;  loss = 0.330239\n"
     ]
    }
   ],
   "source": [
    "print(\"Training: accuracy = %f  ;  loss_v = %f\" % (t_accuracy, t_loss))\n",
    "print(\"Validation: accuracy = %f  ;  loss = %f\" % (accuracy, loss))"
   ]
  },
  {
   "cell_type": "code",
   "execution_count": 23,
   "metadata": {
    "id": "Dd_RucOANyZF"
   },
   "outputs": [],
   "source": [
    "# save it as a h5 file\n",
    "\n",
    "my_model.save('../models/faba_bean_model_4mScratch_original.h5')"
   ]
  },
  {
   "cell_type": "code",
   "execution_count": 18,
   "metadata": {
    "id": "B4WHDeMPVKml"
   },
   "outputs": [],
   "source": [
    "# open saved model file\n",
    "\n",
    "my_model = tf.keras.models.load_model('../models/faba_bean_model_4mScratch_original.h5')"
   ]
  },
  {
   "cell_type": "code",
   "execution_count": 19,
   "metadata": {
    "colab": {
     "base_uri": "https://localhost:8080/",
     "height": 311
    },
    "id": "xlEgb00vlKsu",
    "outputId": "8cdf22a3-8ba8-4f03-bd74-584bb765c883"
   },
   "outputs": [
    {
     "data": {
      "image/png": "[encoded data removed]",
      "text/plain": [
       "<Figure size 432x288 with 2 Axes>"
      ]
     },
     "metadata": {
      "needs_background": "light",
      "tags": []
     },
     "output_type": "display_data"
    }
   ],
   "source": [
    "def plot_confusion_matrix(cm, classes,\n",
    "                          normalize=False,\n",
    "                          title='Confusion matrix',\n",
    "                          cmap=plt.cm.Blues):\n",
    "  \n",
    "    plt.imshow(cm, interpolation='nearest', cmap=cmap)\n",
    "    plt.title(title)\n",
    "    plt.colorbar()\n",
    "    tick_marks = np.arange(len(classes))\n",
    "    plt.xticks(tick_marks, classes, rotation=45)\n",
    "    plt.yticks(tick_marks, classes)\n",
    "\n",
    "    if normalize:\n",
    "        cm = cm.astype('float') / cm.sum(axis=1)[:, np.newaxis]\n",
    "\n",
    "    thresh = cm.max() / 2.\n",
    "    for i, j in itertools.product(range(cm.shape[0]), range(cm.shape[1])):\n",
    "        plt.text(j, i, cm[i, j],\n",
    "                 horizontalalignment=\"center\",\n",
    "                 color=\"white\" if cm[i, j] > thresh else \"black\")\n",
    "\n",
    "    plt.tight_layout()\n",
    "    plt.ylabel('True label')\n",
    "    plt.xlabel('Predicted label')\n",
    "\n",
    "# Get the predicted classes\n",
    "predictions = my_model.predict(test_set,  1604 // 32 + 1)\n",
    "predicted_classes = np.argmax(predictions, axis = 1) \n",
    "\n",
    "# Get ground-truth classes and class-labels\n",
    "true_classes = test_set.classes\n",
    "\n",
    "target_name = ['Checolate_spot', 'Gal', 'Healthy', 'Rust']\n",
    "\n",
    "confusion_mtx = confusion_matrix(true_classes, predicted_classes)\n",
    "\n",
    "plot_confusion_matrix(confusion_mtx, classes = target_name) "
   ]
  },
  {
   "cell_type": "code",
   "execution_count": 24,
   "metadata": {
    "colab": {
     "base_uri": "https://localhost:8080/",
     "height": 297
    },
    "id": "lmpu6k4-N4T8",
    "outputId": "f9b71f74-334f-4b66-dcd7-ece1d0bb796e"
   },
   "outputs": [
    {
     "data": {
      "text/plain": [
       "Text(0, 0.5, 'Fraction classified incorrectly')"
      ]
     },
     "execution_count": 24,
     "metadata": {
      "tags": []
     },
     "output_type": "execute_result"
    },
    {
     "data": {
      "image/png": "[encoded data removed]",
      "text/plain": [
       "<Figure size 432x288 with 1 Axes>"
      ]
     },
     "metadata": {
      "needs_background": "light",
      "tags": []
     },
     "output_type": "display_data"
    }
   ],
   "source": [
    "label_frac_error = 1 - np.diag(confusion_mtx) / np.sum(confusion_mtx, axis=1)\n",
    "plt.bar(np.arange(4),label_frac_error)\n",
    "plt.xlabel('True Label')\n",
    "plt.ylabel('Fraction classified incorrectly')"
   ]
  },
  {
   "cell_type": "code",
   "execution_count": 25,
   "metadata": {
    "colab": {
     "base_uri": "https://localhost:8080/"
    },
    "id": "1w2_eMv67dnO",
    "outputId": "d3946b50-e883-43a8-f252-3ae373bf2025"
   },
   "outputs": [
    {
     "name": "stdout",
     "output_type": "stream",
     "text": [
      "\n",
      "Classification Report\n",
      "\n",
      "                precision    recall  f1-score   support\n",
      "\n",
      "Checolate_spot       0.89      0.91      0.90       400\n",
      "           gal       0.80      0.91      0.85       400\n",
      "       healthy       0.94      0.93      0.93       404\n",
      "          rust       0.98      0.86      0.92       400\n",
      "\n",
      "      accuracy                           0.90      1604\n",
      "     macro avg       0.91      0.90      0.90      1604\n",
      "  weighted avg       0.91      0.90      0.90      1604\n",
      "\n"
     ]
    }
   ],
   "source": [
    "print('\\nClassification Report\\n')\n",
    "class_labels = ['Checolate_spot', 'gal', 'healthy', 'rust']\n",
    "report = classification_report(true_classes, predicted_classes, target_names=class_labels)\n",
    "print(report)"
   ]
  }
 ],
 "metadata": {
  "accelerator": "GPU",
  "colab": {
   "collapsed_sections": [],
   "machine_shape": "hm",
   "name": "From Scratch_original_2.ipynb",
   "provenance": []
  },
  "kernelspec": {
   "display_name": "Python 3.10.4 64-bit",
   "language": "python",
   "name": "python3"
  },
  "language_info": {
   "codemirror_mode": {
    "name": "ipython",
    "version": 3
   },
   "file_extension": ".py",
   "mimetype": "text/x-python",
   "name": "python",
   "nbconvert_exporter": "python",
   "pygments_lexer": "ipython3",
   "version": "3.10.4"
  },
  "vscode": {
   "interpreter": {
    "hash": "916dbcbb3f70747c44a77c7bcd40155683ae19c65e1c03b4aa3499c5328201f1"
   }
  }
 },
 "nbformat": 4,
 "nbformat_minor": 1
}
