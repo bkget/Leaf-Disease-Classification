{
 "cells": [
  {
   "cell_type": "markdown",
   "metadata": {
    "id": "lxzWCz1vMrRd"
   },
   "source": [
    "## Transfer Learning InceptionV3 using Keras"
   ]
  },
  {
   "cell_type": "code",
   "execution_count": null,
   "metadata": {
    "colab": {
     "base_uri": "https://localhost:8080/"
    },
    "id": "oJgHrgYTMrRm",
    "outputId": "fe517d45-8353-484f-ab7e-154a1335b76c"
   },
   "outputs": [
    {
     "name": "stderr",
     "output_type": "stream",
     "text": [
      "/usr/local/lib/python3.7/dist-packages/tensorflow/python/client/session.py:1761: UserWarning: An interactive session is already active. This can cause out-of-memory errors in some cases. You must explicitly call `InteractiveSession.close()` to release resources held by the other session(s).\n",
      "  warnings.warn('An interactive session is already active. This can '\n"
     ]
    }
   ],
   "source": [
    "from tensorflow.compat.v1 import ConfigProto\n",
    "from tensorflow.compat.v1 import InteractiveSession\n",
    "\n",
    "config = ConfigProto()\n",
    "config.gpu_options.per_process_gpu_memory_fraction = 0.2\n",
    "config.gpu_options.allow_growth = True\n",
    "session = InteractiveSession(config=config)"
   ]
  },
  {
   "cell_type": "code",
   "execution_count": 1,
   "metadata": {
    "id": "TNmnYUzqMrRn"
   },
   "outputs": [],
   "source": [
    "# import the libraries as shown below\n",
    "\n",
    "from tensorflow.keras.preprocessing.image import ImageDataGenerator,load_img\n",
    "from sklearn.metrics import classification_report, confusion_matrix\n",
    "from tensorflow.keras.layers import Input, Dense, Flatten, Dropout\n",
    "from tensorflow.keras.models import Model, load_model, Sequential \n",
    "from tensorflow.keras.preprocessing import image\n",
    "from keras.callbacks import ReduceLROnPlateau\n",
    "import matplotlib.pyplot as plt\n",
    "import tensorflow as tf\n",
    "from glob import glob\n",
    "import numpy as np\n",
    "import itertools\n",
    "import keras"
   ]
  },
  {
   "cell_type": "code",
   "execution_count": 3,
   "metadata": {
    "id": "0FINNaAAMrRn"
   },
   "outputs": [],
   "source": [
    "# re-size all the images to this\n",
    "IMAGE_SIZE = [224, 224]\n",
    "\n",
    "train_path = '../data/dataset_original/'\n",
    "validation_path = '../data/dataset_original/'"
   ]
  },
  {
   "cell_type": "code",
   "execution_count": null,
   "metadata": {
    "id": "HRCTsosLMrRo"
   },
   "outputs": [],
   "source": [
    "# Import the InceptionV3 keras library as shown below\n",
    "# Here we will be using imagenet weights\n",
    "\n",
    "base_model = tf.keras.applications.InceptionV3(input_shape=IMAGE_SIZE + [3], weights='imagenet', pooling='avg', include_top=False)"
   ]
  },
  {
   "cell_type": "code",
   "execution_count": null,
   "metadata": {
    "id": "4KbVcgDfMrRo"
   },
   "outputs": [],
   "source": [
    "# don't train existing weights\n",
    "for layer in base_model.layers:\n",
    "    layer.trainable = False"
   ]
  },
  {
   "cell_type": "markdown",
   "metadata": {},
   "source": [
    "### Hyperparameter tuning using l2 Regularization"
   ]
  },
  {
   "cell_type": "code",
   "execution_count": null,
   "metadata": {
    "id": "343hx5Uerva1"
   },
   "outputs": [],
   "source": [
    "l2 = tf.keras.regularizers.l2(1e-4)\n",
    "for layer in base_model.layers:\n",
    "    # if hasattr(layer, 'kernel'):\n",
    "    # or\n",
    "    # If you want to apply just on Conv\n",
    "    if isinstance(layer, tf.keras.layers.Conv2D):\n",
    "        base_model.add_loss(lambda layer=layer: l2(layer.kernel))"
   ]
  },
  {
   "cell_type": "code",
   "execution_count": null,
   "metadata": {
    "colab": {
     "base_uri": "https://localhost:8080/"
    },
    "id": "2_fmxuiirmgG",
    "outputId": "1d6e9193-f89c-4c2f-ff32-e661c59b524e"
   },
   "outputs": [
    {
     "data": {
      "text/plain": [
       "[<tf.Tensor: shape=(), dtype=float32, numpy=0.003994873>,\n",
       " <tf.Tensor: shape=(), dtype=float32, numpy=0.015485236>,\n",
       " <tf.Tensor: shape=(), dtype=float32, numpy=0.015584788>,\n",
       " <tf.Tensor: shape=(), dtype=float32, numpy=0.010283076>,\n",
       " <tf.Tensor: shape=(), dtype=float32, numpy=0.029457409>,\n",
       " <tf.Tensor: shape=(), dtype=float32, numpy=0.0046279486>,\n",
       " <tf.Tensor: shape=(), dtype=float32, numpy=0.0031055508>,\n",
       " <tf.Tensor: shape=(), dtype=float32, numpy=0.0072879638>,\n",
       " <tf.Tensor: shape=(), dtype=float32, numpy=0.008239334>,\n",
       " <tf.Tensor: shape=(), dtype=float32, numpy=0.008001861>,\n",
       " <tf.Tensor: shape=(), dtype=float32, numpy=0.0068631987>,\n",
       " <tf.Tensor: shape=(), dtype=float32, numpy=0.0024285598>,\n",
       " <tf.Tensor: shape=(), dtype=float32, numpy=0.0038433105>,\n",
       " <tf.Tensor: shape=(), dtype=float32, numpy=0.0034606035>,\n",
       " <tf.Tensor: shape=(), dtype=float32, numpy=0.00601655>,\n",
       " <tf.Tensor: shape=(), dtype=float32, numpy=0.009096694>,\n",
       " <tf.Tensor: shape=(), dtype=float32, numpy=0.005969828>,\n",
       " <tf.Tensor: shape=(), dtype=float32, numpy=0.0065713827>,\n",
       " <tf.Tensor: shape=(), dtype=float32, numpy=0.0037404783>,\n",
       " <tf.Tensor: shape=(), dtype=float32, numpy=0.0043424857>,\n",
       " <tf.Tensor: shape=(), dtype=float32, numpy=0.0044947113>,\n",
       " <tf.Tensor: shape=(), dtype=float32, numpy=0.007592627>,\n",
       " <tf.Tensor: shape=(), dtype=float32, numpy=0.008093012>,\n",
       " <tf.Tensor: shape=(), dtype=float32, numpy=0.008444702>,\n",
       " <tf.Tensor: shape=(), dtype=float32, numpy=0.008484033>,\n",
       " <tf.Tensor: shape=(), dtype=float32, numpy=0.005245086>,\n",
       " <tf.Tensor: shape=(), dtype=float32, numpy=0.0043021203>,\n",
       " <tf.Tensor: shape=(), dtype=float32, numpy=0.005595647>,\n",
       " <tf.Tensor: shape=(), dtype=float32, numpy=0.020550396>,\n",
       " <tf.Tensor: shape=(), dtype=float32, numpy=0.004863327>,\n",
       " <tf.Tensor: shape=(), dtype=float32, numpy=0.0062040053>,\n",
       " <tf.Tensor: shape=(), dtype=float32, numpy=0.006175017>,\n",
       " <tf.Tensor: shape=(), dtype=float32, numpy=0.0086902315>,\n",
       " <tf.Tensor: shape=(), dtype=float32, numpy=0.0061428486>,\n",
       " <tf.Tensor: shape=(), dtype=float32, numpy=0.010094645>,\n",
       " <tf.Tensor: shape=(), dtype=float32, numpy=0.0061902707>,\n",
       " <tf.Tensor: shape=(), dtype=float32, numpy=0.020450827>,\n",
       " <tf.Tensor: shape=(), dtype=float32, numpy=0.014050711>,\n",
       " <tf.Tensor: shape=(), dtype=float32, numpy=0.0077739926>,\n",
       " <tf.Tensor: shape=(), dtype=float32, numpy=0.014517654>,\n",
       " <tf.Tensor: shape=(), dtype=float32, numpy=0.00831093>,\n",
       " <tf.Tensor: shape=(), dtype=float32, numpy=0.007482421>,\n",
       " <tf.Tensor: shape=(), dtype=float32, numpy=0.011804914>,\n",
       " <tf.Tensor: shape=(), dtype=float32, numpy=0.0066684172>,\n",
       " <tf.Tensor: shape=(), dtype=float32, numpy=0.012205736>,\n",
       " <tf.Tensor: shape=(), dtype=float32, numpy=0.006443594>,\n",
       " <tf.Tensor: shape=(), dtype=float32, numpy=0.023414066>,\n",
       " <tf.Tensor: shape=(), dtype=float32, numpy=0.014745194>,\n",
       " <tf.Tensor: shape=(), dtype=float32, numpy=0.0073070982>,\n",
       " <tf.Tensor: shape=(), dtype=float32, numpy=0.017341137>,\n",
       " <tf.Tensor: shape=(), dtype=float32, numpy=0.014772746>,\n",
       " <tf.Tensor: shape=(), dtype=float32, numpy=0.012888403>,\n",
       " <tf.Tensor: shape=(), dtype=float32, numpy=0.011157455>,\n",
       " <tf.Tensor: shape=(), dtype=float32, numpy=0.012414718>,\n",
       " <tf.Tensor: shape=(), dtype=float32, numpy=0.010929261>,\n",
       " <tf.Tensor: shape=(), dtype=float32, numpy=0.012516211>,\n",
       " <tf.Tensor: shape=(), dtype=float32, numpy=0.02205783>,\n",
       " <tf.Tensor: shape=(), dtype=float32, numpy=0.013813622>,\n",
       " <tf.Tensor: shape=(), dtype=float32, numpy=0.013984647>,\n",
       " <tf.Tensor: shape=(), dtype=float32, numpy=0.018320762>,\n",
       " <tf.Tensor: shape=(), dtype=float32, numpy=0.015839702>,\n",
       " <tf.Tensor: shape=(), dtype=float32, numpy=0.016551614>,\n",
       " <tf.Tensor: shape=(), dtype=float32, numpy=0.01915762>,\n",
       " <tf.Tensor: shape=(), dtype=float32, numpy=0.013514852>,\n",
       " <tf.Tensor: shape=(), dtype=float32, numpy=0.014965682>,\n",
       " <tf.Tensor: shape=(), dtype=float32, numpy=0.014902624>,\n",
       " <tf.Tensor: shape=(), dtype=float32, numpy=0.019359967>,\n",
       " <tf.Tensor: shape=(), dtype=float32, numpy=0.015408993>,\n",
       " <tf.Tensor: shape=(), dtype=float32, numpy=0.013093545>,\n",
       " <tf.Tensor: shape=(), dtype=float32, numpy=0.02165183>,\n",
       " <tf.Tensor: shape=(), dtype=float32, numpy=0.008526631>,\n",
       " <tf.Tensor: shape=(), dtype=float32, numpy=0.0070167156>,\n",
       " <tf.Tensor: shape=(), dtype=float32, numpy=0.009380069>,\n",
       " <tf.Tensor: shape=(), dtype=float32, numpy=0.0074289045>,\n",
       " <tf.Tensor: shape=(), dtype=float32, numpy=0.008859269>,\n",
       " <tf.Tensor: shape=(), dtype=float32, numpy=0.007781397>,\n",
       " <tf.Tensor: shape=(), dtype=float32, numpy=0.030919967>,\n",
       " <tf.Tensor: shape=(), dtype=float32, numpy=0.027479813>,\n",
       " <tf.Tensor: shape=(), dtype=float32, numpy=0.02973637>,\n",
       " <tf.Tensor: shape=(), dtype=float32, numpy=0.0132532725>,\n",
       " <tf.Tensor: shape=(), dtype=float32, numpy=0.015898986>,\n",
       " <tf.Tensor: shape=(), dtype=float32, numpy=0.01301479>,\n",
       " <tf.Tensor: shape=(), dtype=float32, numpy=0.017378386>,\n",
       " <tf.Tensor: shape=(), dtype=float32, numpy=0.019020993>,\n",
       " <tf.Tensor: shape=(), dtype=float32, numpy=0.016369427>,\n",
       " <tf.Tensor: shape=(), dtype=float32, numpy=0.043616697>,\n",
       " <tf.Tensor: shape=(), dtype=float32, numpy=0.035630673>,\n",
       " <tf.Tensor: shape=(), dtype=float32, numpy=0.021529172>,\n",
       " <tf.Tensor: shape=(), dtype=float32, numpy=0.0063371155>,\n",
       " <tf.Tensor: shape=(), dtype=float32, numpy=0.0069022155>,\n",
       " <tf.Tensor: shape=(), dtype=float32, numpy=0.0068914196>,\n",
       " <tf.Tensor: shape=(), dtype=float32, numpy=0.0074710906>,\n",
       " <tf.Tensor: shape=(), dtype=float32, numpy=0.009006843>,\n",
       " <tf.Tensor: shape=(), dtype=float32, numpy=0.010699927>]"
      ]
     },
     "execution_count": 74,
     "metadata": {
      "tags": []
     },
     "output_type": "execute_result"
    }
   ],
   "source": [
    "base_model.losses"
   ]
  },
  {
   "cell_type": "code",
   "execution_count": null,
   "metadata": {
    "id": "_Ub2HEFKMrRo"
   },
   "outputs": [],
   "source": [
    "  # useful for getting number of output classes\n",
    "folders = glob('../data/dataset_original/*')"
   ]
  },
  {
   "cell_type": "code",
   "execution_count": null,
   "metadata": {
    "id": "lu8OYqTzMrRp"
   },
   "outputs": [],
   "source": [
    "# our layers - you can add more if you want\n",
    "# x = (keras.layers.GlobalAveragePooling2D())(base_model.output)\n",
    "x = (Dropout(0.6))(base_model.output)\n",
    "x = Flatten()(x)\n",
    "x = (Dense(512, activation='relu'))(x)\n",
    "x = (Dropout(0.5))(x)\n",
    "x = (Dense(256, activation='relu'))(x)\n",
    "x = (Dropout(0.4))(x)\n",
    "x = (Dense(128, activation='relu'))(x)\n",
    "x = (Dropout(0.3))(x)"
   ]
  },
  {
   "cell_type": "code",
   "execution_count": null,
   "metadata": {
    "id": "iAUFLEwBMrRp"
   },
   "outputs": [],
   "source": [
    "prediction = Dense(len(folders), activation='softmax')(x)\n",
    "\n",
    "# create a model object\n",
    "model = Model(inputs=base_model.input, outputs=prediction)"
   ]
  },
  {
   "cell_type": "code",
   "execution_count": null,
   "metadata": {
    "colab": {
     "base_uri": "https://localhost:8080/"
    },
    "id": "_bqWTfZwMrRp",
    "outputId": "d1389cd0-dae6-40f6-83e2-ba968bff00d3"
   },
   "outputs": [
    {
     "name": "stdout",
     "output_type": "stream",
     "text": [
      "Model: \"model_1\"\n",
      "__________________________________________________________________________________________________\n",
      "Layer (type)                    Output Shape         Param #     Connected to                     \n",
      "==================================================================================================\n",
      "input_5 (InputLayer)            [(None, 224, 224, 3) 0                                            \n",
      "__________________________________________________________________________________________________\n",
      "conv2d_376 (Conv2D)             (None, 111, 111, 32) 864         input_5[0][0]                    \n",
      "__________________________________________________________________________________________________\n",
      "batch_normalization_376 (BatchN (None, 111, 111, 32) 96          conv2d_376[0][0]                 \n",
      "__________________________________________________________________________________________________\n",
      "activation_376 (Activation)     (None, 111, 111, 32) 0           batch_normalization_376[0][0]    \n",
      "__________________________________________________________________________________________________\n",
      "conv2d_377 (Conv2D)             (None, 109, 109, 32) 9216        activation_376[0][0]             \n",
      "__________________________________________________________________________________________________\n",
      "batch_normalization_377 (BatchN (None, 109, 109, 32) 96          conv2d_377[0][0]                 \n",
      "__________________________________________________________________________________________________\n",
      "activation_377 (Activation)     (None, 109, 109, 32) 0           batch_normalization_377[0][0]    \n",
      "__________________________________________________________________________________________________\n",
      "conv2d_378 (Conv2D)             (None, 109, 109, 64) 18432       activation_377[0][0]             \n",
      "__________________________________________________________________________________________________\n",
      "batch_normalization_378 (BatchN (None, 109, 109, 64) 192         conv2d_378[0][0]                 \n",
      "__________________________________________________________________________________________________\n",
      "activation_378 (Activation)     (None, 109, 109, 64) 0           batch_normalization_378[0][0]    \n",
      "__________________________________________________________________________________________________\n",
      "max_pooling2d_16 (MaxPooling2D) (None, 54, 54, 64)   0           activation_378[0][0]             \n",
      "__________________________________________________________________________________________________\n",
      "conv2d_379 (Conv2D)             (None, 54, 54, 80)   5120        max_pooling2d_16[0][0]           \n",
      "__________________________________________________________________________________________________\n",
      "batch_normalization_379 (BatchN (None, 54, 54, 80)   240         conv2d_379[0][0]                 \n",
      "__________________________________________________________________________________________________\n",
      "activation_379 (Activation)     (None, 54, 54, 80)   0           batch_normalization_379[0][0]    \n",
      "__________________________________________________________________________________________________\n",
      "conv2d_380 (Conv2D)             (None, 52, 52, 192)  138240      activation_379[0][0]             \n",
      "__________________________________________________________________________________________________\n",
      "batch_normalization_380 (BatchN (None, 52, 52, 192)  576         conv2d_380[0][0]                 \n",
      "__________________________________________________________________________________________________\n",
      "activation_380 (Activation)     (None, 52, 52, 192)  0           batch_normalization_380[0][0]    \n",
      "__________________________________________________________________________________________________\n",
      "max_pooling2d_17 (MaxPooling2D) (None, 25, 25, 192)  0           activation_380[0][0]             \n",
      "__________________________________________________________________________________________________\n",
      "conv2d_384 (Conv2D)             (None, 25, 25, 64)   12288       max_pooling2d_17[0][0]           \n",
      "__________________________________________________________________________________________________\n",
      "batch_normalization_384 (BatchN (None, 25, 25, 64)   192         conv2d_384[0][0]                 \n",
      "__________________________________________________________________________________________________\n",
      "activation_384 (Activation)     (None, 25, 25, 64)   0           batch_normalization_384[0][0]    \n",
      "__________________________________________________________________________________________________\n",
      "conv2d_382 (Conv2D)             (None, 25, 25, 48)   9216        max_pooling2d_17[0][0]           \n",
      "__________________________________________________________________________________________________\n",
      "conv2d_385 (Conv2D)             (None, 25, 25, 96)   55296       activation_384[0][0]             \n",
      "__________________________________________________________________________________________________\n",
      "batch_normalization_382 (BatchN (None, 25, 25, 48)   144         conv2d_382[0][0]                 \n",
      "__________________________________________________________________________________________________\n",
      "batch_normalization_385 (BatchN (None, 25, 25, 96)   288         conv2d_385[0][0]                 \n",
      "__________________________________________________________________________________________________\n",
      "activation_382 (Activation)     (None, 25, 25, 48)   0           batch_normalization_382[0][0]    \n",
      "__________________________________________________________________________________________________\n",
      "activation_385 (Activation)     (None, 25, 25, 96)   0           batch_normalization_385[0][0]    \n",
      "__________________________________________________________________________________________________\n",
      "average_pooling2d_36 (AveragePo (None, 25, 25, 192)  0           max_pooling2d_17[0][0]           \n",
      "__________________________________________________________________________________________________\n",
      "conv2d_381 (Conv2D)             (None, 25, 25, 64)   12288       max_pooling2d_17[0][0]           \n",
      "__________________________________________________________________________________________________\n",
      "conv2d_383 (Conv2D)             (None, 25, 25, 64)   76800       activation_382[0][0]             \n",
      "__________________________________________________________________________________________________\n",
      "conv2d_386 (Conv2D)             (None, 25, 25, 96)   82944       activation_385[0][0]             \n",
      "__________________________________________________________________________________________________\n",
      "conv2d_387 (Conv2D)             (None, 25, 25, 32)   6144        average_pooling2d_36[0][0]       \n",
      "__________________________________________________________________________________________________\n",
      "batch_normalization_381 (BatchN (None, 25, 25, 64)   192         conv2d_381[0][0]                 \n",
      "__________________________________________________________________________________________________\n",
      "batch_normalization_383 (BatchN (None, 25, 25, 64)   192         conv2d_383[0][0]                 \n",
      "__________________________________________________________________________________________________\n",
      "batch_normalization_386 (BatchN (None, 25, 25, 96)   288         conv2d_386[0][0]                 \n",
      "__________________________________________________________________________________________________\n",
      "batch_normalization_387 (BatchN (None, 25, 25, 32)   96          conv2d_387[0][0]                 \n",
      "__________________________________________________________________________________________________\n",
      "activation_381 (Activation)     (None, 25, 25, 64)   0           batch_normalization_381[0][0]    \n",
      "__________________________________________________________________________________________________\n",
      "activation_383 (Activation)     (None, 25, 25, 64)   0           batch_normalization_383[0][0]    \n",
      "__________________________________________________________________________________________________\n",
      "activation_386 (Activation)     (None, 25, 25, 96)   0           batch_normalization_386[0][0]    \n",
      "__________________________________________________________________________________________________\n",
      "activation_387 (Activation)     (None, 25, 25, 32)   0           batch_normalization_387[0][0]    \n",
      "__________________________________________________________________________________________________\n",
      "mixed0 (Concatenate)            (None, 25, 25, 256)  0           activation_381[0][0]             \n",
      "                                                                 activation_383[0][0]             \n",
      "                                                                 activation_386[0][0]             \n",
      "                                                                 activation_387[0][0]             \n",
      "__________________________________________________________________________________________________\n",
      "conv2d_391 (Conv2D)             (None, 25, 25, 64)   16384       mixed0[0][0]                     \n",
      "__________________________________________________________________________________________________\n",
      "batch_normalization_391 (BatchN (None, 25, 25, 64)   192         conv2d_391[0][0]                 \n",
      "__________________________________________________________________________________________________\n",
      "activation_391 (Activation)     (None, 25, 25, 64)   0           batch_normalization_391[0][0]    \n",
      "__________________________________________________________________________________________________\n",
      "conv2d_389 (Conv2D)             (None, 25, 25, 48)   12288       mixed0[0][0]                     \n",
      "__________________________________________________________________________________________________\n",
      "conv2d_392 (Conv2D)             (None, 25, 25, 96)   55296       activation_391[0][0]             \n",
      "__________________________________________________________________________________________________\n",
      "batch_normalization_389 (BatchN (None, 25, 25, 48)   144         conv2d_389[0][0]                 \n",
      "__________________________________________________________________________________________________\n",
      "batch_normalization_392 (BatchN (None, 25, 25, 96)   288         conv2d_392[0][0]                 \n",
      "__________________________________________________________________________________________________\n",
      "activation_389 (Activation)     (None, 25, 25, 48)   0           batch_normalization_389[0][0]    \n",
      "__________________________________________________________________________________________________\n",
      "activation_392 (Activation)     (None, 25, 25, 96)   0           batch_normalization_392[0][0]    \n",
      "__________________________________________________________________________________________________\n",
      "average_pooling2d_37 (AveragePo (None, 25, 25, 256)  0           mixed0[0][0]                     \n",
      "__________________________________________________________________________________________________\n",
      "conv2d_388 (Conv2D)             (None, 25, 25, 64)   16384       mixed0[0][0]                     \n",
      "__________________________________________________________________________________________________\n",
      "conv2d_390 (Conv2D)             (None, 25, 25, 64)   76800       activation_389[0][0]             \n",
      "__________________________________________________________________________________________________\n",
      "conv2d_393 (Conv2D)             (None, 25, 25, 96)   82944       activation_392[0][0]             \n",
      "__________________________________________________________________________________________________\n",
      "conv2d_394 (Conv2D)             (None, 25, 25, 64)   16384       average_pooling2d_37[0][0]       \n",
      "__________________________________________________________________________________________________\n",
      "batch_normalization_388 (BatchN (None, 25, 25, 64)   192         conv2d_388[0][0]                 \n",
      "__________________________________________________________________________________________________\n",
      "batch_normalization_390 (BatchN (None, 25, 25, 64)   192         conv2d_390[0][0]                 \n",
      "__________________________________________________________________________________________________\n",
      "batch_normalization_393 (BatchN (None, 25, 25, 96)   288         conv2d_393[0][0]                 \n",
      "__________________________________________________________________________________________________\n",
      "batch_normalization_394 (BatchN (None, 25, 25, 64)   192         conv2d_394[0][0]                 \n",
      "__________________________________________________________________________________________________\n",
      "activation_388 (Activation)     (None, 25, 25, 64)   0           batch_normalization_388[0][0]    \n",
      "__________________________________________________________________________________________________\n",
      "activation_390 (Activation)     (None, 25, 25, 64)   0           batch_normalization_390[0][0]    \n",
      "__________________________________________________________________________________________________\n",
      "activation_393 (Activation)     (None, 25, 25, 96)   0           batch_normalization_393[0][0]    \n",
      "__________________________________________________________________________________________________\n",
      "activation_394 (Activation)     (None, 25, 25, 64)   0           batch_normalization_394[0][0]    \n",
      "__________________________________________________________________________________________________\n",
      "mixed1 (Concatenate)            (None, 25, 25, 288)  0           activation_388[0][0]             \n",
      "                                                                 activation_390[0][0]             \n",
      "                                                                 activation_393[0][0]             \n",
      "                                                                 activation_394[0][0]             \n",
      "__________________________________________________________________________________________________\n",
      "conv2d_398 (Conv2D)             (None, 25, 25, 64)   18432       mixed1[0][0]                     \n",
      "__________________________________________________________________________________________________\n",
      "batch_normalization_398 (BatchN (None, 25, 25, 64)   192         conv2d_398[0][0]                 \n",
      "__________________________________________________________________________________________________\n",
      "activation_398 (Activation)     (None, 25, 25, 64)   0           batch_normalization_398[0][0]    \n",
      "__________________________________________________________________________________________________\n",
      "conv2d_396 (Conv2D)             (None, 25, 25, 48)   13824       mixed1[0][0]                     \n",
      "__________________________________________________________________________________________________\n",
      "conv2d_399 (Conv2D)             (None, 25, 25, 96)   55296       activation_398[0][0]             \n",
      "__________________________________________________________________________________________________\n",
      "batch_normalization_396 (BatchN (None, 25, 25, 48)   144         conv2d_396[0][0]                 \n",
      "__________________________________________________________________________________________________\n",
      "batch_normalization_399 (BatchN (None, 25, 25, 96)   288         conv2d_399[0][0]                 \n",
      "__________________________________________________________________________________________________\n",
      "activation_396 (Activation)     (None, 25, 25, 48)   0           batch_normalization_396[0][0]    \n",
      "__________________________________________________________________________________________________\n",
      "activation_399 (Activation)     (None, 25, 25, 96)   0           batch_normalization_399[0][0]    \n",
      "__________________________________________________________________________________________________\n",
      "average_pooling2d_38 (AveragePo (None, 25, 25, 288)  0           mixed1[0][0]                     \n",
      "__________________________________________________________________________________________________\n",
      "conv2d_395 (Conv2D)             (None, 25, 25, 64)   18432       mixed1[0][0]                     \n",
      "__________________________________________________________________________________________________\n",
      "conv2d_397 (Conv2D)             (None, 25, 25, 64)   76800       activation_396[0][0]             \n",
      "__________________________________________________________________________________________________\n",
      "conv2d_400 (Conv2D)             (None, 25, 25, 96)   82944       activation_399[0][0]             \n",
      "__________________________________________________________________________________________________\n",
      "conv2d_401 (Conv2D)             (None, 25, 25, 64)   18432       average_pooling2d_38[0][0]       \n",
      "__________________________________________________________________________________________________\n",
      "batch_normalization_395 (BatchN (None, 25, 25, 64)   192         conv2d_395[0][0]                 \n",
      "__________________________________________________________________________________________________\n",
      "batch_normalization_397 (BatchN (None, 25, 25, 64)   192         conv2d_397[0][0]                 \n",
      "__________________________________________________________________________________________________\n",
      "batch_normalization_400 (BatchN (None, 25, 25, 96)   288         conv2d_400[0][0]                 \n",
      "__________________________________________________________________________________________________\n",
      "batch_normalization_401 (BatchN (None, 25, 25, 64)   192         conv2d_401[0][0]                 \n",
      "__________________________________________________________________________________________________\n",
      "activation_395 (Activation)     (None, 25, 25, 64)   0           batch_normalization_395[0][0]    \n",
      "__________________________________________________________________________________________________\n",
      "activation_397 (Activation)     (None, 25, 25, 64)   0           batch_normalization_397[0][0]    \n",
      "__________________________________________________________________________________________________\n",
      "activation_400 (Activation)     (None, 25, 25, 96)   0           batch_normalization_400[0][0]    \n",
      "__________________________________________________________________________________________________\n",
      "activation_401 (Activation)     (None, 25, 25, 64)   0           batch_normalization_401[0][0]    \n",
      "__________________________________________________________________________________________________\n",
      "mixed2 (Concatenate)            (None, 25, 25, 288)  0           activation_395[0][0]             \n",
      "                                                                 activation_397[0][0]             \n",
      "                                                                 activation_400[0][0]             \n",
      "                                                                 activation_401[0][0]             \n",
      "__________________________________________________________________________________________________\n",
      "conv2d_403 (Conv2D)             (None, 25, 25, 64)   18432       mixed2[0][0]                     \n",
      "__________________________________________________________________________________________________\n",
      "batch_normalization_403 (BatchN (None, 25, 25, 64)   192         conv2d_403[0][0]                 \n",
      "__________________________________________________________________________________________________\n",
      "activation_403 (Activation)     (None, 25, 25, 64)   0           batch_normalization_403[0][0]    \n",
      "__________________________________________________________________________________________________\n",
      "conv2d_404 (Conv2D)             (None, 25, 25, 96)   55296       activation_403[0][0]             \n",
      "__________________________________________________________________________________________________\n",
      "batch_normalization_404 (BatchN (None, 25, 25, 96)   288         conv2d_404[0][0]                 \n",
      "__________________________________________________________________________________________________\n",
      "activation_404 (Activation)     (None, 25, 25, 96)   0           batch_normalization_404[0][0]    \n",
      "__________________________________________________________________________________________________\n",
      "conv2d_402 (Conv2D)             (None, 12, 12, 384)  995328      mixed2[0][0]                     \n",
      "__________________________________________________________________________________________________\n",
      "conv2d_405 (Conv2D)             (None, 12, 12, 96)   82944       activation_404[0][0]             \n",
      "__________________________________________________________________________________________________\n",
      "batch_normalization_402 (BatchN (None, 12, 12, 384)  1152        conv2d_402[0][0]                 \n",
      "__________________________________________________________________________________________________\n",
      "batch_normalization_405 (BatchN (None, 12, 12, 96)   288         conv2d_405[0][0]                 \n",
      "__________________________________________________________________________________________________\n",
      "activation_402 (Activation)     (None, 12, 12, 384)  0           batch_normalization_402[0][0]    \n",
      "__________________________________________________________________________________________________\n",
      "activation_405 (Activation)     (None, 12, 12, 96)   0           batch_normalization_405[0][0]    \n",
      "__________________________________________________________________________________________________\n",
      "max_pooling2d_18 (MaxPooling2D) (None, 12, 12, 288)  0           mixed2[0][0]                     \n",
      "__________________________________________________________________________________________________\n",
      "mixed3 (Concatenate)            (None, 12, 12, 768)  0           activation_402[0][0]             \n",
      "                                                                 activation_405[0][0]             \n",
      "                                                                 max_pooling2d_18[0][0]           \n",
      "__________________________________________________________________________________________________\n",
      "conv2d_410 (Conv2D)             (None, 12, 12, 128)  98304       mixed3[0][0]                     \n",
      "__________________________________________________________________________________________________\n",
      "batch_normalization_410 (BatchN (None, 12, 12, 128)  384         conv2d_410[0][0]                 \n",
      "__________________________________________________________________________________________________\n",
      "activation_410 (Activation)     (None, 12, 12, 128)  0           batch_normalization_410[0][0]    \n",
      "__________________________________________________________________________________________________\n",
      "conv2d_411 (Conv2D)             (None, 12, 12, 128)  114688      activation_410[0][0]             \n",
      "__________________________________________________________________________________________________\n",
      "batch_normalization_411 (BatchN (None, 12, 12, 128)  384         conv2d_411[0][0]                 \n",
      "__________________________________________________________________________________________________\n",
      "activation_411 (Activation)     (None, 12, 12, 128)  0           batch_normalization_411[0][0]    \n",
      "__________________________________________________________________________________________________\n",
      "conv2d_407 (Conv2D)             (None, 12, 12, 128)  98304       mixed3[0][0]                     \n",
      "__________________________________________________________________________________________________\n",
      "conv2d_412 (Conv2D)             (None, 12, 12, 128)  114688      activation_411[0][0]             \n",
      "__________________________________________________________________________________________________\n",
      "batch_normalization_407 (BatchN (None, 12, 12, 128)  384         conv2d_407[0][0]                 \n",
      "__________________________________________________________________________________________________\n",
      "batch_normalization_412 (BatchN (None, 12, 12, 128)  384         conv2d_412[0][0]                 \n",
      "__________________________________________________________________________________________________\n",
      "activation_407 (Activation)     (None, 12, 12, 128)  0           batch_normalization_407[0][0]    \n",
      "__________________________________________________________________________________________________\n",
      "activation_412 (Activation)     (None, 12, 12, 128)  0           batch_normalization_412[0][0]    \n",
      "__________________________________________________________________________________________________\n",
      "conv2d_408 (Conv2D)             (None, 12, 12, 128)  114688      activation_407[0][0]             \n",
      "__________________________________________________________________________________________________\n",
      "conv2d_413 (Conv2D)             (None, 12, 12, 128)  114688      activation_412[0][0]             \n",
      "__________________________________________________________________________________________________\n",
      "batch_normalization_408 (BatchN (None, 12, 12, 128)  384         conv2d_408[0][0]                 \n",
      "__________________________________________________________________________________________________\n",
      "batch_normalization_413 (BatchN (None, 12, 12, 128)  384         conv2d_413[0][0]                 \n",
      "__________________________________________________________________________________________________\n",
      "activation_408 (Activation)     (None, 12, 12, 128)  0           batch_normalization_408[0][0]    \n",
      "__________________________________________________________________________________________________\n",
      "activation_413 (Activation)     (None, 12, 12, 128)  0           batch_normalization_413[0][0]    \n",
      "__________________________________________________________________________________________________\n",
      "average_pooling2d_39 (AveragePo (None, 12, 12, 768)  0           mixed3[0][0]                     \n",
      "__________________________________________________________________________________________________\n",
      "conv2d_406 (Conv2D)             (None, 12, 12, 192)  147456      mixed3[0][0]                     \n",
      "__________________________________________________________________________________________________\n",
      "conv2d_409 (Conv2D)             (None, 12, 12, 192)  172032      activation_408[0][0]             \n",
      "__________________________________________________________________________________________________\n",
      "conv2d_414 (Conv2D)             (None, 12, 12, 192)  172032      activation_413[0][0]             \n",
      "__________________________________________________________________________________________________\n",
      "conv2d_415 (Conv2D)             (None, 12, 12, 192)  147456      average_pooling2d_39[0][0]       \n",
      "__________________________________________________________________________________________________\n",
      "batch_normalization_406 (BatchN (None, 12, 12, 192)  576         conv2d_406[0][0]                 \n",
      "__________________________________________________________________________________________________\n",
      "batch_normalization_409 (BatchN (None, 12, 12, 192)  576         conv2d_409[0][0]                 \n",
      "__________________________________________________________________________________________________\n",
      "batch_normalization_414 (BatchN (None, 12, 12, 192)  576         conv2d_414[0][0]                 \n",
      "__________________________________________________________________________________________________\n",
      "batch_normalization_415 (BatchN (None, 12, 12, 192)  576         conv2d_415[0][0]                 \n",
      "__________________________________________________________________________________________________\n",
      "activation_406 (Activation)     (None, 12, 12, 192)  0           batch_normalization_406[0][0]    \n",
      "__________________________________________________________________________________________________\n",
      "activation_409 (Activation)     (None, 12, 12, 192)  0           batch_normalization_409[0][0]    \n",
      "__________________________________________________________________________________________________\n",
      "activation_414 (Activation)     (None, 12, 12, 192)  0           batch_normalization_414[0][0]    \n",
      "__________________________________________________________________________________________________\n",
      "activation_415 (Activation)     (None, 12, 12, 192)  0           batch_normalization_415[0][0]    \n",
      "__________________________________________________________________________________________________\n",
      "mixed4 (Concatenate)            (None, 12, 12, 768)  0           activation_406[0][0]             \n",
      "                                                                 activation_409[0][0]             \n",
      "                                                                 activation_414[0][0]             \n",
      "                                                                 activation_415[0][0]             \n",
      "__________________________________________________________________________________________________\n",
      "conv2d_420 (Conv2D)             (None, 12, 12, 160)  122880      mixed4[0][0]                     \n",
      "__________________________________________________________________________________________________\n",
      "batch_normalization_420 (BatchN (None, 12, 12, 160)  480         conv2d_420[0][0]                 \n",
      "__________________________________________________________________________________________________\n",
      "activation_420 (Activation)     (None, 12, 12, 160)  0           batch_normalization_420[0][0]    \n",
      "__________________________________________________________________________________________________\n",
      "conv2d_421 (Conv2D)             (None, 12, 12, 160)  179200      activation_420[0][0]             \n",
      "__________________________________________________________________________________________________\n",
      "batch_normalization_421 (BatchN (None, 12, 12, 160)  480         conv2d_421[0][0]                 \n",
      "__________________________________________________________________________________________________\n",
      "activation_421 (Activation)     (None, 12, 12, 160)  0           batch_normalization_421[0][0]    \n",
      "__________________________________________________________________________________________________\n",
      "conv2d_417 (Conv2D)             (None, 12, 12, 160)  122880      mixed4[0][0]                     \n",
      "__________________________________________________________________________________________________\n",
      "conv2d_422 (Conv2D)             (None, 12, 12, 160)  179200      activation_421[0][0]             \n",
      "__________________________________________________________________________________________________\n",
      "batch_normalization_417 (BatchN (None, 12, 12, 160)  480         conv2d_417[0][0]                 \n",
      "__________________________________________________________________________________________________\n",
      "batch_normalization_422 (BatchN (None, 12, 12, 160)  480         conv2d_422[0][0]                 \n",
      "__________________________________________________________________________________________________\n",
      "activation_417 (Activation)     (None, 12, 12, 160)  0           batch_normalization_417[0][0]    \n",
      "__________________________________________________________________________________________________\n",
      "activation_422 (Activation)     (None, 12, 12, 160)  0           batch_normalization_422[0][0]    \n",
      "__________________________________________________________________________________________________\n",
      "conv2d_418 (Conv2D)             (None, 12, 12, 160)  179200      activation_417[0][0]             \n",
      "__________________________________________________________________________________________________\n",
      "conv2d_423 (Conv2D)             (None, 12, 12, 160)  179200      activation_422[0][0]             \n",
      "__________________________________________________________________________________________________\n",
      "batch_normalization_418 (BatchN (None, 12, 12, 160)  480         conv2d_418[0][0]                 \n",
      "__________________________________________________________________________________________________\n",
      "batch_normalization_423 (BatchN (None, 12, 12, 160)  480         conv2d_423[0][0]                 \n",
      "__________________________________________________________________________________________________\n",
      "activation_418 (Activation)     (None, 12, 12, 160)  0           batch_normalization_418[0][0]    \n",
      "__________________________________________________________________________________________________\n",
      "activation_423 (Activation)     (None, 12, 12, 160)  0           batch_normalization_423[0][0]    \n",
      "__________________________________________________________________________________________________\n",
      "average_pooling2d_40 (AveragePo (None, 12, 12, 768)  0           mixed4[0][0]                     \n",
      "__________________________________________________________________________________________________\n",
      "conv2d_416 (Conv2D)             (None, 12, 12, 192)  147456      mixed4[0][0]                     \n",
      "__________________________________________________________________________________________________\n",
      "conv2d_419 (Conv2D)             (None, 12, 12, 192)  215040      activation_418[0][0]             \n",
      "__________________________________________________________________________________________________\n",
      "conv2d_424 (Conv2D)             (None, 12, 12, 192)  215040      activation_423[0][0]             \n",
      "__________________________________________________________________________________________________\n",
      "conv2d_425 (Conv2D)             (None, 12, 12, 192)  147456      average_pooling2d_40[0][0]       \n",
      "__________________________________________________________________________________________________\n",
      "batch_normalization_416 (BatchN (None, 12, 12, 192)  576         conv2d_416[0][0]                 \n",
      "__________________________________________________________________________________________________\n",
      "batch_normalization_419 (BatchN (None, 12, 12, 192)  576         conv2d_419[0][0]                 \n",
      "__________________________________________________________________________________________________\n",
      "batch_normalization_424 (BatchN (None, 12, 12, 192)  576         conv2d_424[0][0]                 \n",
      "__________________________________________________________________________________________________\n",
      "batch_normalization_425 (BatchN (None, 12, 12, 192)  576         conv2d_425[0][0]                 \n",
      "__________________________________________________________________________________________________\n",
      "activation_416 (Activation)     (None, 12, 12, 192)  0           batch_normalization_416[0][0]    \n",
      "__________________________________________________________________________________________________\n",
      "activation_419 (Activation)     (None, 12, 12, 192)  0           batch_normalization_419[0][0]    \n",
      "__________________________________________________________________________________________________\n",
      "activation_424 (Activation)     (None, 12, 12, 192)  0           batch_normalization_424[0][0]    \n",
      "__________________________________________________________________________________________________\n",
      "activation_425 (Activation)     (None, 12, 12, 192)  0           batch_normalization_425[0][0]    \n",
      "__________________________________________________________________________________________________\n",
      "mixed5 (Concatenate)            (None, 12, 12, 768)  0           activation_416[0][0]             \n",
      "                                                                 activation_419[0][0]             \n",
      "                                                                 activation_424[0][0]             \n",
      "                                                                 activation_425[0][0]             \n",
      "__________________________________________________________________________________________________\n",
      "conv2d_430 (Conv2D)             (None, 12, 12, 160)  122880      mixed5[0][0]                     \n",
      "__________________________________________________________________________________________________\n",
      "batch_normalization_430 (BatchN (None, 12, 12, 160)  480         conv2d_430[0][0]                 \n",
      "__________________________________________________________________________________________________\n",
      "activation_430 (Activation)     (None, 12, 12, 160)  0           batch_normalization_430[0][0]    \n",
      "__________________________________________________________________________________________________\n",
      "conv2d_431 (Conv2D)             (None, 12, 12, 160)  179200      activation_430[0][0]             \n",
      "__________________________________________________________________________________________________\n",
      "batch_normalization_431 (BatchN (None, 12, 12, 160)  480         conv2d_431[0][0]                 \n",
      "__________________________________________________________________________________________________\n",
      "activation_431 (Activation)     (None, 12, 12, 160)  0           batch_normalization_431[0][0]    \n",
      "__________________________________________________________________________________________________\n",
      "conv2d_427 (Conv2D)             (None, 12, 12, 160)  122880      mixed5[0][0]                     \n",
      "__________________________________________________________________________________________________\n",
      "conv2d_432 (Conv2D)             (None, 12, 12, 160)  179200      activation_431[0][0]             \n",
      "__________________________________________________________________________________________________\n",
      "batch_normalization_427 (BatchN (None, 12, 12, 160)  480         conv2d_427[0][0]                 \n",
      "__________________________________________________________________________________________________\n",
      "batch_normalization_432 (BatchN (None, 12, 12, 160)  480         conv2d_432[0][0]                 \n",
      "__________________________________________________________________________________________________\n",
      "activation_427 (Activation)     (None, 12, 12, 160)  0           batch_normalization_427[0][0]    \n",
      "__________________________________________________________________________________________________\n",
      "activation_432 (Activation)     (None, 12, 12, 160)  0           batch_normalization_432[0][0]    \n",
      "__________________________________________________________________________________________________\n",
      "conv2d_428 (Conv2D)             (None, 12, 12, 160)  179200      activation_427[0][0]             \n",
      "__________________________________________________________________________________________________\n",
      "conv2d_433 (Conv2D)             (None, 12, 12, 160)  179200      activation_432[0][0]             \n",
      "__________________________________________________________________________________________________\n",
      "batch_normalization_428 (BatchN (None, 12, 12, 160)  480         conv2d_428[0][0]                 \n",
      "__________________________________________________________________________________________________\n",
      "batch_normalization_433 (BatchN (None, 12, 12, 160)  480         conv2d_433[0][0]                 \n",
      "__________________________________________________________________________________________________\n",
      "activation_428 (Activation)     (None, 12, 12, 160)  0           batch_normalization_428[0][0]    \n",
      "__________________________________________________________________________________________________\n",
      "activation_433 (Activation)     (None, 12, 12, 160)  0           batch_normalization_433[0][0]    \n",
      "__________________________________________________________________________________________________\n",
      "average_pooling2d_41 (AveragePo (None, 12, 12, 768)  0           mixed5[0][0]                     \n",
      "__________________________________________________________________________________________________\n",
      "conv2d_426 (Conv2D)             (None, 12, 12, 192)  147456      mixed5[0][0]                     \n",
      "__________________________________________________________________________________________________\n",
      "conv2d_429 (Conv2D)             (None, 12, 12, 192)  215040      activation_428[0][0]             \n",
      "__________________________________________________________________________________________________\n",
      "conv2d_434 (Conv2D)             (None, 12, 12, 192)  215040      activation_433[0][0]             \n",
      "__________________________________________________________________________________________________\n",
      "conv2d_435 (Conv2D)             (None, 12, 12, 192)  147456      average_pooling2d_41[0][0]       \n",
      "__________________________________________________________________________________________________\n",
      "batch_normalization_426 (BatchN (None, 12, 12, 192)  576         conv2d_426[0][0]                 \n",
      "__________________________________________________________________________________________________\n",
      "batch_normalization_429 (BatchN (None, 12, 12, 192)  576         conv2d_429[0][0]                 \n",
      "__________________________________________________________________________________________________\n",
      "batch_normalization_434 (BatchN (None, 12, 12, 192)  576         conv2d_434[0][0]                 \n",
      "__________________________________________________________________________________________________\n",
      "batch_normalization_435 (BatchN (None, 12, 12, 192)  576         conv2d_435[0][0]                 \n",
      "__________________________________________________________________________________________________\n",
      "activation_426 (Activation)     (None, 12, 12, 192)  0           batch_normalization_426[0][0]    \n",
      "__________________________________________________________________________________________________\n",
      "activation_429 (Activation)     (None, 12, 12, 192)  0           batch_normalization_429[0][0]    \n",
      "__________________________________________________________________________________________________\n",
      "activation_434 (Activation)     (None, 12, 12, 192)  0           batch_normalization_434[0][0]    \n",
      "__________________________________________________________________________________________________\n",
      "activation_435 (Activation)     (None, 12, 12, 192)  0           batch_normalization_435[0][0]    \n",
      "__________________________________________________________________________________________________\n",
      "mixed6 (Concatenate)            (None, 12, 12, 768)  0           activation_426[0][0]             \n",
      "                                                                 activation_429[0][0]             \n",
      "                                                                 activation_434[0][0]             \n",
      "                                                                 activation_435[0][0]             \n",
      "__________________________________________________________________________________________________\n",
      "conv2d_440 (Conv2D)             (None, 12, 12, 192)  147456      mixed6[0][0]                     \n",
      "__________________________________________________________________________________________________\n",
      "batch_normalization_440 (BatchN (None, 12, 12, 192)  576         conv2d_440[0][0]                 \n",
      "__________________________________________________________________________________________________\n",
      "activation_440 (Activation)     (None, 12, 12, 192)  0           batch_normalization_440[0][0]    \n",
      "__________________________________________________________________________________________________\n",
      "conv2d_441 (Conv2D)             (None, 12, 12, 192)  258048      activation_440[0][0]             \n",
      "__________________________________________________________________________________________________\n",
      "batch_normalization_441 (BatchN (None, 12, 12, 192)  576         conv2d_441[0][0]                 \n",
      "__________________________________________________________________________________________________\n",
      "activation_441 (Activation)     (None, 12, 12, 192)  0           batch_normalization_441[0][0]    \n",
      "__________________________________________________________________________________________________\n",
      "conv2d_437 (Conv2D)             (None, 12, 12, 192)  147456      mixed6[0][0]                     \n",
      "__________________________________________________________________________________________________\n",
      "conv2d_442 (Conv2D)             (None, 12, 12, 192)  258048      activation_441[0][0]             \n",
      "__________________________________________________________________________________________________\n",
      "batch_normalization_437 (BatchN (None, 12, 12, 192)  576         conv2d_437[0][0]                 \n",
      "__________________________________________________________________________________________________\n",
      "batch_normalization_442 (BatchN (None, 12, 12, 192)  576         conv2d_442[0][0]                 \n",
      "__________________________________________________________________________________________________\n",
      "activation_437 (Activation)     (None, 12, 12, 192)  0           batch_normalization_437[0][0]    \n",
      "__________________________________________________________________________________________________\n",
      "activation_442 (Activation)     (None, 12, 12, 192)  0           batch_normalization_442[0][0]    \n",
      "__________________________________________________________________________________________________\n",
      "conv2d_438 (Conv2D)             (None, 12, 12, 192)  258048      activation_437[0][0]             \n",
      "__________________________________________________________________________________________________\n",
      "conv2d_443 (Conv2D)             (None, 12, 12, 192)  258048      activation_442[0][0]             \n",
      "__________________________________________________________________________________________________\n",
      "batch_normalization_438 (BatchN (None, 12, 12, 192)  576         conv2d_438[0][0]                 \n",
      "__________________________________________________________________________________________________\n",
      "batch_normalization_443 (BatchN (None, 12, 12, 192)  576         conv2d_443[0][0]                 \n",
      "__________________________________________________________________________________________________\n",
      "activation_438 (Activation)     (None, 12, 12, 192)  0           batch_normalization_438[0][0]    \n",
      "__________________________________________________________________________________________________\n",
      "activation_443 (Activation)     (None, 12, 12, 192)  0           batch_normalization_443[0][0]    \n",
      "__________________________________________________________________________________________________\n",
      "average_pooling2d_42 (AveragePo (None, 12, 12, 768)  0           mixed6[0][0]                     \n",
      "__________________________________________________________________________________________________\n",
      "conv2d_436 (Conv2D)             (None, 12, 12, 192)  147456      mixed6[0][0]                     \n",
      "__________________________________________________________________________________________________\n",
      "conv2d_439 (Conv2D)             (None, 12, 12, 192)  258048      activation_438[0][0]             \n",
      "__________________________________________________________________________________________________\n",
      "conv2d_444 (Conv2D)             (None, 12, 12, 192)  258048      activation_443[0][0]             \n",
      "__________________________________________________________________________________________________\n",
      "conv2d_445 (Conv2D)             (None, 12, 12, 192)  147456      average_pooling2d_42[0][0]       \n",
      "__________________________________________________________________________________________________\n",
      "batch_normalization_436 (BatchN (None, 12, 12, 192)  576         conv2d_436[0][0]                 \n",
      "__________________________________________________________________________________________________\n",
      "batch_normalization_439 (BatchN (None, 12, 12, 192)  576         conv2d_439[0][0]                 \n",
      "__________________________________________________________________________________________________\n",
      "batch_normalization_444 (BatchN (None, 12, 12, 192)  576         conv2d_444[0][0]                 \n",
      "__________________________________________________________________________________________________\n",
      "batch_normalization_445 (BatchN (None, 12, 12, 192)  576         conv2d_445[0][0]                 \n",
      "__________________________________________________________________________________________________\n",
      "activation_436 (Activation)     (None, 12, 12, 192)  0           batch_normalization_436[0][0]    \n",
      "__________________________________________________________________________________________________\n",
      "activation_439 (Activation)     (None, 12, 12, 192)  0           batch_normalization_439[0][0]    \n",
      "__________________________________________________________________________________________________\n",
      "activation_444 (Activation)     (None, 12, 12, 192)  0           batch_normalization_444[0][0]    \n",
      "__________________________________________________________________________________________________\n",
      "activation_445 (Activation)     (None, 12, 12, 192)  0           batch_normalization_445[0][0]    \n",
      "__________________________________________________________________________________________________\n",
      "mixed7 (Concatenate)            (None, 12, 12, 768)  0           activation_436[0][0]             \n",
      "                                                                 activation_439[0][0]             \n",
      "                                                                 activation_444[0][0]             \n",
      "                                                                 activation_445[0][0]             \n",
      "__________________________________________________________________________________________________\n",
      "conv2d_448 (Conv2D)             (None, 12, 12, 192)  147456      mixed7[0][0]                     \n",
      "__________________________________________________________________________________________________\n",
      "batch_normalization_448 (BatchN (None, 12, 12, 192)  576         conv2d_448[0][0]                 \n",
      "__________________________________________________________________________________________________\n",
      "activation_448 (Activation)     (None, 12, 12, 192)  0           batch_normalization_448[0][0]    \n",
      "__________________________________________________________________________________________________\n",
      "conv2d_449 (Conv2D)             (None, 12, 12, 192)  258048      activation_448[0][0]             \n",
      "__________________________________________________________________________________________________\n",
      "batch_normalization_449 (BatchN (None, 12, 12, 192)  576         conv2d_449[0][0]                 \n",
      "__________________________________________________________________________________________________\n",
      "activation_449 (Activation)     (None, 12, 12, 192)  0           batch_normalization_449[0][0]    \n",
      "__________________________________________________________________________________________________\n",
      "conv2d_446 (Conv2D)             (None, 12, 12, 192)  147456      mixed7[0][0]                     \n",
      "__________________________________________________________________________________________________\n",
      "conv2d_450 (Conv2D)             (None, 12, 12, 192)  258048      activation_449[0][0]             \n",
      "__________________________________________________________________________________________________\n",
      "batch_normalization_446 (BatchN (None, 12, 12, 192)  576         conv2d_446[0][0]                 \n",
      "__________________________________________________________________________________________________\n",
      "batch_normalization_450 (BatchN (None, 12, 12, 192)  576         conv2d_450[0][0]                 \n",
      "__________________________________________________________________________________________________\n",
      "activation_446 (Activation)     (None, 12, 12, 192)  0           batch_normalization_446[0][0]    \n",
      "__________________________________________________________________________________________________\n",
      "activation_450 (Activation)     (None, 12, 12, 192)  0           batch_normalization_450[0][0]    \n",
      "__________________________________________________________________________________________________\n",
      "conv2d_447 (Conv2D)             (None, 5, 5, 320)    552960      activation_446[0][0]             \n",
      "__________________________________________________________________________________________________\n",
      "conv2d_451 (Conv2D)             (None, 5, 5, 192)    331776      activation_450[0][0]             \n",
      "__________________________________________________________________________________________________\n",
      "batch_normalization_447 (BatchN (None, 5, 5, 320)    960         conv2d_447[0][0]                 \n",
      "__________________________________________________________________________________________________\n",
      "batch_normalization_451 (BatchN (None, 5, 5, 192)    576         conv2d_451[0][0]                 \n",
      "__________________________________________________________________________________________________\n",
      "activation_447 (Activation)     (None, 5, 5, 320)    0           batch_normalization_447[0][0]    \n",
      "__________________________________________________________________________________________________\n",
      "activation_451 (Activation)     (None, 5, 5, 192)    0           batch_normalization_451[0][0]    \n",
      "__________________________________________________________________________________________________\n",
      "max_pooling2d_19 (MaxPooling2D) (None, 5, 5, 768)    0           mixed7[0][0]                     \n",
      "__________________________________________________________________________________________________\n",
      "mixed8 (Concatenate)            (None, 5, 5, 1280)   0           activation_447[0][0]             \n",
      "                                                                 activation_451[0][0]             \n",
      "                                                                 max_pooling2d_19[0][0]           \n",
      "__________________________________________________________________________________________________\n",
      "conv2d_456 (Conv2D)             (None, 5, 5, 448)    573440      mixed8[0][0]                     \n",
      "__________________________________________________________________________________________________\n",
      "batch_normalization_456 (BatchN (None, 5, 5, 448)    1344        conv2d_456[0][0]                 \n",
      "__________________________________________________________________________________________________\n",
      "activation_456 (Activation)     (None, 5, 5, 448)    0           batch_normalization_456[0][0]    \n",
      "__________________________________________________________________________________________________\n",
      "conv2d_453 (Conv2D)             (None, 5, 5, 384)    491520      mixed8[0][0]                     \n",
      "__________________________________________________________________________________________________\n",
      "conv2d_457 (Conv2D)             (None, 5, 5, 384)    1548288     activation_456[0][0]             \n",
      "__________________________________________________________________________________________________\n",
      "batch_normalization_453 (BatchN (None, 5, 5, 384)    1152        conv2d_453[0][0]                 \n",
      "__________________________________________________________________________________________________\n",
      "batch_normalization_457 (BatchN (None, 5, 5, 384)    1152        conv2d_457[0][0]                 \n",
      "__________________________________________________________________________________________________\n",
      "activation_453 (Activation)     (None, 5, 5, 384)    0           batch_normalization_453[0][0]    \n",
      "__________________________________________________________________________________________________\n",
      "activation_457 (Activation)     (None, 5, 5, 384)    0           batch_normalization_457[0][0]    \n",
      "__________________________________________________________________________________________________\n",
      "conv2d_454 (Conv2D)             (None, 5, 5, 384)    442368      activation_453[0][0]             \n",
      "__________________________________________________________________________________________________\n",
      "conv2d_455 (Conv2D)             (None, 5, 5, 384)    442368      activation_453[0][0]             \n",
      "__________________________________________________________________________________________________\n",
      "conv2d_458 (Conv2D)             (None, 5, 5, 384)    442368      activation_457[0][0]             \n",
      "__________________________________________________________________________________________________\n",
      "conv2d_459 (Conv2D)             (None, 5, 5, 384)    442368      activation_457[0][0]             \n",
      "__________________________________________________________________________________________________\n",
      "average_pooling2d_43 (AveragePo (None, 5, 5, 1280)   0           mixed8[0][0]                     \n",
      "__________________________________________________________________________________________________\n",
      "conv2d_452 (Conv2D)             (None, 5, 5, 320)    409600      mixed8[0][0]                     \n",
      "__________________________________________________________________________________________________\n",
      "batch_normalization_454 (BatchN (None, 5, 5, 384)    1152        conv2d_454[0][0]                 \n",
      "__________________________________________________________________________________________________\n",
      "batch_normalization_455 (BatchN (None, 5, 5, 384)    1152        conv2d_455[0][0]                 \n",
      "__________________________________________________________________________________________________\n",
      "batch_normalization_458 (BatchN (None, 5, 5, 384)    1152        conv2d_458[0][0]                 \n",
      "__________________________________________________________________________________________________\n",
      "batch_normalization_459 (BatchN (None, 5, 5, 384)    1152        conv2d_459[0][0]                 \n",
      "__________________________________________________________________________________________________\n",
      "conv2d_460 (Conv2D)             (None, 5, 5, 192)    245760      average_pooling2d_43[0][0]       \n",
      "__________________________________________________________________________________________________\n",
      "batch_normalization_452 (BatchN (None, 5, 5, 320)    960         conv2d_452[0][0]                 \n",
      "__________________________________________________________________________________________________\n",
      "activation_454 (Activation)     (None, 5, 5, 384)    0           batch_normalization_454[0][0]    \n",
      "__________________________________________________________________________________________________\n",
      "activation_455 (Activation)     (None, 5, 5, 384)    0           batch_normalization_455[0][0]    \n",
      "__________________________________________________________________________________________________\n",
      "activation_458 (Activation)     (None, 5, 5, 384)    0           batch_normalization_458[0][0]    \n",
      "__________________________________________________________________________________________________\n",
      "activation_459 (Activation)     (None, 5, 5, 384)    0           batch_normalization_459[0][0]    \n",
      "__________________________________________________________________________________________________\n",
      "batch_normalization_460 (BatchN (None, 5, 5, 192)    576         conv2d_460[0][0]                 \n",
      "__________________________________________________________________________________________________\n",
      "activation_452 (Activation)     (None, 5, 5, 320)    0           batch_normalization_452[0][0]    \n",
      "__________________________________________________________________________________________________\n",
      "mixed9_0 (Concatenate)          (None, 5, 5, 768)    0           activation_454[0][0]             \n",
      "                                                                 activation_455[0][0]             \n",
      "__________________________________________________________________________________________________\n",
      "concatenate_8 (Concatenate)     (None, 5, 5, 768)    0           activation_458[0][0]             \n",
      "                                                                 activation_459[0][0]             \n",
      "__________________________________________________________________________________________________\n",
      "activation_460 (Activation)     (None, 5, 5, 192)    0           batch_normalization_460[0][0]    \n",
      "__________________________________________________________________________________________________\n",
      "mixed9 (Concatenate)            (None, 5, 5, 2048)   0           activation_452[0][0]             \n",
      "                                                                 mixed9_0[0][0]                   \n",
      "                                                                 concatenate_8[0][0]              \n",
      "                                                                 activation_460[0][0]             \n",
      "__________________________________________________________________________________________________\n",
      "conv2d_465 (Conv2D)             (None, 5, 5, 448)    917504      mixed9[0][0]                     \n",
      "__________________________________________________________________________________________________\n",
      "batch_normalization_465 (BatchN (None, 5, 5, 448)    1344        conv2d_465[0][0]                 \n",
      "__________________________________________________________________________________________________\n",
      "activation_465 (Activation)     (None, 5, 5, 448)    0           batch_normalization_465[0][0]    \n",
      "__________________________________________________________________________________________________\n",
      "conv2d_462 (Conv2D)             (None, 5, 5, 384)    786432      mixed9[0][0]                     \n",
      "__________________________________________________________________________________________________\n",
      "conv2d_466 (Conv2D)             (None, 5, 5, 384)    1548288     activation_465[0][0]             \n",
      "__________________________________________________________________________________________________\n",
      "batch_normalization_462 (BatchN (None, 5, 5, 384)    1152        conv2d_462[0][0]                 \n",
      "__________________________________________________________________________________________________\n",
      "batch_normalization_466 (BatchN (None, 5, 5, 384)    1152        conv2d_466[0][0]                 \n",
      "__________________________________________________________________________________________________\n",
      "activation_462 (Activation)     (None, 5, 5, 384)    0           batch_normalization_462[0][0]    \n",
      "__________________________________________________________________________________________________\n",
      "activation_466 (Activation)     (None, 5, 5, 384)    0           batch_normalization_466[0][0]    \n",
      "__________________________________________________________________________________________________\n",
      "conv2d_463 (Conv2D)             (None, 5, 5, 384)    442368      activation_462[0][0]             \n",
      "__________________________________________________________________________________________________\n",
      "conv2d_464 (Conv2D)             (None, 5, 5, 384)    442368      activation_462[0][0]             \n",
      "__________________________________________________________________________________________________\n",
      "conv2d_467 (Conv2D)             (None, 5, 5, 384)    442368      activation_466[0][0]             \n",
      "__________________________________________________________________________________________________\n",
      "conv2d_468 (Conv2D)             (None, 5, 5, 384)    442368      activation_466[0][0]             \n",
      "__________________________________________________________________________________________________\n",
      "average_pooling2d_44 (AveragePo (None, 5, 5, 2048)   0           mixed9[0][0]                     \n",
      "__________________________________________________________________________________________________\n",
      "conv2d_461 (Conv2D)             (None, 5, 5, 320)    655360      mixed9[0][0]                     \n",
      "__________________________________________________________________________________________________\n",
      "batch_normalization_463 (BatchN (None, 5, 5, 384)    1152        conv2d_463[0][0]                 \n",
      "__________________________________________________________________________________________________\n",
      "batch_normalization_464 (BatchN (None, 5, 5, 384)    1152        conv2d_464[0][0]                 \n",
      "__________________________________________________________________________________________________\n",
      "batch_normalization_467 (BatchN (None, 5, 5, 384)    1152        conv2d_467[0][0]                 \n",
      "__________________________________________________________________________________________________\n",
      "batch_normalization_468 (BatchN (None, 5, 5, 384)    1152        conv2d_468[0][0]                 \n",
      "__________________________________________________________________________________________________\n",
      "conv2d_469 (Conv2D)             (None, 5, 5, 192)    393216      average_pooling2d_44[0][0]       \n",
      "__________________________________________________________________________________________________\n",
      "batch_normalization_461 (BatchN (None, 5, 5, 320)    960         conv2d_461[0][0]                 \n",
      "__________________________________________________________________________________________________\n",
      "activation_463 (Activation)     (None, 5, 5, 384)    0           batch_normalization_463[0][0]    \n",
      "__________________________________________________________________________________________________\n",
      "activation_464 (Activation)     (None, 5, 5, 384)    0           batch_normalization_464[0][0]    \n",
      "__________________________________________________________________________________________________\n",
      "activation_467 (Activation)     (None, 5, 5, 384)    0           batch_normalization_467[0][0]    \n",
      "__________________________________________________________________________________________________\n",
      "activation_468 (Activation)     (None, 5, 5, 384)    0           batch_normalization_468[0][0]    \n",
      "__________________________________________________________________________________________________\n",
      "batch_normalization_469 (BatchN (None, 5, 5, 192)    576         conv2d_469[0][0]                 \n",
      "__________________________________________________________________________________________________\n",
      "activation_461 (Activation)     (None, 5, 5, 320)    0           batch_normalization_461[0][0]    \n",
      "__________________________________________________________________________________________________\n",
      "mixed9_1 (Concatenate)          (None, 5, 5, 768)    0           activation_463[0][0]             \n",
      "                                                                 activation_464[0][0]             \n",
      "__________________________________________________________________________________________________\n",
      "concatenate_9 (Concatenate)     (None, 5, 5, 768)    0           activation_467[0][0]             \n",
      "                                                                 activation_468[0][0]             \n",
      "__________________________________________________________________________________________________\n",
      "activation_469 (Activation)     (None, 5, 5, 192)    0           batch_normalization_469[0][0]    \n",
      "__________________________________________________________________________________________________\n",
      "mixed10 (Concatenate)           (None, 5, 5, 2048)   0           activation_461[0][0]             \n",
      "                                                                 mixed9_1[0][0]                   \n",
      "                                                                 concatenate_9[0][0]              \n",
      "                                                                 activation_469[0][0]             \n",
      "__________________________________________________________________________________________________\n",
      "global_average_pooling2d_6 (Glo (None, 2048)         0           mixed10[0][0]                    \n",
      "__________________________________________________________________________________________________\n",
      "dropout_5 (Dropout)             (None, 2048)         0           global_average_pooling2d_6[0][0] \n",
      "__________________________________________________________________________________________________\n",
      "flatten_1 (Flatten)             (None, 2048)         0           dropout_5[0][0]                  \n",
      "__________________________________________________________________________________________________\n",
      "dense_4 (Dense)                 (None, 512)          1049088     flatten_1[0][0]                  \n",
      "__________________________________________________________________________________________________\n",
      "dropout_6 (Dropout)             (None, 512)          0           dense_4[0][0]                    \n",
      "__________________________________________________________________________________________________\n",
      "dense_5 (Dense)                 (None, 256)          131328      dropout_6[0][0]                  \n",
      "__________________________________________________________________________________________________\n",
      "dropout_7 (Dropout)             (None, 256)          0           dense_5[0][0]                    \n",
      "__________________________________________________________________________________________________\n",
      "dense_6 (Dense)                 (None, 128)          32896       dropout_7[0][0]                  \n",
      "__________________________________________________________________________________________________\n",
      "dropout_8 (Dropout)             (None, 128)          0           dense_6[0][0]                    \n",
      "__________________________________________________________________________________________________\n",
      "dense_7 (Dense)                 (None, 4)            516         dropout_8[0][0]                  \n",
      "==================================================================================================\n",
      "Total params: 23,016,612\n",
      "Trainable params: 1,213,828\n",
      "Non-trainable params: 21,802,784\n",
      "__________________________________________________________________________________________________\n"
     ]
    }
   ],
   "source": [
    "# view the structure of the model\n",
    "model.summary()"
   ]
  },
  {
   "cell_type": "code",
   "execution_count": null,
   "metadata": {
    "id": "yRHGjveum3ZC"
   },
   "outputs": [],
   "source": [
    "from keras.optimizers import Adam\n",
    "opt = Adam(lr=0.0001,beta_1=0.9, beta_2=0.999, epsilon=None, decay=0.0,  amsgrad=False)"
   ]
  },
  {
   "cell_type": "code",
   "execution_count": null,
   "metadata": {
    "id": "IbuVpBPHMrRq"
   },
   "outputs": [],
   "source": [
    "# tell the model what cost and optimization method to use\n",
    "model.compile(\n",
    "  loss='categorical_crossentropy',\n",
    "  optimizer='adam',\n",
    "  metrics=['accuracy']\n",
    ")\n"
   ]
  },
  {
   "cell_type": "code",
   "execution_count": 4,
   "metadata": {
    "id": "kwbLLLc3MrRr"
   },
   "outputs": [],
   "source": [
    "# Use the Image Data Generator to import the images from the dataset\n",
    "datagen = ImageDataGenerator(rescale = 1./255,\n",
    "                             rotation_range=10,\n",
    "                             zoom_range = 0.1,\n",
    "                             width_shift_range=0.1,\n",
    "                             height_shift_range=0.1,\n",
    "                             horizontal_flip=False,\n",
    "                             shear_range = 0.2, \n",
    "                             vertical_flip=False,\n",
    "                             validation_split = 0.2)\n",
    "\n",
    "\n",
    "val_datagen = ImageDataGenerator(rescale = 1./255)"
   ]
  },
  {
   "cell_type": "code",
   "execution_count": null,
   "metadata": {
    "colab": {
     "base_uri": "https://localhost:8080/"
    },
    "id": "Q-iah8JwMrRr",
    "outputId": "289a4884-4022-4ae2-cff9-22d9ab4ecaa8"
   },
   "outputs": [
    {
     "name": "stdout",
     "output_type": "stream",
     "text": [
      "Found 6418 images belonging to 4 classes.\n"
     ]
    }
   ],
   "source": [
    "# Make sure you provide the same target size as initialied for the image size\n",
    "training_set = datagen.flow_from_directory(train_path,\n",
    "                                           target_size = (224, 224),\n",
    "                                           batch_size = 32,\n",
    "                                           subset = \"training\",\n",
    "                                           class_mode = 'categorical')"
   ]
  },
  {
   "cell_type": "code",
   "execution_count": 7,
   "metadata": {
    "colab": {
     "base_uri": "https://localhost:8080/"
    },
    "id": "aWmfDCHzMrRr",
    "outputId": "053b44df-cdd8-4347-f001-5079dee37b63"
   },
   "outputs": [
    {
     "name": "stdout",
     "output_type": "stream",
     "text": [
      "Found 1604 images belonging to 4 classes.\n"
     ]
    }
   ],
   "source": [
    "test_set = datagen.flow_from_directory(validation_path,\n",
    "                                       target_size = (224, 224),\n",
    "                                       batch_size = 32,\n",
    "                                       subset = \"validation\",\n",
    "                                       shuffle = False,\n",
    "                                       class_mode = 'categorical')"
   ]
  },
  {
   "cell_type": "code",
   "execution_count": null,
   "metadata": {
    "id": "Czuk_0zxmxAH"
   },
   "outputs": [],
   "source": [
    "# ReduceLROnPlateau - automatically set the LR if no change is detected\n",
    "learning_rate_reduction = ReduceLROnPlateau(monitor='val_accuracy', \n",
    "                                             patience=3, \n",
    "                                             verbose=1, \n",
    "                                             factor=0.5, \n",
    "                                             min_lr=0.00001)"
   ]
  },
  {
   "cell_type": "code",
   "execution_count": null,
   "metadata": {
    "id": "KUlfKyG8Jc5t"
   },
   "outputs": [],
   "source": [
    "early_stoping = tf.keras.callbacks.EarlyStopping(\n",
    "    monitor=\"val_loss\", \n",
    "    min_delta=0,\n",
    "    patience=2,\n",
    "    verbose=0,\n",
    "    mode=\"auto\",\n",
    "    baseline=None,\n",
    "    restore_best_weights=True # check this out how it can work\n",
    ")"
   ]
  },
  {
   "cell_type": "code",
   "execution_count": null,
   "metadata": {
    "colab": {
     "background_save": true,
     "base_uri": "https://localhost:8080/"
    },
    "id": "mNzCAjw0MrRs",
    "outputId": "7effb4f5-6274-4ca1-d70a-f3a0ca13b746",
    "scrolled": true
   },
   "outputs": [
    {
     "name": "stdout",
     "output_type": "stream",
     "text": [
      "Epoch 1/50\n",
      "201/201 [==============================] - 114s 544ms/step - loss: 1.3703 - accuracy: 0.4554 - val_loss: 0.5653 - val_accuracy: 0.7737\n",
      "Epoch 2/50\n",
      "201/201 [==============================] - 107s 531ms/step - loss: 0.6462 - accuracy: 0.7508 - val_loss: 0.5579 - val_accuracy: 0.7606\n",
      "Epoch 3/50\n",
      "201/201 [==============================] - 106s 528ms/step - loss: 0.5458 - accuracy: 0.7989 - val_loss: 0.4965 - val_accuracy: 0.7924\n",
      "Epoch 4/50\n",
      "201/201 [==============================] - 106s 525ms/step - loss: 0.4873 - accuracy: 0.8193 - val_loss: 0.4868 - val_accuracy: 0.7968\n",
      "Epoch 5/50\n",
      "201/201 [==============================] - 106s 528ms/step - loss: 0.4427 - accuracy: 0.8382 - val_loss: 0.5016 - val_accuracy: 0.7943\n",
      "Epoch 6/50\n",
      "201/201 [==============================] - 106s 527ms/step - loss: 0.4496 - accuracy: 0.8378 - val_loss: 0.4514 - val_accuracy: 0.8074\n",
      "Epoch 7/50\n",
      "201/201 [==============================] - 106s 529ms/step - loss: 0.4094 - accuracy: 0.8605 - val_loss: 0.4276 - val_accuracy: 0.8242\n",
      "Epoch 8/50\n",
      "201/201 [==============================] - 106s 527ms/step - loss: 0.4200 - accuracy: 0.8495 - val_loss: 0.4706 - val_accuracy: 0.8061\n",
      "Epoch 9/50\n",
      "201/201 [==============================] - 105s 524ms/step - loss: 0.3976 - accuracy: 0.8587 - val_loss: 0.4550 - val_accuracy: 0.8161\n",
      "Epoch 10/50\n",
      "201/201 [==============================] - 105s 525ms/step - loss: 0.4096 - accuracy: 0.8532 - val_loss: 0.4450 - val_accuracy: 0.8217\n",
      "\n",
      "Epoch 00010: ReduceLROnPlateau reducing learning rate to 0.0005000000237487257.\n",
      "Epoch 11/50\n",
      "201/201 [==============================] - 106s 529ms/step - loss: 0.3701 - accuracy: 0.8692 - val_loss: 0.4652 - val_accuracy: 0.8105\n",
      "Epoch 12/50\n",
      "201/201 [==============================] - 107s 530ms/step - loss: 0.3746 - accuracy: 0.8646 - val_loss: 0.4354 - val_accuracy: 0.8261\n",
      "Epoch 13/50\n",
      "201/201 [==============================] - 107s 530ms/step - loss: 0.3508 - accuracy: 0.8745 - val_loss: 0.4345 - val_accuracy: 0.8286\n",
      "Epoch 14/50\n",
      "201/201 [==============================] - 106s 529ms/step - loss: 0.3586 - accuracy: 0.8701 - val_loss: 0.4252 - val_accuracy: 0.8335\n",
      "Epoch 15/50\n",
      "201/201 [==============================] - 106s 528ms/step - loss: 0.3512 - accuracy: 0.8687 - val_loss: 0.4160 - val_accuracy: 0.8267\n",
      "Epoch 16/50\n",
      "201/201 [==============================] - 106s 527ms/step - loss: 0.3405 - accuracy: 0.8725 - val_loss: 0.4185 - val_accuracy: 0.8267\n",
      "Epoch 17/50\n",
      "201/201 [==============================] - 106s 528ms/step - loss: 0.3629 - accuracy: 0.8664 - val_loss: 0.3890 - val_accuracy: 0.8410\n",
      "Epoch 18/50\n",
      "201/201 [==============================] - 105s 522ms/step - loss: 0.3326 - accuracy: 0.8816 - val_loss: 0.4067 - val_accuracy: 0.8379\n",
      "Epoch 19/50\n",
      "201/201 [==============================] - 105s 524ms/step - loss: 0.3409 - accuracy: 0.8811 - val_loss: 0.4026 - val_accuracy: 0.8279\n",
      "Epoch 20/50\n",
      "201/201 [==============================] - 105s 525ms/step - loss: 0.3319 - accuracy: 0.8844 - val_loss: 0.3799 - val_accuracy: 0.8429\n",
      "Epoch 21/50\n",
      "201/201 [==============================] - 106s 526ms/step - loss: 0.3305 - accuracy: 0.8787 - val_loss: 0.4126 - val_accuracy: 0.8267\n",
      "Epoch 22/50\n",
      "201/201 [==============================] - 106s 527ms/step - loss: 0.3333 - accuracy: 0.8783 - val_loss: 0.4007 - val_accuracy: 0.8354\n",
      "Epoch 23/50\n",
      "201/201 [==============================] - 105s 525ms/step - loss: 0.3167 - accuracy: 0.8841 - val_loss: 0.3990 - val_accuracy: 0.8267\n",
      "\n",
      "Epoch 00023: ReduceLROnPlateau reducing learning rate to 0.0002500000118743628.\n",
      "Epoch 24/50\n",
      "201/201 [==============================] - 106s 525ms/step - loss: 0.3065 - accuracy: 0.8855 - val_loss: 0.4010 - val_accuracy: 0.8460\n",
      "Epoch 25/50\n",
      "201/201 [==============================] - 105s 525ms/step - loss: 0.3048 - accuracy: 0.8897 - val_loss: 0.4167 - val_accuracy: 0.8279\n",
      "Epoch 26/50\n",
      "201/201 [==============================] - 106s 525ms/step - loss: 0.3010 - accuracy: 0.8894 - val_loss: 0.4380 - val_accuracy: 0.8335\n",
      "Epoch 27/50\n",
      "201/201 [==============================] - 105s 523ms/step - loss: 0.3025 - accuracy: 0.8928 - val_loss: 0.4105 - val_accuracy: 0.8379\n",
      "\n",
      "Epoch 00027: ReduceLROnPlateau reducing learning rate to 0.0001250000059371814.\n",
      "Epoch 28/50\n",
      "201/201 [==============================] - 106s 527ms/step - loss: 0.3154 - accuracy: 0.8859 - val_loss: 0.4113 - val_accuracy: 0.8223\n",
      "Epoch 29/50\n",
      "201/201 [==============================] - 107s 530ms/step - loss: 0.3217 - accuracy: 0.8930 - val_loss: 0.4175 - val_accuracy: 0.8473\n",
      "Epoch 30/50\n",
      "201/201 [==============================] - 106s 528ms/step - loss: 0.2704 - accuracy: 0.8981 - val_loss: 0.4020 - val_accuracy: 0.8379\n",
      "Epoch 31/50\n",
      "201/201 [==============================] - 106s 528ms/step - loss: 0.2954 - accuracy: 0.8858 - val_loss: 0.3967 - val_accuracy: 0.8541\n",
      "Epoch 32/50\n",
      "201/201 [==============================] - 105s 524ms/step - loss: 0.2808 - accuracy: 0.8978 - val_loss: 0.4188 - val_accuracy: 0.8466\n",
      "Epoch 33/50\n",
      "201/201 [==============================] - 105s 525ms/step - loss: 0.2894 - accuracy: 0.8974 - val_loss: 0.3989 - val_accuracy: 0.8460\n",
      "Epoch 34/50\n",
      "201/201 [==============================] - 106s 525ms/step - loss: 0.2901 - accuracy: 0.8940 - val_loss: 0.3818 - val_accuracy: 0.8491\n",
      "\n",
      "Epoch 00034: ReduceLROnPlateau reducing learning rate to 6.25000029685907e-05.\n",
      "Epoch 35/50\n",
      "201/201 [==============================] - 106s 526ms/step - loss: 0.2903 - accuracy: 0.8975 - val_loss: 0.3854 - val_accuracy: 0.8541\n",
      "Epoch 36/50\n",
      "201/201 [==============================] - 106s 527ms/step - loss: 0.2702 - accuracy: 0.9033 - val_loss: 0.4009 - val_accuracy: 0.8460\n",
      "Epoch 37/50\n",
      "201/201 [==============================] - 106s 525ms/step - loss: 0.2833 - accuracy: 0.8962 - val_loss: 0.4161 - val_accuracy: 0.8367\n",
      "\n",
      "Epoch 00037: ReduceLROnPlateau reducing learning rate to 3.125000148429535e-05.\n",
      "Epoch 38/50\n",
      "201/201 [==============================] - 105s 523ms/step - loss: 0.3005 - accuracy: 0.8994 - val_loss: 0.4099 - val_accuracy: 0.8485\n",
      "Epoch 39/50\n",
      "201/201 [==============================] - 105s 522ms/step - loss: 0.2797 - accuracy: 0.9004 - val_loss: 0.4078 - val_accuracy: 0.8385\n",
      "Epoch 40/50\n",
      "201/201 [==============================] - 105s 523ms/step - loss: 0.2597 - accuracy: 0.9077 - val_loss: 0.4154 - val_accuracy: 0.8373\n",
      "\n",
      "Epoch 00040: ReduceLROnPlateau reducing learning rate to 1.5625000742147677e-05.\n",
      "Epoch 41/50\n",
      "201/201 [==============================] - 104s 519ms/step - loss: 0.2832 - accuracy: 0.9019 - val_loss: 0.3960 - val_accuracy: 0.8435\n",
      "Epoch 42/50\n",
      "201/201 [==============================] - 104s 517ms/step - loss: 0.2779 - accuracy: 0.8959 - val_loss: 0.3858 - val_accuracy: 0.8522\n",
      "Epoch 43/50\n",
      "201/201 [==============================] - 105s 524ms/step - loss: 0.2654 - accuracy: 0.9109 - val_loss: 0.3884 - val_accuracy: 0.8460\n",
      "\n",
      "Epoch 00043: ReduceLROnPlateau reducing learning rate to 1e-05.\n",
      "Epoch 44/50\n",
      "201/201 [==============================] - 105s 523ms/step - loss: 0.2943 - accuracy: 0.8960 - val_loss: 0.3957 - val_accuracy: 0.8473\n",
      "Epoch 45/50\n",
      "201/201 [==============================] - 104s 520ms/step - loss: 0.2817 - accuracy: 0.8984 - val_loss: 0.3960 - val_accuracy: 0.8460\n",
      "Epoch 46/50\n",
      "201/201 [==============================] - 105s 522ms/step - loss: 0.2846 - accuracy: 0.9014 - val_loss: 0.4148 - val_accuracy: 0.8429\n",
      "Epoch 47/50\n",
      "201/201 [==============================] - 105s 523ms/step - loss: 0.2882 - accuracy: 0.8992 - val_loss: 0.4038 - val_accuracy: 0.8379\n",
      "Epoch 48/50\n",
      "201/201 [==============================] - 105s 523ms/step - loss: 0.2688 - accuracy: 0.8999 - val_loss: 0.3940 - val_accuracy: 0.8504\n",
      "Epoch 49/50\n",
      "201/201 [==============================] - 105s 520ms/step - loss: 0.2806 - accuracy: 0.8953 - val_loss: 0.4025 - val_accuracy: 0.8398\n",
      "Epoch 50/50\n",
      "201/201 [==============================] - 104s 516ms/step - loss: 0.2928 - accuracy: 0.8905 - val_loss: 0.4168 - val_accuracy: 0.8454\n"
     ]
    }
   ],
   "source": [
    "# fit the model\n",
    "# Run the cell. It will take some time to execute\n",
    "r = model.fit(\n",
    "  training_set,\n",
    "  validation_data=test_set,\n",
    "  callbacks=[learning_rate_reduction],\n",
    "  epochs=50,\n",
    "  steps_per_epoch=len(training_set),\n",
    "  validation_steps=len(test_set)\n",
    ")"
   ]
  },
  {
   "cell_type": "code",
   "execution_count": null,
   "metadata": {
    "colab": {
     "background_save": true
    },
    "id": "uJoFzh6VMrRs",
    "outputId": "6e371efa-113c-4dd5-91c2-c537b1a374d2"
   },
   "outputs": [
    {
     "data": {
      "image/png": "[encoded data removed]",
      "text/plain": [
       "<Figure size 432x288 with 1 Axes>"
      ]
     },
     "metadata": {
      "tags": []
     },
     "output_type": "display_data"
    },
    {
     "data": {
      "image/png": "[encoded data removed]",
      "text/plain": [
       "<Figure size 432x288 with 1 Axes>"
      ]
     },
     "metadata": {
      "tags": []
     },
     "output_type": "display_data"
    },
    {
     "data": {
      "text/plain": [
       "<Figure size 432x288 with 0 Axes>"
      ]
     },
     "metadata": {
      "tags": []
     },
     "output_type": "display_data"
    }
   ],
   "source": [
    "# plot the loss\n",
    "plt.plot(r.history['loss'],'r', label='train loss')\n",
    "plt.plot(r.history['val_loss'],'b', label='val loss')\n",
    "plt.title(\"Trainng and Validatin Loss\")\n",
    "plt.xlabel(\"Epoch #\")\n",
    "plt.ylabel(\"Loss\")\n",
    "plt.legend()\n",
    "plt.show()\n",
    "plt.savefig('LossVal_loss')\n",
    "\n",
    "# plot the accuracy\n",
    "plt.plot(r.history['accuracy'],'r', label='train acc')\n",
    "plt.plot(r.history['val_accuracy'],'b', label='val acc')\n",
    "plt.title(\"Training and Validation Accuracy\")\n",
    "plt.xlabel(\"Epoch #\")\n",
    "plt.ylabel(\"Accuracy\")\n",
    "plt.legend()\n",
    "plt.show()\n",
    "plt.savefig('AccVal_acc')"
   ]
  },
  {
   "cell_type": "code",
   "execution_count": null,
   "metadata": {
    "colab": {
     "background_save": true
    },
    "id": "ogz-wBRmZ0Ql",
    "outputId": "bb8435a0-0ade-45fa-a9f0-baa351a73c77"
   },
   "outputs": [
    {
     "name": "stdout",
     "output_type": "stream",
     "text": [
      "51/51 [==============================] - 21s 411ms/step - loss: 0.4164 - accuracy: 0.8292\n",
      "201/201 [==============================] - 83s 413ms/step - loss: 0.1683 - accuracy: 0.9528\n"
     ]
    }
   ],
   "source": [
    "#loss, accuracy = my_model.evaluate(x_test, y_test, verbose=1)\n",
    "loss, accuracy = model.evaluate(test_set, verbose=1)\n",
    "# loss_v, accuracy_v = my_model.evaluate(x_validate, y_validate, verbose=1)\n",
    "t_loss, t_accuracy = model.evaluate(training_set, verbose=1)"
   ]
  },
  {
   "cell_type": "code",
   "execution_count": null,
   "metadata": {
    "colab": {
     "background_save": true
    },
    "id": "3kD5JTowZ2Sc",
    "outputId": "ceed605b-2fe2-4472-b460-d4412fa3b4b4"
   },
   "outputs": [
    {
     "name": "stdout",
     "output_type": "stream",
     "text": [
      "Training: accuracy = 0.952789  ;  loss_v = 0.168330\n",
      "Validation: accuracy = 0.829177  ;  loss = 0.416356\n"
     ]
    }
   ],
   "source": [
    "print(\"Training: accuracy = %f  ;  loss_v = %f\" % (t_accuracy, t_loss))\n",
    "print(\"Validation: accuracy = %f  ;  loss = %f\" % (accuracy, loss))"
   ]
  },
  {
   "cell_type": "code",
   "execution_count": null,
   "metadata": {
    "colab": {
     "background_save": true
    },
    "id": "ydy6A3kOEDI2"
   },
   "outputs": [],
   "source": [
    "# save it as a h5 file\n",
    "\n",
    "model.save('../data/faba_bean_model_inceptionv3_original_image_1.h5')"
   ]
  },
  {
   "cell_type": "code",
   "execution_count": 6,
   "metadata": {
    "id": "ooY1dwNnEDJF"
   },
   "outputs": [],
   "source": [
    "# open saved model file\n",
    "my_model = keras.models.load_model('../data/faba_bean_model_inceptionv3_original_image_1.h5')"
   ]
  },
  {
   "cell_type": "code",
   "execution_count": 8,
   "metadata": {
    "colab": {
     "base_uri": "https://localhost:8080/",
     "height": 311
    },
    "id": "uvR2kGZRZ5Yj",
    "outputId": "9711d21f-4214-4630-8f72-9596c300d91d"
   },
   "outputs": [
    {
     "data": {
      "image/png": "[encoded data removed]",
      "text/plain": [
       "<Figure size 432x288 with 2 Axes>"
      ]
     },
     "metadata": {
      "needs_background": "light",
      "tags": []
     },
     "output_type": "display_data"
    }
   ],
   "source": [
    "def plot_confusion_matrix(cm, classes,\n",
    "                          normalize=False,\n",
    "                          title='Confusion matrix',\n",
    "                          cmap=plt.cm.Blues):\n",
    "  \n",
    "    plt.imshow(cm, interpolation='nearest', cmap=cmap)\n",
    "    plt.title(title)\n",
    "    plt.colorbar()\n",
    "    tick_marks = np.arange(len(classes))\n",
    "    plt.xticks(tick_marks, classes, rotation=45)\n",
    "    plt.yticks(tick_marks, classes)\n",
    "\n",
    "    if normalize:\n",
    "        cm = cm.astype('float') / cm.sum(axis=1)[:, np.newaxis]\n",
    "\n",
    "    thresh = cm.max() / 2.\n",
    "    for i, j in itertools.product(range(cm.shape[0]), range(cm.shape[1])):\n",
    "        plt.text(j, i, cm[i, j],\n",
    "                 horizontalalignment=\"center\",\n",
    "                 color=\"white\" if cm[i, j] > thresh else \"black\")\n",
    "\n",
    "    plt.tight_layout()\n",
    "    plt.ylabel('True label')\n",
    "    plt.xlabel('Predicted label')\n",
    "\n",
    "# Get the predicted classes\n",
    "predictions = my_model.predict(test_set,  1506 // 32 + 1)\n",
    "predicted_classes = np.argmax(predictions, axis = 1) \n",
    "\n",
    "# Get ground-truth classes and class-labels\n",
    "true_classes = test_set.classes\n",
    "\n",
    "target_name = ['Checolate', 'Gal', 'Healthy', 'Rust']\n",
    "\n",
    "confusion_mtx = confusion_matrix(true_classes, predicted_classes)\n",
    "\n",
    "plot_confusion_matrix(confusion_mtx, classes = target_name) "
   ]
  },
  {
   "cell_type": "code",
   "execution_count": 9,
   "metadata": {
    "colab": {
     "base_uri": "https://localhost:8080/",
     "height": 297
    },
    "id": "p9XVlyBpZ_Ea",
    "outputId": "2389f234-45ae-4258-b3b6-97d03e1e8ede"
   },
   "outputs": [
    {
     "data": {
      "text/plain": [
       "Text(0, 0.5, 'Fraction classified incorrectly')"
      ]
     },
     "execution_count": 9,
     "metadata": {
      "tags": []
     },
     "output_type": "execute_result"
    },
    {
     "data": {
      "image/png": "[encoded data removed]",
      "text/plain": [
       "<Figure size 432x288 with 1 Axes>"
      ]
     },
     "metadata": {
      "needs_background": "light",
      "tags": []
     },
     "output_type": "display_data"
    }
   ],
   "source": [
    "label_frac_error = 1 - np.diag(confusion_mtx) / np.sum(confusion_mtx, axis=1)\n",
    "plt.bar(np.arange(4),label_frac_error)\n",
    "plt.xlabel('True Label')\n",
    "plt.ylabel('Fraction classified incorrectly')"
   ]
  },
  {
   "cell_type": "code",
   "execution_count": 10,
   "metadata": {
    "colab": {
     "base_uri": "https://localhost:8080/"
    },
    "id": "oExhl-YNaAvP",
    "outputId": "790baf0b-75d7-40fb-95e0-873533a3df30"
   },
   "outputs": [
    {
     "name": "stdout",
     "output_type": "stream",
     "text": [
      "\n",
      "Classification Report\n",
      "\n",
      "                precision    recall  f1-score   support\n",
      "\n",
      "Checolate_spot       0.67      0.81      0.73       400\n",
      "           gal       0.87      0.89      0.88       400\n",
      "       healthy       0.96      0.99      0.97       404\n",
      "          rust       0.92      0.68      0.78       400\n",
      "\n",
      "      accuracy                           0.84      1604\n",
      "     macro avg       0.85      0.84      0.84      1604\n",
      "  weighted avg       0.85      0.84      0.84      1604\n",
      "\n"
     ]
    }
   ],
   "source": [
    "print('\\nClassification Report\\n')\n",
    "target_name = ['Checolate_spot', 'gal', 'healthy', 'rust']\n",
    "report = classification_report(true_classes, predicted_classes, target_names=target_name)\n",
    "print(report)"
   ]
  }
 ],
 "metadata": {
  "accelerator": "GPU",
  "colab": {
   "collapsed_sections": [],
   "name": "Transfer Learning InceptionV3 using Original Image__final.ipynb",
   "provenance": []
  },
  "kernelspec": {
   "display_name": "Python 3.10.4 64-bit",
   "language": "python",
   "name": "python3"
  },
  "language_info": {
   "codemirror_mode": {
    "name": "ipython",
    "version": 3
   },
   "file_extension": ".py",
   "mimetype": "text/x-python",
   "name": "python",
   "nbconvert_exporter": "python",
   "pygments_lexer": "ipython3",
   "version": "3.10.4"
  },
  "vscode": {
   "interpreter": {
    "hash": "916dbcbb3f70747c44a77c7bcd40155683ae19c65e1c03b4aa3499c5328201f1"
   }
  }
 },
 "nbformat": 4,
 "nbformat_minor": 1
}
