{
 "cells": [
  {
   "cell_type": "markdown",
   "metadata": {
    "id": "lxzWCz1vMrRd"
   },
   "source": [
    "## Transfer Learning InceptionV3 using Keras"
   ]
  },
  {
   "cell_type": "markdown",
   "metadata": {
    "id": "hk2DppQgMrRl"
   },
   "source": [
    "Please download the dataset from the below url"
   ]
  },
  {
   "cell_type": "code",
   "execution_count": 2,
   "metadata": {
    "id": "oJgHrgYTMrRm"
   },
   "outputs": [],
   "source": [
    "from tensorflow.compat.v1 import ConfigProto\n",
    "from tensorflow.compat.v1 import InteractiveSession\n",
    "\n",
    "config = ConfigProto()\n",
    "config.gpu_options.per_process_gpu_memory_fraction = 0.2\n",
    "config.gpu_options.allow_growth = True\n",
    "session = InteractiveSession(config=config)"
   ]
  },
  {
   "cell_type": "code",
   "execution_count": 3,
   "metadata": {
    "id": "TNmnYUzqMrRn"
   },
   "outputs": [],
   "source": [
    "# import the libraries as shown below\n",
    "\n",
    "from tensorflow.keras.layers import Conv2D, MaxPool2D, Dropout, Dense, Flatten, Activation, MaxPooling2D\n",
    "from tensorflow.keras.preprocessing.image import ImageDataGenerator,load_img\n",
    "from sklearn.metrics import classification_report, confusion_matrix\n",
    "from tensorflow.keras.preprocessing import image\n",
    "from tensorflow.keras.models import Sequential\n",
    "from tensorflow.keras.models import Model\n",
    "from tensorflow.keras import backend as K\n",
    "import matplotlib.pyplot as plt\n",
    "import tensorflow as tf\n",
    "from glob import glob\n",
    "import numpy as np\n",
    "import itertools"
   ]
  },
  {
   "cell_type": "code",
   "execution_count": 5,
   "metadata": {
    "id": "EKdLKBcvHRqE"
   },
   "outputs": [],
   "source": [
    "# re-size all the images to this\n",
    "num_classes = 4\n",
    "input_shape = (256, 256, 3)\n",
    "\n",
    "train_path = '../data/dataset_original/'\n",
    "val_path = '../data/dataset_original/'"
   ]
  },
  {
   "cell_type": "markdown",
   "metadata": {},
   "source": [
    "<img src=\"https://github.com/bkget/Leaf-Disease-Classification/blob/main/screenshots/AlexNet%20Architecture.jpg?raw=true\" alt=\"Alternative text\"/>"
   ]
  },
  {
   "cell_type": "code",
   "execution_count": 6,
   "metadata": {
    "colab": {
     "base_uri": "https://localhost:8080/"
    },
    "id": "BPVDvD4XHTg0",
    "outputId": "42036c05-d1ab-4114-ea89-ff3155accd18"
   },
   "outputs": [
    {
     "name": "stdout",
     "output_type": "stream",
     "text": [
      "Model: \"sequential\"\n",
      "_________________________________________________________________\n",
      "Layer (type)                 Output Shape              Param #   \n",
      "=================================================================\n",
      "conv2d (Conv2D)              (None, 127, 127, 64)      1792      \n",
      "_________________________________________________________________\n",
      "activation (Activation)      (None, 127, 127, 64)      0         \n",
      "_________________________________________________________________\n",
      "max_pooling2d (MaxPooling2D) (None, 63, 63, 64)        0         \n",
      "_________________________________________________________________\n",
      "conv2d_1 (Conv2D)            (None, 59, 59, 96)        153696    \n",
      "_________________________________________________________________\n",
      "activation_1 (Activation)    (None, 59, 59, 96)        0         \n",
      "_________________________________________________________________\n",
      "max_pooling2d_1 (MaxPooling2 (None, 29, 29, 96)        0         \n",
      "_________________________________________________________________\n",
      "conv2d_2 (Conv2D)            (None, 28, 28, 128)       49280     \n",
      "_________________________________________________________________\n",
      "activation_2 (Activation)    (None, 28, 28, 128)       0         \n",
      "_________________________________________________________________\n",
      "conv2d_3 (Conv2D)            (None, 26, 26, 128)       147584    \n",
      "_________________________________________________________________\n",
      "activation_3 (Activation)    (None, 26, 26, 128)       0         \n",
      "_________________________________________________________________\n",
      "conv2d_4 (Conv2D)            (None, 26, 26, 64)        8256      \n",
      "_________________________________________________________________\n",
      "activation_4 (Activation)    (None, 26, 26, 64)        0         \n",
      "_________________________________________________________________\n",
      "max_pooling2d_2 (MaxPooling2 (None, 13, 13, 64)        0         \n",
      "_________________________________________________________________\n",
      "dropout (Dropout)            (None, 13, 13, 64)        0         \n",
      "_________________________________________________________________\n",
      "flatten (Flatten)            (None, 10816)             0         \n",
      "_________________________________________________________________\n",
      "dense (Dense)                (None, 2048)              22153216  \n",
      "_________________________________________________________________\n",
      "activation_5 (Activation)    (None, 2048)              0         \n",
      "_________________________________________________________________\n",
      "dropout_1 (Dropout)          (None, 2048)              0         \n",
      "_________________________________________________________________\n",
      "dense_1 (Dense)              (None, 2048)              4196352   \n",
      "_________________________________________________________________\n",
      "activation_6 (Activation)    (None, 2048)              0         \n",
      "_________________________________________________________________\n",
      "dropout_2 (Dropout)          (None, 2048)              0         \n",
      "_________________________________________________________________\n",
      "dense_2 (Dense)              (None, 4)                 8196      \n",
      "_________________________________________________________________\n",
      "activation_7 (Activation)    (None, 4)                 0         \n",
      "=================================================================\n",
      "Total params: 26,718,372\n",
      "Trainable params: 26,718,372\n",
      "Non-trainable params: 0\n",
      "_________________________________________________________________\n"
     ]
    }
   ],
   "source": [
    "chanDim = -1\n",
    "if K.image_data_format() == \"channels_first\":\n",
    "    inputShape = input_shape\n",
    "    chanDim = 1\n",
    "\n",
    "alexnet_model = Sequential()\n",
    "alexnet_model.add(Conv2D(filters=64, input_shape=input_shape, kernel_size=(3, 3), strides=(2,2), padding='valid'))\n",
    "alexnet_model.add(Activation('relu'))\n",
    "alexnet_model.add(MaxPool2D(pool_size=(2,2), strides=(2,2), padding='valid'))\n",
    "\n",
    "#2nd\n",
    "alexnet_model.add(Conv2D(filters=96, kernel_size=(5, 5), strides=(1,1), padding='valid', activity_regularizer=tf.keras.regularizers.l2(0.01)))\n",
    "alexnet_model.add(Activation('relu'))\n",
    "alexnet_model.add(MaxPool2D(pool_size=(2,2), strides=(2,2), padding='valid'))\n",
    "\n",
    "#3rd\n",
    "alexnet_model.add(Conv2D(filters=128, kernel_size=(2,2), strides=(1,1), padding='valid', activity_regularizer=tf.keras.regularizers.l2(0.1)))\n",
    "alexnet_model.add(Activation('relu'))\n",
    "\n",
    "\n",
    "#4th\n",
    "alexnet_model.add(Conv2D(filters=128, kernel_size=(3,3), strides=(1,1), padding='valid', activity_regularizer=tf.keras.regularizers.l2(0.1)))\n",
    "alexnet_model.add(Activation('relu'))\n",
    "\n",
    "#5th\n",
    "alexnet_model.add(Conv2D(filters=64, kernel_size=(1,1), strides=(1,1), padding='valid', activity_regularizer=tf.keras.regularizers.l2(0.1)))\n",
    "alexnet_model.add(Activation('relu'))\n",
    "alexnet_model.add(MaxPool2D(pool_size=(2,2), strides=(2,2), padding='valid'))\n",
    "alexnet_model.add(Dropout(0.4))\n",
    "\n",
    "# Flattening\n",
    "alexnet_model.add(Flatten())\n",
    "\n",
    "# FC layer\n",
    "alexnet_model.add(Dense(2048))\n",
    "alexnet_model.add(Activation('relu'))\n",
    "alexnet_model.add(Dropout(0.5))\n",
    "\n",
    "#2nd FC layer\n",
    "alexnet_model.add(Dense(2048))\n",
    "alexnet_model.add(Activation('relu'))\n",
    "alexnet_model.add(Dropout(0.4))\n",
    "\n",
    "#Output layer\n",
    "alexnet_model.add(Dense(4))\n",
    "alexnet_model.add(Activation('softmax'))\n",
    "\n",
    "alexnet_model.summary()"
   ]
  },
  {
   "cell_type": "code",
   "execution_count": 7,
   "metadata": {
    "id": "dz3dtVql2V-b"
   },
   "outputs": [],
   "source": [
    "from keras.optimizers import Adam\n",
    "\n",
    "opt = Adam(lr=0.0001,beta_1=0.9, beta_2=0.999, epsilon=None, decay=0.0,  amsgrad=False)"
   ]
  },
  {
   "cell_type": "code",
   "execution_count": 8,
   "metadata": {
    "id": "IbuVpBPHMrRq"
   },
   "outputs": [],
   "source": [
    "# tell the model what cost and optimization method to use\n",
    "alexnet_model.compile(\n",
    "  loss='categorical_crossentropy',\n",
    "  optimizer = opt,\n",
    "  metrics=['accuracy']\n",
    ")"
   ]
  },
  {
   "cell_type": "code",
   "execution_count": 9,
   "metadata": {
    "id": "kwbLLLc3MrRr"
   },
   "outputs": [],
   "source": [
    "# Use the Image Data Generator to import the images from the dataset\n",
    "from tensorflow.keras.preprocessing.image import ImageDataGenerator\n",
    "\n",
    "datagen = ImageDataGenerator(rescale = 1./255,\n",
    "                             rotation_range=10,\n",
    "                             zoom_range = 0.1,\n",
    "                             width_shift_range=0.2,\n",
    "                             height_shift_range=0.2,\n",
    "                             horizontal_flip=True,\n",
    "                             shear_range = 0.2, \n",
    "                             vertical_flip=True,\n",
    "                             validation_split = 0.2)\n",
    "\n",
    "test_datagen = ImageDataGenerator(rescale = 1./255)"
   ]
  },
  {
   "cell_type": "code",
   "execution_count": 10,
   "metadata": {
    "colab": {
     "base_uri": "https://localhost:8080/"
    },
    "id": "Q-iah8JwMrRr",
    "outputId": "bf632520-c62f-4d35-8cc9-e9fc06a0b4a3"
   },
   "outputs": [
    {
     "name": "stdout",
     "output_type": "stream",
     "text": [
      "Found 6418 images belonging to 4 classes.\n"
     ]
    }
   ],
   "source": [
    "# Make sure you provide the same target size as initialied for the image size\n",
    "training_set = datagen.flow_from_directory(train_path,\n",
    "                                                 target_size = (256, 256),\n",
    "                                                 batch_size = 32,\n",
    "                                                 subset = \"training\",\n",
    "                                                 class_mode = 'categorical')"
   ]
  },
  {
   "cell_type": "code",
   "execution_count": 11,
   "metadata": {
    "colab": {
     "base_uri": "https://localhost:8080/"
    },
    "id": "aWmfDCHzMrRr",
    "outputId": "bae529ac-0163-403e-8bad-710400f2e721"
   },
   "outputs": [
    {
     "name": "stdout",
     "output_type": "stream",
     "text": [
      "Found 1604 images belonging to 4 classes.\n"
     ]
    }
   ],
   "source": [
    "test_set = datagen.flow_from_directory(val_path,\n",
    "                                       target_size = (256, 256),\n",
    "                                       batch_size = 32,\n",
    "                                       subset = \"validation\",\n",
    "                                       shuffle = False,\n",
    "                                       class_mode = 'categorical')"
   ]
  },
  {
   "cell_type": "code",
   "execution_count": 12,
   "metadata": {
    "id": "O1Pe5xza2lh6"
   },
   "outputs": [],
   "source": [
    "# ReduceLROnPlateau - automatically set the LR if no change is detected\n",
    "from keras.callbacks import ReduceLROnPlateau\n",
    "\n",
    "learning_rate_reduction = ReduceLROnPlateau(monitor = 'val_loss', \n",
    "                                             patience = 3, \n",
    "                                             verbose = 1, \n",
    "                                             factor = 0.5, \n",
    "                                             min_lr = 0.00001)"
   ]
  },
  {
   "cell_type": "code",
   "execution_count": 13,
   "metadata": {
    "colab": {
     "base_uri": "https://localhost:8080/"
    },
    "id": "mNzCAjw0MrRs",
    "outputId": "093cab99-9d3e-46d1-a5f9-9c8c46478a84",
    "scrolled": true
   },
   "outputs": [
    {
     "name": "stdout",
     "output_type": "stream",
     "text": [
      "Epoch 1/50\n",
      "201/201 [==============================] - 5850s 29s/step - loss: 14.2372 - accuracy: 0.2762 - val_loss: 2.1645 - val_accuracy: 0.3516\n",
      "Epoch 2/50\n",
      "201/201 [==============================] - 107s 533ms/step - loss: 1.9358 - accuracy: 0.4205 - val_loss: 1.8387 - val_accuracy: 0.5131\n",
      "Epoch 3/50\n",
      "201/201 [==============================] - 107s 534ms/step - loss: 1.6448 - accuracy: 0.5285 - val_loss: 1.8066 - val_accuracy: 0.5012\n",
      "Epoch 4/50\n",
      "201/201 [==============================] - 107s 533ms/step - loss: 1.5061 - accuracy: 0.5848 - val_loss: 1.5444 - val_accuracy: 0.5667\n",
      "Epoch 5/50\n",
      "201/201 [==============================] - 107s 534ms/step - loss: 1.4222 - accuracy: 0.6110 - val_loss: 1.5912 - val_accuracy: 0.5536\n",
      "Epoch 6/50\n",
      "201/201 [==============================] - 107s 534ms/step - loss: 1.3041 - accuracy: 0.6526 - val_loss: 1.5252 - val_accuracy: 0.5680\n",
      "Epoch 7/50\n",
      "201/201 [==============================] - 107s 533ms/step - loss: 1.2270 - accuracy: 0.6589 - val_loss: 1.7391 - val_accuracy: 0.5187\n",
      "Epoch 8/50\n",
      "201/201 [==============================] - 107s 533ms/step - loss: 1.1982 - accuracy: 0.6770 - val_loss: 1.3176 - val_accuracy: 0.6415\n",
      "Epoch 9/50\n",
      "201/201 [==============================] - 108s 536ms/step - loss: 1.1018 - accuracy: 0.7082 - val_loss: 1.5172 - val_accuracy: 0.5530\n",
      "Epoch 10/50\n",
      "201/201 [==============================] - 107s 533ms/step - loss: 1.0967 - accuracy: 0.7145 - val_loss: 1.5133 - val_accuracy: 0.5474\n",
      "Epoch 11/50\n",
      "201/201 [==============================] - 107s 534ms/step - loss: 1.0213 - accuracy: 0.7296 - val_loss: 1.2595 - val_accuracy: 0.6521\n",
      "Epoch 12/50\n",
      "201/201 [==============================] - 107s 535ms/step - loss: 0.9712 - accuracy: 0.7438 - val_loss: 1.3224 - val_accuracy: 0.6253\n",
      "Epoch 13/50\n",
      "201/201 [==============================] - 107s 532ms/step - loss: 0.9197 - accuracy: 0.7707 - val_loss: 1.2147 - val_accuracy: 0.6471\n",
      "Epoch 14/50\n",
      "201/201 [==============================] - 107s 534ms/step - loss: 0.8714 - accuracy: 0.7703 - val_loss: 1.1857 - val_accuracy: 0.6864\n",
      "Epoch 15/50\n",
      "201/201 [==============================] - 107s 532ms/step - loss: 0.8304 - accuracy: 0.7859 - val_loss: 1.3102 - val_accuracy: 0.6054\n",
      "Epoch 16/50\n",
      "201/201 [==============================] - 107s 531ms/step - loss: 0.7862 - accuracy: 0.8100 - val_loss: 1.1111 - val_accuracy: 0.6796\n",
      "Epoch 17/50\n",
      "201/201 [==============================] - 107s 533ms/step - loss: 0.7504 - accuracy: 0.8136 - val_loss: 0.9587 - val_accuracy: 0.7226\n",
      "Epoch 18/50\n",
      "201/201 [==============================] - 107s 532ms/step - loss: 0.6675 - accuracy: 0.8432 - val_loss: 1.0597 - val_accuracy: 0.7064\n",
      "Epoch 19/50\n",
      "201/201 [==============================] - 107s 531ms/step - loss: 0.6439 - accuracy: 0.8512 - val_loss: 1.0662 - val_accuracy: 0.6877\n",
      "Epoch 20/50\n",
      "201/201 [==============================] - 107s 533ms/step - loss: 0.5754 - accuracy: 0.8700 - val_loss: 0.9837 - val_accuracy: 0.7076\n",
      "\n",
      "Epoch 00020: ReduceLROnPlateau reducing learning rate to 4.999999873689376e-05.\n",
      "Epoch 21/50\n",
      "201/201 [==============================] - 107s 532ms/step - loss: 0.4900 - accuracy: 0.9049 - val_loss: 0.8667 - val_accuracy: 0.7369\n",
      "Epoch 22/50\n",
      "201/201 [==============================] - 107s 532ms/step - loss: 0.4770 - accuracy: 0.8993 - val_loss: 0.8075 - val_accuracy: 0.7681\n",
      "Epoch 23/50\n",
      "201/201 [==============================] - 107s 534ms/step - loss: 0.4353 - accuracy: 0.9167 - val_loss: 0.8106 - val_accuracy: 0.7550\n",
      "Epoch 24/50\n",
      "201/201 [==============================] - 107s 531ms/step - loss: 0.4327 - accuracy: 0.9148 - val_loss: 0.8352 - val_accuracy: 0.7594\n",
      "Epoch 25/50\n",
      "201/201 [==============================] - 107s 532ms/step - loss: 0.4061 - accuracy: 0.9232 - val_loss: 0.7388 - val_accuracy: 0.7974\n",
      "Epoch 26/50\n",
      "201/201 [==============================] - 107s 534ms/step - loss: 0.3840 - accuracy: 0.9258 - val_loss: 0.6890 - val_accuracy: 0.8323\n",
      "Epoch 27/50\n",
      "201/201 [==============================] - 107s 532ms/step - loss: 0.4181 - accuracy: 0.9191 - val_loss: 0.7546 - val_accuracy: 0.7762\n",
      "Epoch 28/50\n",
      "201/201 [==============================] - 107s 532ms/step - loss: 0.3925 - accuracy: 0.9208 - val_loss: 0.7846 - val_accuracy: 0.7787\n",
      "Epoch 29/50\n",
      "201/201 [==============================] - 107s 534ms/step - loss: 0.3721 - accuracy: 0.9282 - val_loss: 0.6706 - val_accuracy: 0.8242\n",
      "Epoch 30/50\n",
      "201/201 [==============================] - 107s 533ms/step - loss: 0.3413 - accuracy: 0.9396 - val_loss: 0.6555 - val_accuracy: 0.8092\n",
      "Epoch 31/50\n",
      "201/201 [==============================] - 107s 532ms/step - loss: 0.3523 - accuracy: 0.9291 - val_loss: 0.6734 - val_accuracy: 0.8036\n",
      "Epoch 32/50\n",
      "201/201 [==============================] - 107s 533ms/step - loss: 0.3335 - accuracy: 0.9412 - val_loss: 0.7127 - val_accuracy: 0.7993\n",
      "Epoch 33/50\n",
      "201/201 [==============================] - 107s 533ms/step - loss: 0.3353 - accuracy: 0.9392 - val_loss: 0.6853 - val_accuracy: 0.8123\n",
      "\n",
      "Epoch 00033: ReduceLROnPlateau reducing learning rate to 2.499999936844688e-05.\n",
      "Epoch 34/50\n",
      "201/201 [==============================] - 107s 532ms/step - loss: 0.2939 - accuracy: 0.9551 - val_loss: 0.5534 - val_accuracy: 0.8541\n",
      "Epoch 35/50\n",
      "201/201 [==============================] - 107s 535ms/step - loss: 0.2686 - accuracy: 0.9585 - val_loss: 0.5690 - val_accuracy: 0.8454\n",
      "Epoch 36/50\n",
      "201/201 [==============================] - 107s 532ms/step - loss: 0.2729 - accuracy: 0.9594 - val_loss: 0.6332 - val_accuracy: 0.8254\n",
      "Epoch 37/50\n",
      "201/201 [==============================] - 107s 533ms/step - loss: 0.2834 - accuracy: 0.9519 - val_loss: 0.5929 - val_accuracy: 0.8423\n",
      "\n",
      "Epoch 00037: ReduceLROnPlateau reducing learning rate to 1.249999968422344e-05.\n",
      "Epoch 38/50\n",
      "201/201 [==============================] - 107s 532ms/step - loss: 0.2492 - accuracy: 0.9635 - val_loss: 0.5681 - val_accuracy: 0.8429\n",
      "Epoch 39/50\n",
      "201/201 [==============================] - 107s 533ms/step - loss: 0.2424 - accuracy: 0.9642 - val_loss: 0.5644 - val_accuracy: 0.8429\n",
      "Epoch 40/50\n",
      "201/201 [==============================] - 107s 534ms/step - loss: 0.2640 - accuracy: 0.9608 - val_loss: 0.5005 - val_accuracy: 0.8691\n",
      "Epoch 41/50\n",
      "201/201 [==============================] - 107s 534ms/step - loss: 0.2383 - accuracy: 0.9664 - val_loss: 0.5720 - val_accuracy: 0.8441\n",
      "Epoch 42/50\n",
      "201/201 [==============================] - 107s 531ms/step - loss: 0.2399 - accuracy: 0.9639 - val_loss: 0.4856 - val_accuracy: 0.8685\n",
      "Epoch 43/50\n",
      "201/201 [==============================] - 108s 538ms/step - loss: 0.2263 - accuracy: 0.9695 - val_loss: 0.5061 - val_accuracy: 0.8628\n",
      "Epoch 44/50\n",
      "201/201 [==============================] - 107s 533ms/step - loss: 0.2279 - accuracy: 0.9655 - val_loss: 0.4986 - val_accuracy: 0.8560\n",
      "Epoch 45/50\n",
      "201/201 [==============================] - 107s 532ms/step - loss: 0.2305 - accuracy: 0.9679 - val_loss: 0.5301 - val_accuracy: 0.8541\n",
      "\n",
      "Epoch 00045: ReduceLROnPlateau reducing learning rate to 1e-05.\n",
      "Epoch 46/50\n",
      "201/201 [==============================] - 107s 533ms/step - loss: 0.2145 - accuracy: 0.9694 - val_loss: 0.5004 - val_accuracy: 0.8616\n",
      "Epoch 47/50\n",
      "201/201 [==============================] - 107s 533ms/step - loss: 0.2154 - accuracy: 0.9703 - val_loss: 0.5064 - val_accuracy: 0.8672\n",
      "Epoch 48/50\n",
      "201/201 [==============================] - 107s 533ms/step - loss: 0.2155 - accuracy: 0.9714 - val_loss: 0.5175 - val_accuracy: 0.8572\n",
      "Epoch 49/50\n",
      "201/201 [==============================] - 107s 535ms/step - loss: 0.2280 - accuracy: 0.9662 - val_loss: 0.5118 - val_accuracy: 0.8678\n",
      "Epoch 50/50\n",
      "201/201 [==============================] - 107s 533ms/step - loss: 0.2150 - accuracy: 0.9674 - val_loss: 0.4822 - val_accuracy: 0.8697\n"
     ]
    }
   ],
   "source": [
    "# fit the model\n",
    "# Run the cell. It will take some time to execute\n",
    "model_history = alexnet_model.fit(\n",
    "  training_set,\n",
    "  validation_data=test_set,\n",
    "  epochs=50,\n",
    "  callbacks = [learning_rate_reduction],\n",
    "  steps_per_epoch = len(training_set),\n",
    "  validation_steps = len(test_set)  \n",
    ")"
   ]
  },
  {
   "cell_type": "code",
   "execution_count": 14,
   "metadata": {
    "colab": {
     "base_uri": "https://localhost:8080/",
     "height": 591
    },
    "id": "uJoFzh6VMrRs",
    "outputId": "f74e3233-ed12-4ebf-fd5a-c2a151e41818"
   },
   "outputs": [
    {
     "data": {
      "image/png": "[encoded data removed]",
      "text/plain": [
       "<Figure size 432x288 with 1 Axes>"
      ]
     },
     "metadata": {
      "needs_background": "light",
      "tags": []
     },
     "output_type": "display_data"
    },
    {
     "data": {
      "image/png": "[encoded data removed]",
      "text/plain": [
       "<Figure size 432x288 with 1 Axes>"
      ]
     },
     "metadata": {
      "needs_background": "light",
      "tags": []
     },
     "output_type": "display_data"
    },
    {
     "data": {
      "text/plain": [
       "<Figure size 432x288 with 0 Axes>"
      ]
     },
     "metadata": {
      "tags": []
     },
     "output_type": "display_data"
    }
   ],
   "source": [
    "# plot the loss\n",
    "plt.plot(model_history.history['loss'],'r', label='train loss')\n",
    "plt.plot(model_history.history['val_loss'],'b', label='val loss')\n",
    "plt.title(\"Trainng and Validatin Loss\")\n",
    "plt.xlabel(\"Epoch #\")\n",
    "plt.ylabel(\"Loss\")\n",
    "plt.legend()\n",
    "plt.show()\n",
    "plt.savefig('LossVal_loss')\n",
    "\n",
    "# plot the accuracy\n",
    "plt.plot(model_history.history['accuracy'],'r', label='train acc')\n",
    "plt.plot(model_history.history['val_accuracy'],'b', label='val acc')\n",
    "plt.title(\"Training and Validation Accuracy\")\n",
    "plt.xlabel(\"Epoch #\")\n",
    "plt.ylabel(\"Accuracy\")\n",
    "plt.legend()\n",
    "plt.show()\n",
    "plt.savefig('AccVal_acc')"
   ]
  },
  {
   "cell_type": "code",
   "execution_count": 15,
   "metadata": {
    "colab": {
     "base_uri": "https://localhost:8080/"
    },
    "id": "5tX5TqQuCWKo",
    "outputId": "3b330fee-bef7-4a7f-a6df-310691ab4246"
   },
   "outputs": [
    {
     "name": "stdout",
     "output_type": "stream",
     "text": [
      "51/51 [==============================] - 21s 416ms/step - loss: 0.4901 - accuracy: 0.8772\n",
      "201/201 [==============================] - 86s 425ms/step - loss: 0.2005 - accuracy: 0.9768\n"
     ]
    }
   ],
   "source": [
    "#loss, accuracy = alexnet_model.evaluate(x_test, y_test, verbose=1)\n",
    "loss, accuracy = alexnet_model.evaluate(test_set, verbose=1)\n",
    "# loss_v, accuracy_v = alexnet_model.evaluate(x_validate, y_validate, verbose=1)\n",
    "t_loss, t_accuracy = alexnet_model.evaluate(training_set, verbose=1)"
   ]
  },
  {
   "cell_type": "code",
   "execution_count": 16,
   "metadata": {
    "colab": {
     "base_uri": "https://localhost:8080/"
    },
    "id": "zCE1cI7QfL1h",
    "outputId": "78404fcc-0795-433d-8d9c-1103831e6b8d"
   },
   "outputs": [
    {
     "name": "stdout",
     "output_type": "stream",
     "text": [
      "Training: accuracy = 0.976784  ;  loss_v = 0.200526\n",
      "Validation: accuracy = 0.877182  ;  loss = 0.490144\n"
     ]
    }
   ],
   "source": [
    "print(\"Training: accuracy = %f  ;  loss_v = %f\" % (t_accuracy, t_loss))\n",
    "print(\"Validation: accuracy = %f  ;  loss = %f\" % (accuracy, loss))"
   ]
  },
  {
   "cell_type": "code",
   "execution_count": 17,
   "metadata": {
    "id": "QTDcvgNkVHD_"
   },
   "outputs": [],
   "source": [
    "# save it as a h5 file\n",
    "from tensorflow.keras.models import load_model\n",
    "\n",
    "alexnet_model.save('../models/faba_bean_model_modified_AlexNet_original_1.h5')"
   ]
  },
  {
   "cell_type": "code",
   "execution_count": 18,
   "metadata": {
    "id": "B4WHDeMPVKml"
   },
   "outputs": [],
   "source": [
    "# open saved model file\n",
    "import keras\n",
    "from tensorflow.keras.models import load_model\n",
    "alexnet_model = keras.models.load_model('../models/faba_bean_model_modified_AlexNet_original_1.h5')"
   ]
  },
  {
   "cell_type": "code",
   "execution_count": 19,
   "metadata": {
    "colab": {
     "base_uri": "https://localhost:8080/",
     "height": 311
    },
    "id": "tK5VX5IFB3VZ",
    "outputId": "c9419cd0-c41d-44d0-9819-dcd23dcf2fb6"
   },
   "outputs": [
    {
     "data": {
      "image/png": "[encoded data removed]",
      "text/plain": [
       "<Figure size 432x288 with 2 Axes>"
      ]
     },
     "metadata": {
      "needs_background": "light",
      "tags": []
     },
     "output_type": "display_data"
    }
   ],
   "source": [
    "def plot_confusion_matrix(cm, classes,\n",
    "                          normalize=False,\n",
    "                          title='Confusion matrix',\n",
    "                          cmap=plt.cm.Blues):\n",
    "  \n",
    "    plt.imshow(cm, interpolation='nearest', cmap=cmap)\n",
    "    plt.title(title)\n",
    "    plt.colorbar()\n",
    "    tick_marks = np.arange(len(classes))\n",
    "    plt.xticks(tick_marks, classes, rotation=45)\n",
    "    plt.yticks(tick_marks, classes)\n",
    "    \n",
    "    if normalize:\n",
    "        cm = cm.astype('float') / cm.sum(axis=1)[:, np.newaxis]\n",
    "\n",
    "    thresh = cm.max() / 2.\n",
    "    for i, j in itertools.product(range(cm.shape[0]), range(cm.shape[1])):\n",
    "        plt.text(j, i, cm[i, j],\n",
    "                 horizontalalignment=\"center\",\n",
    "                 color=\"white\" if cm[i, j] > thresh else \"black\")\n",
    "\n",
    "    plt.tight_layout()\n",
    "    plt.ylabel('True label')\n",
    "    plt.xlabel('Predicted label')\n",
    "\n",
    "# Get the predicted classes\n",
    "predictions = alexnet_model.predict(test_set,  1604 // 32 + 1)\n",
    "predicted_classes = np.argmax(predictions, axis = 1) \n",
    "\n",
    "# Get ground-truth classes and class-labels\n",
    "true_classes = test_set.classes\n",
    "\n",
    "target_name = ['Checolate_spot', 'Gal', 'Healthy', 'Rust']\n",
    "\n",
    "confusion_mtx = confusion_matrix(true_classes, predicted_classes)\n",
    "\n",
    "plot_confusion_matrix(confusion_mtx, classes = target_name) "
   ]
  },
  {
   "cell_type": "code",
   "execution_count": 20,
   "metadata": {
    "colab": {
     "base_uri": "https://localhost:8080/",
     "height": 297
    },
    "id": "_mTEkRXVBztZ",
    "outputId": "b5764028-98af-4d7f-d082-63378f468317"
   },
   "outputs": [
    {
     "data": {
      "text/plain": [
       "Text(0, 0.5, 'Fraction classified incorrectly')"
      ]
     },
     "execution_count": 20,
     "metadata": {
      "tags": []
     },
     "output_type": "execute_result"
    },
    {
     "data": {
      "image/png": "[encoded data removed]",
      "text/plain": [
       "<Figure size 432x288 with 1 Axes>"
      ]
     },
     "metadata": {
      "needs_background": "light",
      "tags": []
     },
     "output_type": "display_data"
    }
   ],
   "source": [
    "label_frac_error = 1 - np.diag(confusion_mtx) / np.sum(confusion_mtx, axis=1)\n",
    "plt.bar(np.arange(4),label_frac_error)\n",
    "plt.xlabel('True Label')\n",
    "plt.ylabel('Fraction classified incorrectly')"
   ]
  },
  {
   "cell_type": "code",
   "execution_count": 21,
   "metadata": {
    "colab": {
     "base_uri": "https://localhost:8080/"
    },
    "id": "jwTANTc0B0-p",
    "outputId": "9211dfbb-6fef-4fab-f2eb-8087c2bae6f2"
   },
   "outputs": [
    {
     "name": "stdout",
     "output_type": "stream",
     "text": [
      "\n",
      "Classification Report\n",
      "\n",
      "                precision    recall  f1-score   support\n",
      "\n",
      "Checolate_spot       0.86      0.83      0.85       400\n",
      "           gal       0.78      0.87      0.82       400\n",
      "       healthy       0.94      0.92      0.93       404\n",
      "          rust       0.95      0.88      0.91       400\n",
      "\n",
      "      accuracy                           0.88      1604\n",
      "     macro avg       0.88      0.88      0.88      1604\n",
      "  weighted avg       0.88      0.88      0.88      1604\n",
      "\n"
     ]
    }
   ],
   "source": [
    "print('\\nClassification Report\\n')\n",
    "class_labels = ['Checolate_spot', 'gal', 'healthy', 'rust']\n",
    "report = classification_report(true_classes, predicted_classes, target_names=class_labels)\n",
    "print(report)"
   ]
  }
 ],
 "metadata": {
  "accelerator": "GPU",
  "colab": {
   "collapsed_sections": [],
   "machine_shape": "hm",
   "name": "Transfer Learnining using Modified AlexNet__original_1.ipynb",
   "provenance": []
  },
  "kernelspec": {
   "display_name": "Python 3.10.4 64-bit",
   "language": "python",
   "name": "python3"
  },
  "language_info": {
   "codemirror_mode": {
    "name": "ipython",
    "version": 3
   },
   "file_extension": ".py",
   "mimetype": "text/x-python",
   "name": "python",
   "nbconvert_exporter": "python",
   "pygments_lexer": "ipython3",
   "version": "3.10.4"
  },
  "vscode": {
   "interpreter": {
    "hash": "916dbcbb3f70747c44a77c7bcd40155683ae19c65e1c03b4aa3499c5328201f1"
   }
  }
 },
 "nbformat": 4,
 "nbformat_minor": 1
}
