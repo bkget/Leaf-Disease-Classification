{
 "cells": [
  {
   "cell_type": "markdown",
   "metadata": {
    "id": "lxzWCz1vMrRd"
   },
   "source": [
    "## From Scratch Learning with Unsegmented Images"
   ]
  },
  {
   "cell_type": "code",
   "execution_count": null,
   "metadata": {
    "id": "oJgHrgYTMrRm"
   },
   "outputs": [],
   "source": [
    "from tensorflow.compat.v1 import ConfigProto\n",
    "from tensorflow.compat.v1 import InteractiveSession\n",
    "\n",
    "config = ConfigProto()\n",
    "config.gpu_options.per_process_gpu_memory_fraction = 0.2\n",
    "config.gpu_options.allow_growth = True\n",
    "session = InteractiveSession(config=config)"
   ]
  },
  {
   "cell_type": "code",
   "execution_count": null,
   "metadata": {
    "id": "TNmnYUzqMrRn"
   },
   "outputs": [],
   "source": [
    "from tensorflow.keras.layers import Conv2D, MaxPool2D, MaxPool2D, Dropout, Dense, Flatten\n",
    "from tensorflow.keras.preprocessing.image import ImageDataGenerator,load_img\n",
    "from tensorflow.keras.applications.inception_v3 import preprocess_input\n",
    "from sklearn.metrics import classification_report, confusion_matrix\n",
    "from keras.layers.normalization import BatchNormalization\n",
    "from tensorflow.keras.preprocessing import image\n",
    "from tensorflow.keras.models import Sequential\n",
    "from tensorflow.keras import backend as K\n",
    "from tensorflow.keras.models import Model \n",
    "import matplotlib.pyplot as plt\n",
    "import tensorflow as tf\n",
    "from glob import glob\n",
    "import numpy as np\n",
    "import itertools "
   ]
  },
  {
   "cell_type": "code",
   "execution_count": null,
   "metadata": {
    "id": "EKdLKBcvHRqE"
   },
   "outputs": [],
   "source": [
    "# re-size all the images to this\n",
    "IMAGE_SIZE = [224, 224]\n",
    "\n",
    "train_path = '../data/train'\n",
    "val_path = '../data/val'"
   ]
  },
  {
   "cell_type": "code",
   "execution_count": null,
   "metadata": {
    "colab": {
     "base_uri": "https://localhost:8080/"
    },
    "id": "BPVDvD4XHTg0",
    "outputId": "81044bde-1ed7-4c85-b6a7-b232c03cf094"
   },
   "outputs": [
    {
     "name": "stdout",
     "output_type": "stream",
     "text": [
      "Model: \"sequential\"\n",
      "_________________________________________________________________\n",
      "Layer (type)                 Output Shape              Param #   \n",
      "=================================================================\n",
      "conv2d (Conv2D)              (None, 224, 224, 32)      896       \n",
      "_________________________________________________________________\n",
      "conv2d_1 (Conv2D)            (None, 224, 224, 32)      9248      \n",
      "_________________________________________________________________\n",
      "max_pooling2d (MaxPooling2D) (None, 112, 112, 32)      0         \n",
      "_________________________________________________________________\n",
      "conv2d_2 (Conv2D)            (None, 112, 112, 64)      18496     \n",
      "_________________________________________________________________\n",
      "conv2d_3 (Conv2D)            (None, 112, 112, 64)      36928     \n",
      "_________________________________________________________________\n",
      "max_pooling2d_1 (MaxPooling2 (None, 56, 56, 64)        0         \n",
      "_________________________________________________________________\n",
      "conv2d_4 (Conv2D)            (None, 56, 56, 64)        36928     \n",
      "_________________________________________________________________\n",
      "conv2d_5 (Conv2D)            (None, 56, 56, 32)        18464     \n",
      "_________________________________________________________________\n",
      "max_pooling2d_2 (MaxPooling2 (None, 28, 28, 32)        0         \n",
      "_________________________________________________________________\n",
      "dropout (Dropout)            (None, 28, 28, 32)        0         \n",
      "_________________________________________________________________\n",
      "conv2d_6 (Conv2D)            (None, 28, 28, 64)        18496     \n",
      "_________________________________________________________________\n",
      "conv2d_7 (Conv2D)            (None, 28, 28, 64)        36928     \n",
      "_________________________________________________________________\n",
      "max_pooling2d_3 (MaxPooling2 (None, 14, 14, 64)        0         \n",
      "_________________________________________________________________\n",
      "dropout_1 (Dropout)          (None, 14, 14, 64)        0         \n",
      "_________________________________________________________________\n",
      "flatten (Flatten)            (None, 12544)             0         \n",
      "_________________________________________________________________\n",
      "dense (Dense)                (None, 1024)              12846080  \n",
      "_________________________________________________________________\n",
      "dense_1 (Dense)              (None, 1024)              1049600   \n",
      "_________________________________________________________________\n",
      "dropout_2 (Dropout)          (None, 1024)              0         \n",
      "_________________________________________________________________\n",
      "dense_2 (Dense)              (None, 4)                 4100      \n",
      "=================================================================\n",
      "Total params: 14,076,164\n",
      "Trainable params: 14,076,164\n",
      "Non-trainable params: 0\n",
      "_________________________________________________________________\n"
     ]
    }
   ],
   "source": [
    "num_classes = 4\n",
    "input_shape = (224,224,3)\n",
    "chanDim = -1\n",
    "if K.image_data_format() == \"channels_first\":\n",
    "    inputShape = (3, 224, 224)\n",
    "    chanDim = 1\n",
    "\n",
    "my_model= Sequential()\n",
    "my_model.add(Conv2D(32, kernel_size=(3, 3),activation='relu',padding = 'Same',input_shape=input_shape))\n",
    "my_model.add(Conv2D(32,kernel_size=(3, 3), activation='relu',padding = 'Same',))\n",
    "my_model.add(MaxPool2D(pool_size = (2, 2)))\n",
    "\n",
    "my_model.add(Conv2D(64, (3, 3), activation='relu',padding = 'Same'))\n",
    "my_model.add(Conv2D(64, (3, 3), activation='relu',padding = 'Same'))\n",
    "my_model.add(MaxPool2D(pool_size=(2, 2)))\n",
    "\n",
    "my_model.add(Conv2D(64, (3, 3), activation='relu',padding = 'Same'))\n",
    "my_model.add(Conv2D(32, (3, 3), activation='relu',padding = 'Same'))\n",
    "my_model.add(MaxPool2D(pool_size=(2, 2)))\n",
    "my_model.add(Dropout(0.25))\n",
    "\n",
    "my_model.add(Conv2D(64, (3, 3), activation='relu',padding = 'Same'))\n",
    "my_model.add(Conv2D(64, (3, 3), activation='relu',padding = 'Same'))\n",
    "my_model.add(MaxPool2D(pool_size=(2, 2)))\n",
    "my_model.add(Dropout(0.25))\n",
    "\n",
    "my_model.add(Flatten())\n",
    "my_model.add(Dense(1024, activation='relu'))\n",
    "my_model.add(Dense(1024, activation='relu'))\n",
    "my_model.add(Dropout(0.4))\n",
    "\n",
    "my_model.add(Dense(num_classes, activation='softmax'))\n",
    "my_model.summary()"
   ]
  },
  {
   "cell_type": "code",
   "execution_count": null,
   "metadata": {
    "id": "dz3dtVql2V-b"
   },
   "outputs": [],
   "source": [
    "from keras.optimizers import Adam\n",
    "\n",
    "opt = Adam(lr=0.0001,beta_1=0.9, beta_2=0.999, epsilon=None, decay=0.0,  amsgrad=False)"
   ]
  },
  {
   "cell_type": "code",
   "execution_count": null,
   "metadata": {
    "id": "IbuVpBPHMrRq"
   },
   "outputs": [],
   "source": [
    "# tell the model what cost and optimization method to use\n",
    "\n",
    "my_model.compile(\n",
    "  loss='categorical_crossentropy',\n",
    "  optimizer = opt,\n",
    "  metrics=['accuracy']\n",
    ")"
   ]
  },
  {
   "cell_type": "code",
   "execution_count": null,
   "metadata": {
    "id": "kwbLLLc3MrRr"
   },
   "outputs": [],
   "source": [
    "# Use the Image Data Generator to import the images from the dataset\n",
    "\n",
    "from tensorflow.keras.preprocessing.image import ImageDataGenerator\n",
    "\n",
    "train_datagen = ImageDataGenerator(rescale = 1./255,\n",
    "                             rotation_range=10,\n",
    "                             zoom_range = 0.1,\n",
    "                             width_shift_range=0.1,\n",
    "                             height_shift_range=0.1,\n",
    "                             horizontal_flip=True,\n",
    "                             shear_range = 0.2, \n",
    "                             vertical_flip=True)\n",
    "\n",
    "test_datagen = ImageDataGenerator(rescale = 1./255)"
   ]
  },
  {
   "cell_type": "code",
   "execution_count": null,
   "metadata": {
    "colab": {
     "base_uri": "https://localhost:8080/"
    },
    "id": "Q-iah8JwMrRr",
    "outputId": "5d980978-9112-444d-c28f-ca8e6399f835"
   },
   "outputs": [
    {
     "name": "stdout",
     "output_type": "stream",
     "text": [
      "Found 6024 images belonging to 4 classes.\n"
     ]
    }
   ],
   "source": [
    "# Make sure you provide the same target size as initialied for the image size\n",
    "\n",
    "training_set = train_datagen.flow_from_directory(train_path,\n",
    "                                                 target_size = (224, 224),\n",
    "                                                 batch_size = 32,\n",
    "                                                 class_mode = 'categorical')"
   ]
  },
  {
   "cell_type": "code",
   "execution_count": null,
   "metadata": {
    "colab": {
     "base_uri": "https://localhost:8080/"
    },
    "id": "aWmfDCHzMrRr",
    "outputId": "ea64fd21-f015-4594-d2b4-c56ef061eec2"
   },
   "outputs": [
    {
     "name": "stdout",
     "output_type": "stream",
     "text": [
      "Found 1506 images belonging to 4 classes.\n"
     ]
    }
   ],
   "source": [
    "test_set = test_datagen.flow_from_directory(val_path,\n",
    "                                            target_size = (224, 224),\n",
    "                                            batch_size = 32,\n",
    "                                            shuffle = False,\n",
    "                                            class_mode = 'categorical')"
   ]
  },
  {
   "cell_type": "code",
   "execution_count": null,
   "metadata": {
    "id": "O1Pe5xza2lh6"
   },
   "outputs": [],
   "source": [
    "# ReduceLROnPlateau - automatically set the LR if no change is detected\n",
    "\n",
    "from keras.callbacks import ReduceLROnPlateau\n",
    "\n",
    "learning_rate_reduction = ReduceLROnPlateau(monitor = 'val_accuracy', \n",
    "                                             patience = 3, \n",
    "                                             verbose = 1, \n",
    "                                             factor = 0.5, \n",
    "                                             min_lr = 0.00001)"
   ]
  },
  {
   "cell_type": "code",
   "execution_count": null,
   "metadata": {
    "colab": {
     "base_uri": "https://localhost:8080/"
    },
    "id": "mNzCAjw0MrRs",
    "outputId": "21845cf0-44b0-4bb1-9f4b-0241fc5a42eb",
    "scrolled": true
   },
   "outputs": [
    {
     "name": "stdout",
     "output_type": "stream",
     "text": [
      "Epoch 1/50\n",
      "189/189 [==============================] - 2281s 12s/step - loss: 1.3207 - accuracy: 0.3407 - val_loss: 1.0229 - val_accuracy: 0.5870\n",
      "Epoch 2/50\n",
      "189/189 [==============================] - 83s 441ms/step - loss: 1.0179 - accuracy: 0.5675 - val_loss: 0.8631 - val_accuracy: 0.6355\n",
      "Epoch 3/50\n",
      "189/189 [==============================] - 79s 418ms/step - loss: 0.8470 - accuracy: 0.6409 - val_loss: 0.7079 - val_accuracy: 0.7218\n",
      "Epoch 4/50\n",
      "189/189 [==============================] - 80s 423ms/step - loss: 0.7618 - accuracy: 0.6808 - val_loss: 0.7142 - val_accuracy: 0.7052\n",
      "Epoch 5/50\n",
      "189/189 [==============================] - 82s 434ms/step - loss: 0.7092 - accuracy: 0.7135 - val_loss: 0.6228 - val_accuracy: 0.7390\n",
      "Epoch 6/50\n",
      "189/189 [==============================] - 79s 419ms/step - loss: 0.6500 - accuracy: 0.7419 - val_loss: 0.6247 - val_accuracy: 0.7424\n",
      "Epoch 7/50\n",
      "189/189 [==============================] - 79s 417ms/step - loss: 0.5896 - accuracy: 0.7700 - val_loss: 0.5511 - val_accuracy: 0.7802\n",
      "Epoch 8/50\n",
      "189/189 [==============================] - 81s 426ms/step - loss: 0.5512 - accuracy: 0.7751 - val_loss: 0.6617 - val_accuracy: 0.7218\n",
      "Epoch 9/50\n",
      "189/189 [==============================] - 79s 417ms/step - loss: 0.5059 - accuracy: 0.8079 - val_loss: 0.4745 - val_accuracy: 0.8041\n",
      "Epoch 10/50\n",
      "189/189 [==============================] - 76s 404ms/step - loss: 0.4741 - accuracy: 0.8068 - val_loss: 0.4754 - val_accuracy: 0.8101\n",
      "Epoch 11/50\n",
      "189/189 [==============================] - 78s 412ms/step - loss: 0.4527 - accuracy: 0.8160 - val_loss: 0.4270 - val_accuracy: 0.8181\n",
      "Epoch 12/50\n",
      "189/189 [==============================] - 80s 421ms/step - loss: 0.3829 - accuracy: 0.8543 - val_loss: 0.3181 - val_accuracy: 0.8838\n",
      "Epoch 13/50\n",
      "189/189 [==============================] - 82s 432ms/step - loss: 0.3351 - accuracy: 0.8746 - val_loss: 0.3288 - val_accuracy: 0.8778\n",
      "Epoch 14/50\n",
      "189/189 [==============================] - 79s 415ms/step - loss: 0.2912 - accuracy: 0.8934 - val_loss: 0.1990 - val_accuracy: 0.9276\n",
      "Epoch 15/50\n",
      "189/189 [==============================] - 78s 410ms/step - loss: 0.2206 - accuracy: 0.9182 - val_loss: 0.1900 - val_accuracy: 0.9349\n",
      "Epoch 16/50\n",
      "189/189 [==============================] - 77s 408ms/step - loss: 0.1843 - accuracy: 0.9339 - val_loss: 0.1683 - val_accuracy: 0.9475\n",
      "Epoch 17/50\n",
      "189/189 [==============================] - 78s 412ms/step - loss: 0.1431 - accuracy: 0.9505 - val_loss: 0.2235 - val_accuracy: 0.9236\n",
      "Epoch 18/50\n",
      "189/189 [==============================] - 78s 412ms/step - loss: 0.1443 - accuracy: 0.9467 - val_loss: 0.1037 - val_accuracy: 0.9648\n",
      "Epoch 19/50\n",
      "189/189 [==============================] - 80s 421ms/step - loss: 0.1106 - accuracy: 0.9629 - val_loss: 0.1106 - val_accuracy: 0.9661\n",
      "Epoch 20/50\n",
      "189/189 [==============================] - 79s 416ms/step - loss: 0.1055 - accuracy: 0.9632 - val_loss: 0.2131 - val_accuracy: 0.9197\n",
      "Epoch 21/50\n",
      "189/189 [==============================] - 80s 426ms/step - loss: 0.0895 - accuracy: 0.9682 - val_loss: 0.1291 - val_accuracy: 0.9548\n",
      "Epoch 22/50\n",
      "189/189 [==============================] - 82s 432ms/step - loss: 0.0820 - accuracy: 0.9731 - val_loss: 0.0999 - val_accuracy: 0.9695\n",
      "Epoch 23/50\n",
      "189/189 [==============================] - 81s 429ms/step - loss: 0.0624 - accuracy: 0.9807 - val_loss: 0.0737 - val_accuracy: 0.9781\n",
      "Epoch 24/50\n",
      "189/189 [==============================] - 79s 420ms/step - loss: 0.0785 - accuracy: 0.9744 - val_loss: 0.1015 - val_accuracy: 0.9615\n",
      "Epoch 25/50\n",
      "189/189 [==============================] - 78s 414ms/step - loss: 0.0896 - accuracy: 0.9687 - val_loss: 0.1891 - val_accuracy: 0.9376\n",
      "Epoch 26/50\n",
      "189/189 [==============================] - 76s 403ms/step - loss: 0.0726 - accuracy: 0.9746 - val_loss: 0.1363 - val_accuracy: 0.9568\n",
      "\n",
      "Epoch 00026: ReduceLROnPlateau reducing learning rate to 4.999999873689376e-05.\n",
      "Epoch 27/50\n",
      "189/189 [==============================] - 77s 408ms/step - loss: 0.0628 - accuracy: 0.9793 - val_loss: 0.1930 - val_accuracy: 0.9336\n",
      "Epoch 28/50\n",
      "189/189 [==============================] - 74s 393ms/step - loss: 0.0559 - accuracy: 0.9843 - val_loss: 0.0830 - val_accuracy: 0.9714\n",
      "Epoch 29/50\n",
      "189/189 [==============================] - 77s 408ms/step - loss: 0.0439 - accuracy: 0.9840 - val_loss: 0.0744 - val_accuracy: 0.9734\n",
      "\n",
      "Epoch 00029: ReduceLROnPlateau reducing learning rate to 2.499999936844688e-05.\n",
      "Epoch 30/50\n",
      "189/189 [==============================] - 77s 408ms/step - loss: 0.0379 - accuracy: 0.9877 - val_loss: 0.0918 - val_accuracy: 0.9648\n",
      "Epoch 31/50\n",
      "189/189 [==============================] - 79s 416ms/step - loss: 0.0354 - accuracy: 0.9896 - val_loss: 0.0758 - val_accuracy: 0.9754\n",
      "Epoch 32/50\n",
      "189/189 [==============================] - 77s 405ms/step - loss: 0.0446 - accuracy: 0.9884 - val_loss: 0.0679 - val_accuracy: 0.9774\n",
      "\n",
      "Epoch 00032: ReduceLROnPlateau reducing learning rate to 1.249999968422344e-05.\n",
      "Epoch 33/50\n",
      "189/189 [==============================] - 77s 410ms/step - loss: 0.0304 - accuracy: 0.9894 - val_loss: 0.0531 - val_accuracy: 0.9814\n",
      "Epoch 34/50\n",
      "189/189 [==============================] - 78s 412ms/step - loss: 0.0325 - accuracy: 0.9926 - val_loss: 0.0663 - val_accuracy: 0.9754\n",
      "Epoch 35/50\n",
      "189/189 [==============================] - 75s 396ms/step - loss: 0.0297 - accuracy: 0.9903 - val_loss: 0.0553 - val_accuracy: 0.9821\n",
      "Epoch 36/50\n",
      "189/189 [==============================] - 73s 387ms/step - loss: 0.0370 - accuracy: 0.9885 - val_loss: 0.0666 - val_accuracy: 0.9768\n",
      "Epoch 37/50\n",
      "189/189 [==============================] - 74s 393ms/step - loss: 0.0287 - accuracy: 0.9908 - val_loss: 0.0587 - val_accuracy: 0.9788\n",
      "Epoch 38/50\n",
      "189/189 [==============================] - 76s 401ms/step - loss: 0.0264 - accuracy: 0.9917 - val_loss: 0.0737 - val_accuracy: 0.9728\n",
      "\n",
      "Epoch 00038: ReduceLROnPlateau reducing learning rate to 1e-05.\n",
      "Epoch 39/50\n",
      "189/189 [==============================] - 78s 411ms/step - loss: 0.0247 - accuracy: 0.9918 - val_loss: 0.0638 - val_accuracy: 0.9794\n",
      "Epoch 40/50\n",
      "189/189 [==============================] - 74s 394ms/step - loss: 0.0263 - accuracy: 0.9918 - val_loss: 0.0466 - val_accuracy: 0.9854\n",
      "Epoch 41/50\n",
      "189/189 [==============================] - 74s 392ms/step - loss: 0.0299 - accuracy: 0.9892 - val_loss: 0.0626 - val_accuracy: 0.9794\n",
      "Epoch 42/50\n",
      "189/189 [==============================] - 74s 392ms/step - loss: 0.0296 - accuracy: 0.9909 - val_loss: 0.0504 - val_accuracy: 0.9821\n",
      "Epoch 43/50\n",
      "189/189 [==============================] - 75s 399ms/step - loss: 0.0264 - accuracy: 0.9917 - val_loss: 0.0637 - val_accuracy: 0.9774\n",
      "Epoch 44/50\n",
      "189/189 [==============================] - 75s 397ms/step - loss: 0.0269 - accuracy: 0.9908 - val_loss: 0.0534 - val_accuracy: 0.9841\n",
      "Epoch 45/50\n",
      "189/189 [==============================] - 75s 395ms/step - loss: 0.0294 - accuracy: 0.9908 - val_loss: 0.0372 - val_accuracy: 0.9887\n",
      "Epoch 46/50\n",
      "189/189 [==============================] - 76s 400ms/step - loss: 0.0233 - accuracy: 0.9928 - val_loss: 0.0512 - val_accuracy: 0.9841\n",
      "Epoch 47/50\n",
      "189/189 [==============================] - 75s 399ms/step - loss: 0.0238 - accuracy: 0.9924 - val_loss: 0.0411 - val_accuracy: 0.9847\n",
      "Epoch 48/50\n",
      "189/189 [==============================] - 75s 399ms/step - loss: 0.0289 - accuracy: 0.9898 - val_loss: 0.0525 - val_accuracy: 0.9827\n",
      "Epoch 49/50\n",
      "189/189 [==============================] - 76s 402ms/step - loss: 0.0282 - accuracy: 0.9910 - val_loss: 0.0562 - val_accuracy: 0.9827\n",
      "Epoch 50/50\n",
      "189/189 [==============================] - 76s 401ms/step - loss: 0.0233 - accuracy: 0.9943 - val_loss: 0.0522 - val_accuracy: 0.9814\n"
     ]
    }
   ],
   "source": [
    "# fit the model\n",
    "# Run the cell. It will take some time to execute\n",
    "model_history = my_model.fit(\n",
    "  training_set,\n",
    "  validation_data=test_set,\n",
    "  epochs=50,\n",
    "  callbacks = [learning_rate_reduction],\n",
    "  steps_per_epoch = len(training_set),\n",
    "  validation_steps = len(test_set)  \n",
    ")"
   ]
  },
  {
   "cell_type": "code",
   "execution_count": null,
   "metadata": {
    "colab": {
     "base_uri": "https://localhost:8080/",
     "height": 590
    },
    "id": "uJoFzh6VMrRs",
    "outputId": "0588e2a1-4b65-4162-a745-415d544a2220"
   },
   "outputs": [
    {
     "data": {
      "image/png": "[encoded data removed]",
      "text/plain": [
       "<Figure size 432x288 with 1 Axes>"
      ]
     },
     "metadata": {
      "needs_background": "light",
      "tags": []
     },
     "output_type": "display_data"
    },
    {
     "data": {
      "image/png": "[encoded data removed]",
      "text/plain": [
       "<Figure size 432x288 with 1 Axes>"
      ]
     },
     "metadata": {
      "needs_background": "light",
      "tags": []
     },
     "output_type": "display_data"
    },
    {
     "data": {
      "text/plain": [
       "<Figure size 432x288 with 0 Axes>"
      ]
     },
     "metadata": {
      "tags": []
     },
     "output_type": "display_data"
    }
   ],
   "source": [
    "# plot the loss\n",
    "plt.plot(model_history.history['loss'],'r', label='train loss')\n",
    "plt.plot(model_history.history['val_loss'],'b', label='val loss')\n",
    "plt.title(\"Trainng and Validatin Loss\")\n",
    "plt.xlabel(\"Epoch #\")\n",
    "plt.ylabel(\"Loss\")\n",
    "plt.legend()\n",
    "plt.show()\n",
    "plt.savefig('LossVal_loss')\n",
    "\n",
    "# plot the accuracy\n",
    "plt.plot(model_history.history['accuracy'],'r', label='train acc')\n",
    "plt.plot(model_history.history['val_accuracy'],'b', label='val acc')\n",
    "plt.title(\"Training and Validation Accuracy\")\n",
    "plt.xlabel(\"Epoch #\")\n",
    "plt.ylabel(\"Accuracy\")\n",
    "plt.legend()\n",
    "plt.show()\n",
    "plt.savefig('AccVal_acc')"
   ]
  },
  {
   "cell_type": "code",
   "execution_count": null,
   "metadata": {
    "colab": {
     "base_uri": "https://localhost:8080/"
    },
    "id": "5tX5TqQuCWKo",
    "outputId": "044648c1-a4b0-4592-fb71-212ba5e5d976"
   },
   "outputs": [
    {
     "name": "stdout",
     "output_type": "stream",
     "text": [
      "48/48 [==============================] - 4s 85ms/step - loss: 0.0522 - accuracy: 0.9814\n",
      "189/189 [==============================] - 71s 378ms/step - loss: 0.0189 - accuracy: 0.9934\n"
     ]
    }
   ],
   "source": [
    "loss, accuracy = my_model.evaluate(test_set, verbose=1)\n",
    "t_loss, t_accuracy = my_model.evaluate(training_set, verbose=1)"
   ]
  },
  {
   "cell_type": "code",
   "execution_count": null,
   "metadata": {
    "colab": {
     "base_uri": "https://localhost:8080/"
    },
    "id": "zCE1cI7QfL1h",
    "outputId": "ffaab4aa-3a6c-42fe-f429-ff335218d88f"
   },
   "outputs": [
    {
     "name": "stdout",
     "output_type": "stream",
     "text": [
      "Training: accuracy = 0.993360  ;  Training loss = 0.018924\n",
      "Validation: accuracy = 0.981408  ;  Validation loss = 0.052188\n"
     ]
    }
   ],
   "source": [
    "print(\"Training: accuracy = %f  ;  Training loss = %f\" % (t_accuracy, t_loss))\n",
    "print(\"Validation: accuracy = %f  ;  Validation loss = %f\" % (accuracy, loss))"
   ]
  },
  {
   "cell_type": "code",
   "execution_count": null,
   "metadata": {
    "id": "QTDcvgNkVHD_"
   },
   "outputs": [],
   "source": [
    "# save it as a h5 file\n",
    "from tensorflow.keras.models import load_model\n",
    "\n",
    "my_model = tf.keras.models.load_model('../models/faba_bean_model_4mScratch_2__best.h5')"
   ]
  },
  {
   "cell_type": "code",
   "execution_count": null,
   "metadata": {
    "id": "B4WHDeMPVKml"
   },
   "outputs": [],
   "source": [
    "# open saved model file\n",
    "import tensorflow as tf\n",
    "from tensorflow.keras.models import load_model\n",
    "my_model = tf.keras.models.load_model('../models/faba_bean_model_4mScratch_2__best.h5')"
   ]
  },
  {
   "cell_type": "code",
   "execution_count": null,
   "metadata": {
    "colab": {
     "base_uri": "https://localhost:8080/",
     "height": 311
    },
    "id": "lswRGgjjPoN3",
    "outputId": "90f74662-834a-4c20-fcec-876b3aaf9a59"
   },
   "outputs": [
    {
     "data": {
      "image/png": "[encoded data removed]",
      "text/plain": [
       "<Figure size 432x288 with 2 Axes>"
      ]
     },
     "metadata": {
      "needs_background": "light",
      "tags": []
     },
     "output_type": "display_data"
    }
   ],
   "source": [
    "def plot_confusion_matrix(cm, classes,\n",
    "                          normalize=False,\n",
    "                          title='Confusion matrix',\n",
    "                          cmap=plt.cm.Blues):\n",
    "  \n",
    "    plt.imshow(cm, interpolation='nearest', cmap=cmap)\n",
    "    plt.title(title)\n",
    "    plt.colorbar()\n",
    "    tick_marks = np.arange(len(classes))\n",
    "    plt.xticks(tick_marks, classes, rotation=45)\n",
    "    plt.yticks(tick_marks, classes)\n",
    "\n",
    "    if normalize:\n",
    "        cm = cm.astype('float') / cm.sum(axis=1)[:, np.newaxis]\n",
    "\n",
    "    thresh = cm.max() / 2.\n",
    "    for i, j in itertools.product(range(cm.shape[0]), range(cm.shape[1])):\n",
    "        plt.text(j, i, cm[i, j],\n",
    "                 horizontalalignment=\"center\",\n",
    "                 color=\"white\" if cm[i, j] > thresh else \"black\")\n",
    "\n",
    "    plt.tight_layout()\n",
    "    plt.ylabel('True label')\n",
    "    plt.xlabel('Predicted label')\n",
    "\n",
    "# Get the predicted classes\n",
    "predictions = my_model.predict(test_set,  1506 // 32 + 1)\n",
    "predicted_classes = np.argmax(predictions, axis = 1) \n",
    "\n",
    "# Get ground-truth classes and class-labels\n",
    "true_classes = test_set.classes\n",
    "\n",
    "target_name = ['Chocolate_spot', 'Gal', 'Healthy', 'Rust']\n",
    "\n",
    "confusion_mtx = confusion_matrix(true_classes, predicted_classes)\n",
    "\n",
    "plot_confusion_matrix(confusion_mtx, classes = target_name) "
   ]
  },
  {
   "cell_type": "code",
   "execution_count": null,
   "metadata": {
    "colab": {
     "base_uri": "https://localhost:8080/",
     "height": 296
    },
    "id": "TWYT7EfgPpPy",
    "outputId": "27e2ae5e-1eca-4f76-b8d9-d4aa63dd1ece"
   },
   "outputs": [
    {
     "data": {
      "text/plain": [
       "Text(0, 0.5, 'Fraction classified incorrectly')"
      ]
     },
     "execution_count": 21,
     "metadata": {
      "tags": []
     },
     "output_type": "execute_result"
    },
    {
     "data": {
      "image/png": "[encoded data removed]",
      "text/plain": [
       "<Figure size 432x288 with 1 Axes>"
      ]
     },
     "metadata": {
      "needs_background": "light",
      "tags": []
     },
     "output_type": "display_data"
    }
   ],
   "source": [
    "label_frac_error = 1 - np.diag(confusion_mtx) / np.sum(confusion_mtx, axis=1)\n",
    "plt.bar(np.arange(4),label_frac_error)\n",
    "plt.xlabel('True Label')\n",
    "plt.ylabel('Fraction classified incorrectly')"
   ]
  },
  {
   "cell_type": "code",
   "execution_count": null,
   "metadata": {
    "colab": {
     "base_uri": "https://localhost:8080/"
    },
    "id": "ivx62HgNQdce",
    "outputId": "9e9bd1fb-4f13-41b3-a177-2d5376acc433"
   },
   "outputs": [
    {
     "name": "stdout",
     "output_type": "stream",
     "text": [
      "\n",
      "Classification Report\n",
      "\n",
      "                precision    recall  f1-score   support\n",
      "\n",
      "Checolate_spot       0.99      0.94      0.96       354\n",
      "           gal       0.98      0.98      0.98       380\n",
      "       healthy       0.99      1.00      1.00       380\n",
      "          rust       0.97      1.00      0.98       392\n",
      "\n",
      "      accuracy                           0.98      1506\n",
      "     macro avg       0.98      0.98      0.98      1506\n",
      "  weighted avg       0.98      0.98      0.98      1506\n",
      "\n"
     ]
    }
   ],
   "source": [
    "print('\\nClassification Report\\n')\n",
    "class_labels = ['Chocolate_spot', 'gal', 'healthy', 'rust']\n",
    "report = classification_report(true_classes, predicted_classes, target_names=class_labels)\n",
    "print(report)"
   ]
  }
 ],
 "metadata": {
  "accelerator": "GPU",
  "colab": {
   "collapsed_sections": [],
   "machine_shape": "hm",
   "name": "From Scratch 2_best.ipynb",
   "provenance": []
  },
  "kernelspec": {
   "display_name": "Python 3.10.4 64-bit",
   "language": "python",
   "name": "python3"
  },
  "language_info": {
   "codemirror_mode": {
    "name": "ipython",
    "version": 3
   },
   "file_extension": ".py",
   "mimetype": "text/x-python",
   "name": "python",
   "nbconvert_exporter": "python",
   "pygments_lexer": "ipython3",
   "version": "3.10.4"
  },
  "vscode": {
   "interpreter": {
    "hash": "916dbcbb3f70747c44a77c7bcd40155683ae19c65e1c03b4aa3499c5328201f1"
   }
  }
 },
 "nbformat": 4,
 "nbformat_minor": 1
}
