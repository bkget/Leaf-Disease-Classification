{
 "cells": [
  {
   "cell_type": "markdown",
   "metadata": {
    "id": "lxzWCz1vMrRd"
   },
   "source": [
    "## Transfer Learning InceptionV3 using Keras"
   ]
  },
  {
   "cell_type": "markdown",
   "metadata": {
    "id": "hk2DppQgMrRl"
   },
   "source": [
    "Please download the dataset from the below url"
   ]
  },
  {
   "cell_type": "code",
   "execution_count": null,
   "metadata": {
    "colab": {
     "base_uri": "https://localhost:8080/"
    },
    "id": "oJgHrgYTMrRm",
    "outputId": "ba200981-b362-467a-872d-655381701de0"
   },
   "outputs": [
    {
     "name": "stderr",
     "output_type": "stream",
     "text": [
      "/usr/local/lib/python3.7/dist-packages/tensorflow/python/client/session.py:1761: UserWarning: An interactive session is already active. This can cause out-of-memory errors in some cases. You must explicitly call `InteractiveSession.close()` to release resources held by the other session(s).\n",
      "  warnings.warn('An interactive session is already active. This can '\n"
     ]
    }
   ],
   "source": [
    "from tensorflow.compat.v1 import ConfigProto\n",
    "from tensorflow.compat.v1 import InteractiveSession\n",
    "\n",
    "config = ConfigProto()\n",
    "config.gpu_options.per_process_gpu_memory_fraction = 0.2\n",
    "config.gpu_options.allow_growth = True\n",
    "session = InteractiveSession(config=config)"
   ]
  },
  {
   "cell_type": "code",
   "execution_count": 1,
   "metadata": {
    "id": "TNmnYUzqMrRn"
   },
   "outputs": [],
   "source": [
    "# import the libraries \n",
    "\n",
    "from tensorflow.keras.layers import Input, Dense, Flatten, Dropout, Conv2D, Activation, MaxPool2D\n",
    "from tensorflow.keras.preprocessing.image import ImageDataGenerator,load_img\n",
    "from sklearn.metrics import classification_report, confusion_matrix\n",
    "from tensorflow.keras.models import Model, load_model, Sequential \n",
    "from tensorflow.keras.preprocessing import image\n",
    "from keras.callbacks import ReduceLROnPlateau\n",
    "from tensorflow.keras import backend as K\n",
    "from keras.optimizers import Adam\n",
    "import matplotlib.pyplot as plt\n",
    "import tensorflow as tf\n",
    "from glob import glob\n",
    "import numpy as np\n",
    "import itertools\n",
    "import keras"
   ]
  },
  {
   "cell_type": "code",
   "execution_count": 3,
   "metadata": {
    "id": "EKdLKBcvHRqE"
   },
   "outputs": [],
   "source": [
    "# re-size all the images to this\n",
    "num_classes = 4\n",
    "input_shape = (256, 256, 3)\n",
    "\n",
    "train_path = '../data/train'\n",
    "val_path = '../data/val'"
   ]
  },
  {
   "cell_type": "markdown",
   "metadata": {},
   "source": [
    "I have modified the AlexNet Architecture as of the following diagram."
   ]
  },
  {
   "cell_type": "markdown",
   "metadata": {},
   "source": [
    "<img src=\"https://github.com/bkget/Leaf-Disease-Classification/blob/main/screenshots/AlexNet%20Architecture.jpg?raw=true\" alt=\"Alternative text\"/>"
   ]
  },
  {
   "cell_type": "code",
   "execution_count": null,
   "metadata": {
    "colab": {
     "base_uri": "https://localhost:8080/"
    },
    "id": "BPVDvD4XHTg0",
    "outputId": "740ef203-91cb-4564-d19d-29697fe95188"
   },
   "outputs": [
    {
     "name": "stdout",
     "output_type": "stream",
     "text": [
      "Model: \"sequential_4\"\n",
      "_________________________________________________________________\n",
      "Layer (type)                 Output Shape              Param #   \n",
      "=================================================================\n",
      "conv2d_7 (Conv2D)            (None, 127, 127, 64)      1792      \n",
      "_________________________________________________________________\n",
      "activation_9 (Activation)    (None, 127, 127, 64)      0         \n",
      "_________________________________________________________________\n",
      "max_pooling2d_3 (MaxPooling2 (None, 63, 63, 64)        0         \n",
      "_________________________________________________________________\n",
      "conv2d_8 (Conv2D)            (None, 59, 59, 96)        153696    \n",
      "_________________________________________________________________\n",
      "activation_10 (Activation)   (None, 59, 59, 96)        0         \n",
      "_________________________________________________________________\n",
      "max_pooling2d_4 (MaxPooling2 (None, 29, 29, 96)        0         \n",
      "_________________________________________________________________\n",
      "conv2d_9 (Conv2D)            (None, 28, 28, 128)       49280     \n",
      "_________________________________________________________________\n",
      "activation_11 (Activation)   (None, 28, 28, 128)       0         \n",
      "_________________________________________________________________\n",
      "conv2d_10 (Conv2D)           (None, 26, 26, 128)       147584    \n",
      "_________________________________________________________________\n",
      "activation_12 (Activation)   (None, 26, 26, 128)       0         \n",
      "_________________________________________________________________\n",
      "conv2d_11 (Conv2D)           (None, 26, 26, 64)        8256      \n",
      "_________________________________________________________________\n",
      "activation_13 (Activation)   (None, 26, 26, 64)        0         \n",
      "_________________________________________________________________\n",
      "max_pooling2d_5 (MaxPooling2 (None, 13, 13, 64)        0         \n",
      "_________________________________________________________________\n",
      "dropout_3 (Dropout)          (None, 13, 13, 64)        0         \n",
      "_________________________________________________________________\n",
      "flatten_1 (Flatten)          (None, 10816)             0         \n",
      "_________________________________________________________________\n",
      "dense_3 (Dense)              (None, 2048)              22153216  \n",
      "_________________________________________________________________\n",
      "activation_14 (Activation)   (None, 2048)              0         \n",
      "_________________________________________________________________\n",
      "dropout_4 (Dropout)          (None, 2048)              0         \n",
      "_________________________________________________________________\n",
      "dense_4 (Dense)              (None, 2048)              4196352   \n",
      "_________________________________________________________________\n",
      "activation_15 (Activation)   (None, 2048)              0         \n",
      "_________________________________________________________________\n",
      "dropout_5 (Dropout)          (None, 2048)              0         \n",
      "_________________________________________________________________\n",
      "dense_5 (Dense)              (None, 4)                 8196      \n",
      "_________________________________________________________________\n",
      "activation_16 (Activation)   (None, 4)                 0         \n",
      "=================================================================\n",
      "Total params: 26,718,372\n",
      "Trainable params: 26,718,372\n",
      "Non-trainable params: 0\n",
      "_________________________________________________________________\n"
     ]
    }
   ],
   "source": [
    "chanDim = -1\n",
    "if K.image_data_format() == \"channels_first\":\n",
    "    inputShape =  (3, 256, 256)\n",
    "    chanDim = 1\n",
    "\n",
    "alexnet_model = Sequential()\n",
    "alexnet_model.add(Conv2D(filters=64, input_shape=input_shape, kernel_size=(3, 3), strides=(2,2), padding='valid'))\n",
    "alexnet_model.add(Activation('relu'))\n",
    "alexnet_model.add(MaxPool2D(pool_size=(2,2), strides=(2,2), padding='valid'))\n",
    "\n",
    "#2nd\n",
    "alexnet_model.add(Conv2D(filters=96, kernel_size=(5, 5), strides=(1,1), padding='valid', activity_regularizer=tf.keras.regularizers.l2(0.01)))\n",
    "alexnet_model.add(Activation('relu'))\n",
    "alexnet_model.add(MaxPool2D(pool_size=(2,2), strides=(2,2), padding='valid'))\n",
    "\n",
    "#3rd\n",
    "alexnet_model.add(Conv2D(filters=128, kernel_size=(2,2), strides=(1,1), padding='valid', activity_regularizer=tf.keras.regularizers.l2(0.1)))\n",
    "alexnet_model.add(Activation('relu'))\n",
    "\n",
    "\n",
    "#4th\n",
    "alexnet_model.add(Conv2D(filters=128, kernel_size=(3,3), strides=(1,1), padding='valid', activity_regularizer=tf.keras.regularizers.l2(0.1)))\n",
    "alexnet_model.add(Activation('relu'))\n",
    "\n",
    "#5th\n",
    "alexnet_model.add(Conv2D(filters=64, kernel_size=(1,1), strides=(1,1), padding='valid', activity_regularizer=tf.keras.regularizers.l2(0.1)))\n",
    "alexnet_model.add(Activation('relu'))\n",
    "alexnet_model.add(MaxPool2D(pool_size=(2,2), strides=(2,2), padding='valid'))\n",
    "alexnet_model.add(Dropout(0.4))\n",
    "\n",
    "# Flattening\n",
    "alexnet_model.add(Flatten())\n",
    "\n",
    "# FC layer\n",
    "alexnet_model.add(Dense(2048))\n",
    "alexnet_model.add(Activation('relu'))\n",
    "alexnet_model.add(Dropout(0.5))\n",
    "\n",
    "#2nd FC layer\n",
    "alexnet_model.add(Dense(2048))\n",
    "alexnet_model.add(Activation('relu'))\n",
    "alexnet_model.add(Dropout(0.4))\n",
    "\n",
    "#Output layer\n",
    "alexnet_model.add(Dense(4))\n",
    "alexnet_model.add(Activation('softmax'))\n",
    "\n",
    "alexnet_model.summary()"
   ]
  },
  {
   "cell_type": "code",
   "execution_count": null,
   "metadata": {
    "id": "dz3dtVql2V-b"
   },
   "outputs": [],
   "source": [
    "# Optimization technique \n",
    "\n",
    "opt = Adam(lr=0.0001,beta_1=0.9, beta_2=0.999, epsilon=None, decay=0.0,  amsgrad=False)"
   ]
  },
  {
   "cell_type": "code",
   "execution_count": null,
   "metadata": {
    "id": "IbuVpBPHMrRq"
   },
   "outputs": [],
   "source": [
    "# tell the model what cost and optimization method to use\n",
    "alexnet_model.compile(\n",
    "  loss='categorical_crossentropy',\n",
    "  optimizer = opt,\n",
    "  metrics=['accuracy']\n",
    ")"
   ]
  },
  {
   "cell_type": "code",
   "execution_count": 4,
   "metadata": {
    "id": "kwbLLLc3MrRr"
   },
   "outputs": [],
   "source": [
    "# Use the Image Data Generator to import the images from the dataset\n",
    "\n",
    "train_datagen = ImageDataGenerator(rescale = 1./255,\n",
    "                            #  preprocessing_function = tf.keras.applications.inception_resnet_v2.preprocess_input,\n",
    "                             rotation_range=10,\n",
    "                             zoom_range = 0.1,\n",
    "                             width_shift_range=0.1,\n",
    "                             height_shift_range=0.1,\n",
    "                             horizontal_flip=True,\n",
    "                             shear_range = 0.2, \n",
    "                             vertical_flip=True)\n",
    "\n",
    "test_datagen = ImageDataGenerator(rescale = 1./255)"
   ]
  },
  {
   "cell_type": "code",
   "execution_count": null,
   "metadata": {
    "colab": {
     "base_uri": "https://localhost:8080/"
    },
    "id": "Q-iah8JwMrRr",
    "outputId": "85c945b7-f7b8-439a-ecd1-1c6771139a80"
   },
   "outputs": [
    {
     "name": "stdout",
     "output_type": "stream",
     "text": [
      "Found 6024 images belonging to 4 classes.\n"
     ]
    }
   ],
   "source": [
    "# Make sure you provide the same target size as initialied for the image size\n",
    "training_set = train_datagen.flow_from_directory(train_path,\n",
    "                                                 target_size = (256, 256),\n",
    "                                                 batch_size = 32,\n",
    "                                                 class_mode = 'categorical')"
   ]
  },
  {
   "cell_type": "code",
   "execution_count": 5,
   "metadata": {
    "colab": {
     "base_uri": "https://localhost:8080/"
    },
    "id": "aWmfDCHzMrRr",
    "outputId": "d533e439-286b-482c-851a-eac5e60072ed"
   },
   "outputs": [
    {
     "name": "stdout",
     "output_type": "stream",
     "text": [
      "Found 1506 images belonging to 4 classes.\n"
     ]
    }
   ],
   "source": [
    "test_set = test_datagen.flow_from_directory(val_path,\n",
    "                                            target_size = (256, 256),\n",
    "                                            batch_size = 32,\n",
    "                                            shuffle = False,\n",
    "                                            class_mode = 'categorical')"
   ]
  },
  {
   "cell_type": "code",
   "execution_count": null,
   "metadata": {
    "id": "O1Pe5xza2lh6"
   },
   "outputs": [],
   "source": [
    "# ReduceLROnPlateau - automatically set the LR if no change is detected\n",
    "from keras.callbacks import ReduceLROnPlateau\n",
    "\n",
    "learning_rate_reduction = ReduceLROnPlateau(monitor = 'val_loss', \n",
    "                                             patience = 3, \n",
    "                                             verbose = 1, \n",
    "                                             factor = 0.5, \n",
    "                                             min_lr = 0.00001)"
   ]
  },
  {
   "cell_type": "code",
   "execution_count": null,
   "metadata": {
    "colab": {
     "background_save": true,
     "base_uri": "https://localhost:8080/"
    },
    "id": "mNzCAjw0MrRs",
    "outputId": "df52bd1b-0dc9-4eb9-91ed-04d9002e8d8c",
    "scrolled": true
   },
   "outputs": [
    {
     "name": "stdout",
     "output_type": "stream",
     "text": [
      "Epoch 1/50\n",
      "189/189 [==============================] - 5643s 30s/step - loss: 15.4076 - accuracy: 0.2784 - val_loss: 2.9953 - val_accuracy: 0.4495\n",
      "Epoch 2/50\n",
      "189/189 [==============================] - 83s 441ms/step - loss: 2.1314 - accuracy: 0.4620 - val_loss: 2.0263 - val_accuracy: 0.6076\n",
      "Epoch 3/50\n",
      "189/189 [==============================] - 83s 440ms/step - loss: 1.6717 - accuracy: 0.5698 - val_loss: 1.8620 - val_accuracy: 0.6308\n",
      "Epoch 4/50\n",
      "189/189 [==============================] - 83s 438ms/step - loss: 1.4480 - accuracy: 0.6174 - val_loss: 1.7133 - val_accuracy: 0.6527\n",
      "Epoch 5/50\n",
      "189/189 [==============================] - 83s 439ms/step - loss: 1.3592 - accuracy: 0.6424 - val_loss: 1.6674 - val_accuracy: 0.6441\n",
      "Epoch 6/50\n",
      "189/189 [==============================] - 83s 439ms/step - loss: 1.2933 - accuracy: 0.6518 - val_loss: 1.4919 - val_accuracy: 0.6806\n",
      "Epoch 7/50\n",
      "189/189 [==============================] - 83s 437ms/step - loss: 1.1506 - accuracy: 0.6925 - val_loss: 1.4796 - val_accuracy: 0.6912\n",
      "Epoch 8/50\n",
      "189/189 [==============================] - 83s 440ms/step - loss: 1.2038 - accuracy: 0.6717 - val_loss: 1.5769 - val_accuracy: 0.6288\n",
      "Epoch 9/50\n",
      "189/189 [==============================] - 83s 439ms/step - loss: 1.1610 - accuracy: 0.6859 - val_loss: 1.4891 - val_accuracy: 0.6687\n",
      "Epoch 10/50\n",
      "189/189 [==============================] - 83s 438ms/step - loss: 1.0892 - accuracy: 0.7169 - val_loss: 1.3685 - val_accuracy: 0.6879\n",
      "Epoch 11/50\n",
      "189/189 [==============================] - 83s 439ms/step - loss: 1.0158 - accuracy: 0.7144 - val_loss: 1.1755 - val_accuracy: 0.7603\n",
      "Epoch 12/50\n",
      "189/189 [==============================] - 83s 440ms/step - loss: 0.9327 - accuracy: 0.7648 - val_loss: 1.2121 - val_accuracy: 0.7430\n",
      "Epoch 13/50\n",
      "189/189 [==============================] - 83s 438ms/step - loss: 0.8900 - accuracy: 0.7761 - val_loss: 1.0608 - val_accuracy: 0.7948\n",
      "Epoch 14/50\n",
      "189/189 [==============================] - 83s 437ms/step - loss: 0.8909 - accuracy: 0.7734 - val_loss: 1.2152 - val_accuracy: 0.7145\n",
      "Epoch 15/50\n",
      "189/189 [==============================] - 82s 436ms/step - loss: 0.8072 - accuracy: 0.7965 - val_loss: 1.0553 - val_accuracy: 0.7716\n",
      "Epoch 16/50\n",
      "189/189 [==============================] - 83s 437ms/step - loss: 0.7308 - accuracy: 0.8239 - val_loss: 0.9890 - val_accuracy: 0.7961\n",
      "Epoch 17/50\n",
      "189/189 [==============================] - 83s 439ms/step - loss: 0.6895 - accuracy: 0.8427 - val_loss: 1.1371 - val_accuracy: 0.7610\n",
      "Epoch 18/50\n",
      "189/189 [==============================] - 83s 437ms/step - loss: 0.6652 - accuracy: 0.8474 - val_loss: 1.0849 - val_accuracy: 0.7703\n",
      "Epoch 19/50\n",
      "189/189 [==============================] - 83s 437ms/step - loss: 0.5667 - accuracy: 0.8715 - val_loss: 0.8462 - val_accuracy: 0.8234\n",
      "Epoch 20/50\n",
      "189/189 [==============================] - 83s 438ms/step - loss: 0.5756 - accuracy: 0.8713 - val_loss: 0.8044 - val_accuracy: 0.8718\n",
      "Epoch 21/50\n",
      "189/189 [==============================] - 83s 440ms/step - loss: 0.5920 - accuracy: 0.8672 - val_loss: 0.6838 - val_accuracy: 0.8884\n",
      "Epoch 22/50\n",
      "189/189 [==============================] - 83s 439ms/step - loss: 0.4630 - accuracy: 0.9094 - val_loss: 0.6579 - val_accuracy: 0.8931\n",
      "Epoch 23/50\n",
      "189/189 [==============================] - 83s 438ms/step - loss: 0.4647 - accuracy: 0.9110 - val_loss: 0.7161 - val_accuracy: 0.8811\n",
      "Epoch 24/50\n",
      "189/189 [==============================] - 83s 440ms/step - loss: 0.4638 - accuracy: 0.9122 - val_loss: 0.6507 - val_accuracy: 0.9004\n",
      "Epoch 25/50\n",
      "189/189 [==============================] - 83s 438ms/step - loss: 0.3990 - accuracy: 0.9279 - val_loss: 0.8521 - val_accuracy: 0.8035\n",
      "Epoch 26/50\n",
      "189/189 [==============================] - 83s 438ms/step - loss: 0.4268 - accuracy: 0.9173 - val_loss: 0.5051 - val_accuracy: 0.9396\n",
      "Epoch 27/50\n",
      "189/189 [==============================] - 83s 437ms/step - loss: 0.3754 - accuracy: 0.9332 - val_loss: 0.6477 - val_accuracy: 0.8977\n",
      "Epoch 28/50\n",
      "189/189 [==============================] - 83s 439ms/step - loss: 0.4007 - accuracy: 0.9323 - val_loss: 0.5566 - val_accuracy: 0.9203\n",
      "Epoch 29/50\n",
      "189/189 [==============================] - 83s 437ms/step - loss: 0.3951 - accuracy: 0.9277 - val_loss: 0.5942 - val_accuracy: 0.9050\n",
      "\n",
      "Epoch 00029: ReduceLROnPlateau reducing learning rate to 4.999999873689376e-05.\n",
      "Epoch 30/50\n",
      "189/189 [==============================] - 83s 437ms/step - loss: 0.2804 - accuracy: 0.9637 - val_loss: 0.4481 - val_accuracy: 0.9416\n",
      "Epoch 31/50\n",
      "189/189 [==============================] - 83s 437ms/step - loss: 0.2660 - accuracy: 0.9668 - val_loss: 0.4372 - val_accuracy: 0.9436\n",
      "Epoch 32/50\n",
      "189/189 [==============================] - 83s 439ms/step - loss: 0.2672 - accuracy: 0.9628 - val_loss: 0.4814 - val_accuracy: 0.9309\n",
      "Epoch 33/50\n",
      "189/189 [==============================] - 83s 437ms/step - loss: 0.2447 - accuracy: 0.9692 - val_loss: 0.4294 - val_accuracy: 0.9436\n",
      "Epoch 34/50\n",
      "189/189 [==============================] - 83s 438ms/step - loss: 0.2727 - accuracy: 0.9515 - val_loss: 0.4166 - val_accuracy: 0.9389\n",
      "Epoch 35/50\n",
      "189/189 [==============================] - 83s 439ms/step - loss: 0.2704 - accuracy: 0.9555 - val_loss: 0.5265 - val_accuracy: 0.8997\n",
      "Epoch 36/50\n",
      "189/189 [==============================] - 83s 438ms/step - loss: 0.2396 - accuracy: 0.9698 - val_loss: 0.4009 - val_accuracy: 0.9515\n",
      "Epoch 37/50\n",
      "189/189 [==============================] - 83s 439ms/step - loss: 0.2663 - accuracy: 0.9527 - val_loss: 0.8809 - val_accuracy: 0.7975\n",
      "Epoch 38/50\n",
      "189/189 [==============================] - 83s 438ms/step - loss: 0.2431 - accuracy: 0.9649 - val_loss: 0.5423 - val_accuracy: 0.8911\n",
      "Epoch 39/50\n",
      "189/189 [==============================] - 83s 439ms/step - loss: 0.2468 - accuracy: 0.9599 - val_loss: 0.5713 - val_accuracy: 0.8765\n",
      "\n",
      "Epoch 00039: ReduceLROnPlateau reducing learning rate to 2.499999936844688e-05.\n",
      "Epoch 40/50\n",
      "189/189 [==============================] - 83s 439ms/step - loss: 0.2297 - accuracy: 0.9650 - val_loss: 0.4164 - val_accuracy: 0.9349\n",
      "Epoch 41/50\n",
      "189/189 [==============================] - 83s 438ms/step - loss: 0.2129 - accuracy: 0.9718 - val_loss: 0.3693 - val_accuracy: 0.9529\n",
      "Epoch 42/50\n",
      "189/189 [==============================] - 83s 439ms/step - loss: 0.2109 - accuracy: 0.9689 - val_loss: 0.3725 - val_accuracy: 0.9469\n",
      "Epoch 43/50\n",
      "189/189 [==============================] - 83s 440ms/step - loss: 0.1884 - accuracy: 0.9804 - val_loss: 0.3830 - val_accuracy: 0.9469\n",
      "Epoch 44/50\n",
      "189/189 [==============================] - 83s 437ms/step - loss: 0.1869 - accuracy: 0.9788 - val_loss: 0.3353 - val_accuracy: 0.9575\n",
      "Epoch 45/50\n",
      "189/189 [==============================] - 83s 438ms/step - loss: 0.1853 - accuracy: 0.9782 - val_loss: 0.3863 - val_accuracy: 0.9442\n",
      "Epoch 46/50\n",
      "189/189 [==============================] - 83s 437ms/step - loss: 0.1932 - accuracy: 0.9733 - val_loss: 0.3626 - val_accuracy: 0.9442\n",
      "Epoch 47/50\n",
      "189/189 [==============================] - 83s 439ms/step - loss: 0.1935 - accuracy: 0.9745 - val_loss: 0.3753 - val_accuracy: 0.9475\n",
      "\n",
      "Epoch 00047: ReduceLROnPlateau reducing learning rate to 1.249999968422344e-05.\n",
      "Epoch 48/50\n",
      "189/189 [==============================] - 83s 438ms/step - loss: 0.1743 - accuracy: 0.9804 - val_loss: 0.4095 - val_accuracy: 0.9283\n",
      "Epoch 49/50\n",
      "189/189 [==============================] - 83s 439ms/step - loss: 0.1657 - accuracy: 0.9819 - val_loss: 0.3022 - val_accuracy: 0.9701\n",
      "Epoch 50/50\n",
      "189/189 [==============================] - 83s 437ms/step - loss: 0.1603 - accuracy: 0.9864 - val_loss: 0.3565 - val_accuracy: 0.9542\n"
     ]
    }
   ],
   "source": [
    "# fit the model\n",
    "# Run the cell. It will take some time to execute\n",
    "model_history = alexnet_model.fit(\n",
    "  training_set,\n",
    "  validation_data=test_set,\n",
    "  epochs=50,\n",
    "  callbacks = [learning_rate_reduction],\n",
    "  steps_per_epoch = len(training_set),\n",
    "  validation_steps = len(test_set)  \n",
    ")"
   ]
  },
  {
   "cell_type": "code",
   "execution_count": null,
   "metadata": {
    "colab": {
     "background_save": true
    },
    "id": "uJoFzh6VMrRs",
    "outputId": "c7dccf93-b9db-40c2-c7a4-d5a31ce5abc3"
   },
   "outputs": [
    {
     "data": {
      "image/png": "[encoded data removed]",
      "text/plain": [
       "<Figure size 432x288 with 1 Axes>"
      ]
     },
     "metadata": {
      "tags": []
     },
     "output_type": "display_data"
    },
    {
     "data": {
      "image/png": "[encoded data removed]",
      "text/plain": [
       "<Figure size 432x288 with 1 Axes>"
      ]
     },
     "metadata": {
      "tags": []
     },
     "output_type": "display_data"
    },
    {
     "data": {
      "text/plain": [
       "<Figure size 432x288 with 0 Axes>"
      ]
     },
     "metadata": {
      "tags": []
     },
     "output_type": "display_data"
    }
   ],
   "source": [
    "# plot the loss\n",
    "plt.plot(model_history.history['loss'],'r', label='train loss')\n",
    "plt.plot(model_history.history['val_loss'],'b', label='val loss')\n",
    "plt.title(\"Trainng and Validatin Loss\")\n",
    "plt.xlabel(\"Epoch #\")\n",
    "plt.ylabel(\"Loss\")\n",
    "plt.legend()\n",
    "plt.show()\n",
    "plt.savefig('LossVal_loss')\n",
    "\n",
    "# plot the accuracy\n",
    "plt.plot(model_history.history['accuracy'],'r', label='train acc')\n",
    "plt.plot(model_history.history['val_accuracy'],'b', label='val acc')\n",
    "plt.title(\"Training and Validation Accuracy\")\n",
    "plt.xlabel(\"Epoch #\")\n",
    "plt.ylabel(\"Accuracy\")\n",
    "plt.legend()\n",
    "plt.show()\n",
    "plt.savefig('AccVal_acc')"
   ]
  },
  {
   "cell_type": "code",
   "execution_count": null,
   "metadata": {
    "id": "5tX5TqQuCWKo"
   },
   "outputs": [],
   "source": [
    "#loss, accuracy = alexnet_model.evaluate(x_test, y_test, verbose=1)\n",
    "loss, accuracy = alexnet_model.evaluate(test_set, verbose=1)\n",
    "# loss_v, accuracy_v = alexnet_model.evaluate(x_validate, y_validate, verbose=1)\n",
    "t_loss, t_accuracy = alexnet_model.evaluate(training_set, verbose=1)"
   ]
  },
  {
   "cell_type": "code",
   "execution_count": null,
   "metadata": {
    "colab": {
     "background_save": true
    },
    "id": "zCE1cI7QfL1h",
    "outputId": "09ebc3b2-2da9-4536-cbdc-475d398ba6d4"
   },
   "outputs": [
    {
     "name": "stdout",
     "output_type": "stream",
     "text": [
      "Training: accuracy = 0.985226  ;  loss_v = 0.158497\n",
      "Validation: accuracy = 0.954183  ;  loss = 0.356474\n"
     ]
    }
   ],
   "source": [
    "print(\"Training: accuracy = %f  ;  loss_v = %f\" % (t_accuracy, t_loss))\n",
    "print(\"Validation: accuracy = %f  ;  loss = %f\" % (accuracy, loss))"
   ]
  },
  {
   "cell_type": "code",
   "execution_count": null,
   "metadata": {
    "colab": {
     "background_save": true
    },
    "id": "QTDcvgNkVHD_"
   },
   "outputs": [],
   "source": [
    "# save it as a h5 file\n",
    "\n",
    "alexnet_model = keras.models.load_model('../models/faba_bean_model_modified_AlexNet.h5')"
   ]
  },
  {
   "cell_type": "code",
   "execution_count": 6,
   "metadata": {
    "id": "B4WHDeMPVKml"
   },
   "outputs": [],
   "source": [
    "# open saved model file\n",
    "\n",
    "alexnet_model = keras.models.load_model('../models/faba_bean_model_modified_AlexNet.h5')"
   ]
  },
  {
   "cell_type": "code",
   "execution_count": 7,
   "metadata": {
    "colab": {
     "base_uri": "https://localhost:8080/",
     "height": 311
    },
    "id": "tK5VX5IFB3VZ",
    "outputId": "c3d12ac1-01de-4958-b6da-779e2eb5f142"
   },
   "outputs": [
    {
     "data": {
      "image/png": "[encoded data removed]",
      "text/plain": [
       "<Figure size 432x288 with 2 Axes>"
      ]
     },
     "metadata": {
      "needs_background": "light",
      "tags": []
     },
     "output_type": "display_data"
    }
   ],
   "source": [
    "def plot_confusion_matrix(cm, classes,\n",
    "                          normalize=False,\n",
    "                          title='Confusion matrix',\n",
    "                          cmap=plt.cm.Blues):\n",
    "  \n",
    "    plt.imshow(cm, interpolation='nearest', cmap=cmap)\n",
    "    plt.title(title)\n",
    "    plt.colorbar()\n",
    "    tick_marks = np.arange(len(classes))\n",
    "    plt.xticks(tick_marks, classes, rotation=45)\n",
    "    plt.yticks(tick_marks, classes)\n",
    "    \n",
    "    if normalize:\n",
    "        cm = cm.astype('float') / cm.sum(axis=1)[:, np.newaxis]\n",
    "\n",
    "    thresh = cm.max() / 2.\n",
    "    for i, j in itertools.product(range(cm.shape[0]), range(cm.shape[1])):\n",
    "        plt.text(j, i, cm[i, j],\n",
    "                 horizontalalignment=\"center\",\n",
    "                 color=\"white\" if cm[i, j] > thresh else \"black\")\n",
    "\n",
    "    plt.tight_layout()\n",
    "    plt.ylabel('True label')\n",
    "    plt.xlabel('Predicted label')\n",
    "\n",
    "# Get the predicted classes\n",
    "predictions = alexnet_model.predict(test_set,  1604 // 32 + 1)\n",
    "predicted_classes = np.argmax(predictions, axis = 1) \n",
    "\n",
    "# Get ground-truth classes and class-labels\n",
    "true_classes = test_set.classes\n",
    "\n",
    "target_name = ['Checolate_spot', 'Gal', 'Healthy', 'Rust']\n",
    "\n",
    "confusion_mtx = confusion_matrix(true_classes, predicted_classes)\n",
    "\n",
    "plot_confusion_matrix(confusion_mtx, classes = target_name) "
   ]
  },
  {
   "cell_type": "code",
   "execution_count": 8,
   "metadata": {
    "colab": {
     "base_uri": "https://localhost:8080/",
     "height": 297
    },
    "id": "_mTEkRXVBztZ",
    "outputId": "aee18d64-f84d-40c1-cb77-5f5d460b4b6c"
   },
   "outputs": [
    {
     "data": {
      "text/plain": [
       "Text(0, 0.5, 'Fraction classified incorrectly')"
      ]
     },
     "execution_count": 8,
     "metadata": {
      "tags": []
     },
     "output_type": "execute_result"
    },
    {
     "data": {
      "image/png": "[encoded data removed]",
      "text/plain": [
       "<Figure size 432x288 with 1 Axes>"
      ]
     },
     "metadata": {
      "needs_background": "light",
      "tags": []
     },
     "output_type": "display_data"
    }
   ],
   "source": [
    "label_frac_error = 1 - np.diag(confusion_mtx) / np.sum(confusion_mtx, axis=1)\n",
    "plt.bar(np.arange(4),label_frac_error)\n",
    "plt.xlabel('True Label')\n",
    "plt.ylabel('Fraction classified incorrectly')"
   ]
  },
  {
   "cell_type": "code",
   "execution_count": 9,
   "metadata": {
    "colab": {
     "base_uri": "https://localhost:8080/"
    },
    "id": "jwTANTc0B0-p",
    "outputId": "9356e1b3-7f46-498f-8893-348521fdd021"
   },
   "outputs": [
    {
     "name": "stdout",
     "output_type": "stream",
     "text": [
      "\n",
      "Classification Report\n",
      "\n",
      "                precision    recall  f1-score   support\n",
      "\n",
      "Checolate_spot       0.98      0.89      0.93       354\n",
      "           gal       0.89      0.99      0.94       380\n",
      "       healthy       0.97      0.98      0.98       380\n",
      "          rust       0.99      0.95      0.97       392\n",
      "\n",
      "      accuracy                           0.95      1506\n",
      "     macro avg       0.96      0.95      0.95      1506\n",
      "  weighted avg       0.96      0.95      0.95      1506\n",
      "\n"
     ]
    }
   ],
   "source": [
    "print('\\nClassification Report\\n')\n",
    "class_labels = ['Checolate_spot', 'gal', 'healthy', 'rust']\n",
    "report = classification_report(true_classes, predicted_classes, target_names=class_labels)\n",
    "print(report)"
   ]
  }
 ],
 "metadata": {
  "accelerator": "GPU",
  "colab": {
   "collapsed_sections": [],
   "machine_shape": "hm",
   "name": "Transfer Learnining using Modified AlexNet.ipynb",
   "provenance": []
  },
  "kernelspec": {
   "display_name": "Python 3.10.4 64-bit",
   "language": "python",
   "name": "python3"
  },
  "language_info": {
   "codemirror_mode": {
    "name": "ipython",
    "version": 3
   },
   "file_extension": ".py",
   "mimetype": "text/x-python",
   "name": "python",
   "nbconvert_exporter": "python",
   "pygments_lexer": "ipython3",
   "version": "3.10.4"
  },
  "vscode": {
   "interpreter": {
    "hash": "916dbcbb3f70747c44a77c7bcd40155683ae19c65e1c03b4aa3499c5328201f1"
   }
  }
 },
 "nbformat": 4,
 "nbformat_minor": 1
}
